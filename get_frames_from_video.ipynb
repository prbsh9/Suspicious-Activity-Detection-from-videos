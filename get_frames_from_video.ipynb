{
  "nbformat": 4,
  "nbformat_minor": 0,
  "metadata": {
    "colab": {
      "name": "get_frames_from_video.ipynb",
      "provenance": [],
      "collapsed_sections": [],
      "toc_visible": true,
      "authorship_tag": "ABX9TyPE9NF21mqSTDWokxd8W0CN",
      "include_colab_link": true
    },
    "kernelspec": {
      "name": "python3",
      "display_name": "Python 3"
    }
  },
  "cells": [
    {
      "cell_type": "markdown",
      "metadata": {
        "id": "view-in-github",
        "colab_type": "text"
      },
      "source": [
        "<a href=\"https://colab.research.google.com/github/prbsh9/Suspicious-Activity-Detection-from-videos/blob/master/get_frames_from_video.ipynb\" target=\"_parent\"><img src=\"https://colab.research.google.com/assets/colab-badge.svg\" alt=\"Open In Colab\"/></a>"
      ]
    },
    {
      "cell_type": "code",
      "metadata": {
        "id": "8HfScZwlzrEF",
        "colab_type": "code",
        "outputId": "b8683b87-ad5c-4187-cf51-1adf8ebcc91e",
        "colab": {
          "base_uri": "https://localhost:8080/",
          "height": 34
        }
      },
      "source": [
        "!pip install ffprobe"
      ],
      "execution_count": 0,
      "outputs": [
        {
          "output_type": "stream",
          "text": [
            "Requirement already satisfied: ffprobe in /usr/local/lib/python3.6/dist-packages (0.5)\n"
          ],
          "name": "stdout"
        }
      ]
    },
    {
      "cell_type": "markdown",
      "metadata": {
        "id": "N-XQtfEMzroe",
        "colab_type": "text"
      },
      "source": [
        "# Importing stuffs"
      ]
    },
    {
      "cell_type": "code",
      "metadata": {
        "id": "Gb1Im3EFzw9M",
        "colab_type": "code",
        "colab": {}
      },
      "source": [
        "from google.colab import drive\n",
        "import os\n",
        "import subprocess"
      ],
      "execution_count": 0,
      "outputs": []
    },
    {
      "cell_type": "code",
      "metadata": {
        "id": "AlfbNwpJzpjF",
        "colab_type": "code",
        "outputId": "b1889b1c-4b8b-4bfa-c600-9da8d55a7920",
        "colab": {
          "base_uri": "https://localhost:8080/",
          "height": 52
        }
      },
      "source": [
        "drive.mount('/drive')\n",
        "path = '/drive/My Drive/suspicious_activity/content/'\n",
        "os.chdir(path)\n",
        "os.getcwd()"
      ],
      "execution_count": 0,
      "outputs": [
        {
          "output_type": "stream",
          "text": [
            "Drive already mounted at /drive; to attempt to forcibly remount, call drive.mount(\"/drive\", force_remount=True).\n"
          ],
          "name": "stdout"
        },
        {
          "output_type": "execute_result",
          "data": {
            "text/plain": [
              "'/drive/My Drive/suspicious_activity/content'"
            ]
          },
          "metadata": {
            "tags": []
          },
          "execution_count": 85
        }
      ]
    },
    {
      "cell_type": "markdown",
      "metadata": {
        "id": "_ay8pFDU3emJ",
        "colab_type": "text"
      },
      "source": [
        "## Changing path "
      ]
    },
    {
      "cell_type": "code",
      "metadata": {
        "id": "NmGo2Ztu1NLY",
        "colab_type": "code",
        "colab": {}
      },
      "source": [
        "path = '/drive/My Drive/suspicious_activity/content/allVideoData'\n",
        "os.chdir(path)"
      ],
      "execution_count": 0,
      "outputs": []
    },
    {
      "cell_type": "markdown",
      "metadata": {
        "id": "ZEad0G7t3j84",
        "colab_type": "text"
      },
      "source": [
        "# Hajime Mashite"
      ]
    },
    {
      "cell_type": "code",
      "metadata": {
        "id": "bht7UkObzEeu",
        "colab_type": "code",
        "colab": {}
      },
      "source": [
        "\n",
        "# def get_length(input_video):\n",
        "  \n",
        "#   result = subprocess.run(['ffprobe', '-v', 'error', '-show_entries', 'format=duration', '-of', 'default=noprint_wrappers=1:nokey=1', input_video], stdout=subprocess.PIPE, stderr=subprocess.STDOUT)\n",
        "#   return float(result.stdout)\n",
        "# path = '/drive/My Drive/suspicious_activity/content/frameEasy/Normal_Videos_006_x264.mp4'\n",
        "# get_length(path)"
      ],
      "execution_count": 0,
      "outputs": []
    },
    {
      "cell_type": "code",
      "metadata": {
        "id": "wDYFNgJDyVJS",
        "colab_type": "code",
        "colab": {}
      },
      "source": [
        "import os\n",
        "import cv2\n",
        "\n",
        "def extractImages(pathIn, pathOut):\n",
        "    print(pathIn)\n",
        "    count = 1\n",
        "    vidcap = cv2.VideoCapture(pathIn)\n",
        "    success,image = vidcap.read()\n",
        "    success = True\n",
        "    vid_length = get_length(pathIn) \n",
        "    while count < (vid_length//10) and success:\n",
        "        vidcap.set(cv2.CAP_PROP_POS_MSEC,(count*10000))    # added this line \n",
        "        success,image = vidcap.read()\n",
        "        cv2.imwrite(os.path.join(pathOut + \" {}.jpg\".format(count)), image)     # save frame as JPEG file\n",
        "        count = count + 1\n",
        "    "
      ],
      "execution_count": 0,
      "outputs": []
    },
    {
      "cell_type": "code",
      "metadata": {
        "id": "WUWt4oqvinIV",
        "colab_type": "code",
        "outputId": "37110f80-c44b-4e9e-da24-631da0f44bbc",
        "colab": {
          "base_uri": "https://localhost:8080/",
          "height": 34
        }
      },
      "source": [
        "os.getcwd()"
      ],
      "execution_count": 0,
      "outputs": [
        {
          "output_type": "execute_result",
          "data": {
            "text/plain": [
              "'/drive/My Drive/suspicious_activity/small_one/train/Abnormal'"
            ]
          },
          "metadata": {
            "tags": []
          },
          "execution_count": 6
        }
      ]
    },
    {
      "cell_type": "code",
      "metadata": {
        "id": "7V7-bb2z84ZL",
        "colab_type": "code",
        "outputId": "81d7dbf0-8b91-4d76-9760-5b0ff20347f6",
        "colab": {
          "base_uri": "https://localhost:8080/",
          "height": 212
        }
      },
      "source": [
        "import shutil\n",
        "os.chdir( '/drive/My Drive/suspicious_activity/small_one/valid/Abnormal/')\n",
        "# !ls -l . | egrep -c '^-'"
      ],
      "execution_count": 0,
      "outputs": [
        {
          "output_type": "stream",
          "text": [
            "RoadAccidents145_x264 1.jpg\n",
            "RoadAccidents003_x264 1.jpg\n",
            "RoadAccidents003_x264 2.jpg\n",
            "RoadAccidents149_x264 3.jpg\n",
            "RoadAccidents149_x264 4.jpg\n",
            "RoadAccidents149_x264 6.jpg\n",
            "RoadAccidents150_x264 3.jpg\n",
            "RoadAccidents150_x264 4.jpg\n",
            "RoadAccidents151_x264 1.jpg\n",
            "RoadAccidents145_x264 2.jpg\n"
          ],
          "name": "stdout"
        },
        {
          "output_type": "execute_result",
          "data": {
            "text/plain": [
              "0"
            ]
          },
          "metadata": {
            "tags": []
          },
          "execution_count": 11
        }
      ]
    },
    {
      "cell_type": "code",
      "metadata": {
        "id": "Q1fqGoAQ3QYa",
        "colab_type": "code",
        "outputId": "75613cc2-5e2d-4cf5-c832-4d03b2b09f6c",
        "colab": {
          "base_uri": "https://localhost:8080/",
          "height": 1000
        }
      },
      "source": [
        "os.chdir('RoadAccidents')\n",
        "\n",
        "for videos in os.listdir():\n",
        "\textractImages(  videos, '/drive/My Drive/suspicious_activity/small_one/train/Abnormal/'+ videos[:-4])\n"
      ],
      "execution_count": 0,
      "outputs": [
        {
          "output_type": "stream",
          "text": [
            "RoadAccidents145_x264.mp4\n",
            "RoadAccidents003_x264.mp4\n",
            "RoadAccidents004_x264.mp4\n",
            "RoadAccidents005_x264.mp4\n",
            "RoadAccidents006_x264.mp4\n",
            "RoadAccidents007_x264.mp4\n",
            "RoadAccidents008_x264.mp4\n",
            "RoadAccidents009_x264.mp4\n",
            "RoadAccidents010_x264.mp4\n",
            "RoadAccidents011_x264.mp4\n",
            "RoadAccidents012_x264.mp4\n",
            "RoadAccidents013_x264.mp4\n",
            "RoadAccidents014_x264.mp4\n",
            "RoadAccidents015_x264.mp4\n",
            "RoadAccidents016_x264.mp4\n",
            "RoadAccidents017_x264.mp4\n",
            "RoadAccidents018_x264.mp4\n",
            "RoadAccidents019_x264.mp4\n",
            "RoadAccidents020_x264.mp4\n",
            "RoadAccidents021_x264.mp4\n",
            "RoadAccidents022_x264.mp4\n",
            "RoadAccidents023_x264.mp4\n",
            "RoadAccidents024_x264.mp4\n",
            "RoadAccidents025_x264.mp4\n",
            "RoadAccidents026_x264.mp4\n",
            "RoadAccidents027_x264.mp4\n",
            "RoadAccidents028_x264.mp4\n",
            "RoadAccidents029_x264.mp4\n",
            "RoadAccidents032_x264.mp4\n",
            "RoadAccidents034_x264.mp4\n",
            "RoadAccidents002_x264.mp4\n",
            "RoadAccidents036_x264.mp4\n",
            "RoadAccidents037_x264.mp4\n",
            "RoadAccidents038_x264.mp4\n",
            "RoadAccidents146_x264.mp4\n",
            "RoadAccidents042_x264.mp4\n",
            "RoadAccidents083_x264.mp4\n",
            "RoadAccidents044_x264.mp4\n",
            "RoadAccidents147_x264.mp4\n",
            "RoadAccidents148_x264.mp4\n",
            "RoadAccidents089_x264.mp4\n",
            "RoadAccidents087_x264.mp4\n",
            "RoadAccidents091_x264.mp4\n",
            "RoadAccidents094_x264.mp4\n",
            "RoadAccidents095_x264.mp4\n",
            "RoadAccidents096_x264.mp4\n",
            "RoadAccidents097_x264.mp4\n",
            "RoadAccidents046_x264.mp4\n",
            "RoadAccidents047_x264.mp4\n",
            "RoadAccidents048_x264.mp4\n",
            "RoadAccidents050_x264.mp4\n",
            "RoadAccidents051_x264.mp4\n",
            "RoadAccidents052_x264.mp4\n",
            "RoadAccidents053_x264.mp4\n",
            "RoadAccidents054_x264.mp4\n",
            "RoadAccidents069_x264.mp4\n",
            "RoadAccidents055_x264.mp4\n",
            "RoadAccidents057_x264.mp4\n",
            "RoadAccidents058_x264.mp4\n",
            "RoadAccidents071_x264.mp4\n",
            "RoadAccidents072_x264.mp4\n",
            "RoadAccidents073_x264.mp4\n",
            "RoadAccidents149_x264.mp4\n",
            "RoadAccidents061_x264.mp4\n",
            "RoadAccidents074_x264.mp4\n",
            "RoadAccidents075_x264.mp4\n",
            "RoadAccidents076_x264.mp4\n",
            "RoadAccidents062_x264.mp4\n",
            "RoadAccidents064_x264.mp4\n",
            "RoadAccidents077_x264.mp4\n",
            "RoadAccidents078_x264.mp4\n",
            "RoadAccidents066_x264.mp4\n",
            "RoadAccidents080_x264.mp4\n",
            "RoadAccidents067_x264.mp4\n",
            "RoadAccidents081_x264.mp4\n",
            "RoadAccidents098_x264.mp4\n",
            "RoadAccidents100_x264.mp4\n",
            "RoadAccidents150_x264.mp4\n",
            "RoadAccidents103_x264.mp4\n",
            "RoadAccidents104_x264.mp4\n",
            "RoadAccidents107_x264.mp4\n",
            "RoadAccidents105_x264.mp4\n",
            "RoadAccidents106_x264.mp4\n",
            "RoadAccidents110_x264.mp4\n",
            "RoadAccidents111_x264.mp4\n",
            "RoadAccidents112_x264.mp4\n",
            "RoadAccidents113_x264.mp4\n",
            "RoadAccidents115_x264.mp4\n",
            "RoadAccidents116_x264.mp4\n",
            "RoadAccidents117_x264.mp4\n",
            "RoadAccidents118_x264.mp4\n",
            "RoadAccidents119_x264.mp4\n",
            "RoadAccidents120_x264.mp4\n",
            "RoadAccidents121_x264.mp4\n",
            "RoadAccidents122_x264.mp4\n",
            "RoadAccidents123_x264.mp4\n",
            "RoadAccidents124_x264.mp4\n",
            "RoadAccidents126_x264.mp4\n",
            "RoadAccidents128_x264.mp4\n",
            "RoadAccidents129_x264.mp4\n",
            "RoadAccidents135_x264.mp4\n",
            "RoadAccidents137_x264.mp4\n",
            "RoadAccidents138_x264.mp4\n",
            "RoadAccidents139_x264.mp4\n",
            "RoadAccidents141_x264.mp4\n",
            "RoadAccidents143_x264.mp4\n",
            "RoadAccidents001_x264.mp4\n",
            "RoadAccidents030_x264.mp4\n",
            "RoadAccidents031_x264.mp4\n",
            "RoadAccidents033_x264.mp4\n",
            "RoadAccidents035_x264.mp4\n",
            "RoadAccidents039_x264.mp4\n",
            "RoadAccidents040_x264.mp4\n",
            "RoadAccidents041_x264.mp4\n",
            "RoadAccidents084_x264.mp4\n",
            "RoadAccidents043_x264.mp4\n",
            "RoadAccidents085_x264.mp4\n",
            "RoadAccidents092_x264.mp4\n",
            "RoadAccidents086_x264.mp4\n",
            "RoadAccidents093_x264.mp4\n",
            "RoadAccidents090_x264.mp4\n",
            "RoadAccidents049_x264.mp4\n",
            "RoadAccidents068_x264.mp4\n",
            "RoadAccidents056_x264.mp4\n",
            "RoadAccidents070_x264.mp4\n",
            "RoadAccidents059_x264.mp4\n",
            "RoadAccidents060_x264.mp4\n",
            "RoadAccidents063_x264.mp4\n",
            "RoadAccidents065_x264.mp4\n",
            "RoadAccidents079_x264.mp4\n",
            "RoadAccidents082_x264.mp4\n",
            "RoadAccidents099_x264.mp4\n",
            "RoadAccidents101_x264.mp4\n",
            "RoadAccidents102_x264.mp4\n",
            "RoadAccidents108_x264.mp4\n",
            "RoadAccidents109_x264.mp4\n",
            "RoadAccidents114_x264.mp4\n",
            "RoadAccidents125_x264.mp4\n",
            "RoadAccidents127_x264.mp4\n",
            "RoadAccidents132_x264.mp4\n",
            "RoadAccidents133_x264.mp4\n",
            "RoadAccidents134_x264.mp4\n",
            "RoadAccidents136_x264.mp4\n",
            "RoadAccidents140_x264.mp4\n",
            "RoadAccidents142_x264.mp4\n",
            "RoadAccidents144_x264.mp4\n",
            "RoadAccidents088_x264.mp4\n",
            "RoadAccidents130_x264.mp4\n",
            "RoadAccidents131_x264.mp4\n",
            "RoadAccidents151_x264.mp4\n"
          ],
          "name": "stdout"
        }
      ]
    },
    {
      "cell_type": "code",
      "metadata": {
        "id": "w20yeknZ7o2y",
        "colab_type": "code",
        "outputId": "d6fb89ed-3c1d-49cb-d476-834975bf01ed",
        "colab": {
          "base_uri": "https://localhost:8080/",
          "height": 34
        }
      },
      "source": [
        "5//2"
      ],
      "execution_count": 0,
      "outputs": [
        {
          "output_type": "execute_result",
          "data": {
            "text/plain": [
              "2"
            ]
          },
          "metadata": {
            "tags": []
          },
          "execution_count": 50
        }
      ]
    },
    {
      "cell_type": "code",
      "metadata": {
        "id": "KV8_gGWC5KH3",
        "colab_type": "code",
        "outputId": "a4b23199-2613-4e68-f5e0-27595a8b2050",
        "colab": {
          "base_uri": "https://localhost:8080/",
          "height": 34
        }
      },
      "source": [
        "12.911 //3"
      ],
      "execution_count": 0,
      "outputs": [
        {
          "output_type": "execute_result",
          "data": {
            "text/plain": [
              "4.0"
            ]
          },
          "metadata": {
            "tags": []
          },
          "execution_count": 53
        }
      ]
    },
    {
      "cell_type": "code",
      "metadata": {
        "id": "E7qXDs5t8Da0",
        "colab_type": "code",
        "colab": {}
      },
      "source": [
        ""
      ],
      "execution_count": 0,
      "outputs": []
    }
  ]
}