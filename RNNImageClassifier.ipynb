{
  "nbformat": 4,
  "nbformat_minor": 0,
  "metadata": {
    "kernelspec": {
      "name": "python3",
      "display_name": "Python 3"
    },
    "language_info": {
      "codemirror_mode": {
        "name": "ipython",
        "version": 3
      },
      "file_extension": ".py",
      "mimetype": "text/x-python",
      "name": "python",
      "nbconvert_exporter": "python",
      "pygments_lexer": "ipython3",
      "version": "3.6.9"
    },
    "colab": {
      "name": " RNNImageClassifierCNN.ipynb",
      "provenance": [],
      "collapsed_sections": [],
      "toc_visible": true,
      "machine_shape": "hm",
      "include_colab_link": true
    },
    "accelerator": "GPU"
  },
  "cells": [
    {
      "cell_type": "markdown",
      "metadata": {
        "id": "view-in-github",
        "colab_type": "text"
      },
      "source": [
        "<a href=\"https://colab.research.google.com/github/prbsh9/Suspicious-Activity-Detection-from-videos/blob/master/RNNImageClassifier.ipynb\" target=\"_parent\"><img src=\"https://colab.research.google.com/assets/colab-badge.svg\" alt=\"Open In Colab\"/></a>"
      ]
    },
    {
      "cell_type": "markdown",
      "metadata": {
        "id": "7E8MRZUC-z74",
        "colab_type": "text"
      },
      "source": [
        "# Import and syncing with drive"
      ]
    },
    {
      "cell_type": "code",
      "metadata": {
        "id": "eorJr62PBwSs",
        "colab_type": "code",
        "outputId": "4a79db33-0154-4751-d78c-2af7cc206c8d",
        "colab": {
          "base_uri": "https://localhost:8080/",
          "height": 135
        }
      },
      "source": [
        "from google.colab import drive\n",
        "drive.mount('/drive')\n",
        "import os\n",
        "path = '/drive/My Drive/suspicious_activity/content/frameEasy'\n",
        "os.chdir(path)\n",
        "os.getcwd()"
      ],
      "execution_count": 0,
      "outputs": [
        {
          "output_type": "stream",
          "text": [
            "Go to this URL in a browser: https://accounts.google.com/o/oauth2/auth?client_id=947318989803-6bn6qk8qdgf4n4g3pfee6491hc0brc4i.apps.googleusercontent.com&redirect_uri=urn%3aietf%3awg%3aoauth%3a2.0%3aoob&response_type=code&scope=email%20https%3a%2f%2fwww.googleapis.com%2fauth%2fdocs.test%20https%3a%2f%2fwww.googleapis.com%2fauth%2fdrive%20https%3a%2f%2fwww.googleapis.com%2fauth%2fdrive.photos.readonly%20https%3a%2f%2fwww.googleapis.com%2fauth%2fpeopleapi.readonly\n",
            "\n",
            "Enter your authorization code:\n",
            "··········\n",
            "Mounted at /drive\n"
          ],
          "name": "stdout"
        },
        {
          "output_type": "execute_result",
          "data": {
            "text/plain": [
              "'/drive/My Drive/suspicious_activity/content/frameEasy'"
            ]
          },
          "metadata": {
            "tags": []
          },
          "execution_count": 1
        }
      ]
    },
    {
      "cell_type": "code",
      "metadata": {
        "id": "asDeYkZdBunk",
        "colab_type": "code",
        "colab": {}
      },
      "source": [
        "%matplotlib inline\n",
        "from keras.models import Sequential\n",
        "from keras.optimizers import SGD, Adam\n",
        "from keras.layers import Dense, Flatten, Dropout\n",
        "from keras.callbacks import CSVLogger\n",
        "from keras.layers import Activation\n",
        "from keras.layers import CuDNNLSTM\n",
        "import numpy as np\n",
        "from keras.callbacks import EarlyStopping, ModelCheckpoint\n",
        "\n"
      ],
      "execution_count": 0,
      "outputs": []
    },
    {
      "cell_type": "markdown",
      "metadata": {
        "id": "QYTQD68H7fic",
        "colab_type": "text"
      },
      "source": [
        "# RNN part?"
      ]
    },
    {
      "cell_type": "code",
      "metadata": {
        "id": "2YF7J6NoVIsk",
        "colab_type": "code",
        "outputId": "82c7bd7b-0a40-4576-f21e-851f5ac1baf6",
        "colab": {
          "base_uri": "https://localhost:8080/",
          "height": 423
        }
      },
      "source": [
        "os.listdir()"
      ],
      "execution_count": 0,
      "outputs": [
        {
          "output_type": "execute_result",
          "data": {
            "text/plain": [
              "['train',\n",
              " 'models',\n",
              " 'valid',\n",
              " 'predict2.jpg',\n",
              " 'predict4.jpg',\n",
              " 'predict5.jpg',\n",
              " 'predict',\n",
              " 'Road Accident Live Video in KTM Nepal CCTV Footage-360p.webm',\n",
              " 'export.pkl',\n",
              " '#cctv #gang #fight-360p.webm',\n",
              " 'image_classifier',\n",
              " 'test',\n",
              " '.ipynb_checkpoints',\n",
              " 'final.csv',\n",
              " '3.csv',\n",
              " '4.csv',\n",
              " '2.csv',\n",
              " '1.csv',\n",
              " 'hey.npy',\n",
              " 'data',\n",
              " 'valid_abnorm.npy',\n",
              " 'valid_normal123.npy',\n",
              " 'train_normal1.npy',\n",
              " 'train_normal1111.npy',\n",
              " 'Normal_Videos_006_x264.mp4']"
            ]
          },
          "metadata": {
            "tags": []
          },
          "execution_count": 7
        }
      ]
    },
    {
      "cell_type": "code",
      "metadata": {
        "id": "C6eLdA1_VQdr",
        "colab_type": "code",
        "colab": {}
      },
      "source": [
        "\n"
      ],
      "execution_count": 0,
      "outputs": []
    },
    {
      "cell_type": "code",
      "metadata": {
        "id": "dz3lwUWBi8Wy",
        "colab_type": "code",
        "outputId": "c78ece53-87ec-43c3-8f42-44da33294991",
        "colab": {
          "base_uri": "https://localhost:8080/",
          "height": 33
        }
      },
      "source": [
        ""
      ],
      "execution_count": 0,
      "outputs": [
        {
          "output_type": "execute_result",
          "data": {
            "text/plain": [
              "(4000, 8, 8, 2048)"
            ]
          },
          "metadata": {
            "tags": []
          },
          "execution_count": 3
        }
      ]
    },
    {
      "cell_type": "markdown",
      "metadata": {
        "id": "19oQU3IME_mk",
        "colab_type": "text"
      },
      "source": [
        "## Make train files"
      ]
    },
    {
      "cell_type": "code",
      "metadata": {
        "id": "JvarBZKwFWQf",
        "colab_type": "code",
        "colab": {}
      },
      "source": [
        "import numpy as np\n",
        "# train_normal = np.load('rnnData/train_normal.npy')\n",
        "# train_abnormal = np.load('rnnData/train_abnormal.npy')\n"
      ],
      "execution_count": 0,
      "outputs": []
    },
    {
      "cell_type": "code",
      "metadata": {
        "id": "brZE067SZJD6",
        "colab_type": "code",
        "colab": {}
      },
      "source": [
        "# train_normal = train_normal[:6000]\n",
        "# np.save('rnnData/train_normal.npy', train_normal)"
      ],
      "execution_count": 0,
      "outputs": []
    },
    {
      "cell_type": "code",
      "metadata": {
        "id": "P1zLMTRnZy2r",
        "colab_type": "code",
        "colab": {}
      },
      "source": [
        "# train_abnormal = train_abnormal[:4000]\n",
        "# np.save('rnnData/train_abnormal.npy', train_abnormal)\n"
      ],
      "execution_count": 0,
      "outputs": []
    },
    {
      "cell_type": "code",
      "metadata": {
        "id": "6s5_ba9eZ8Yu",
        "colab_type": "code",
        "colab": {}
      },
      "source": [
        "# train_normal_y = np.ones(6000)\n",
        "# train_abnormal_y = np.zeros(4000)\n"
      ],
      "execution_count": 0,
      "outputs": []
    },
    {
      "cell_type": "code",
      "metadata": {
        "id": "Z3bXmshRELmL",
        "colab_type": "code",
        "colab": {}
      },
      "source": [
        ""
      ],
      "execution_count": 0,
      "outputs": []
    },
    {
      "cell_type": "code",
      "metadata": {
        "id": "Vn3wOnQygTsk",
        "colab_type": "code",
        "colab": {}
      },
      "source": [
        "# train_x = np.concatenate((train_normal, train_abnormal))"
      ],
      "execution_count": 0,
      "outputs": []
    },
    {
      "cell_type": "code",
      "metadata": {
        "id": "qvVVnaDqC-h-",
        "colab_type": "code",
        "colab": {}
      },
      "source": [
        "# np.save('data/train_data.npy', train_x)"
      ],
      "execution_count": 0,
      "outputs": []
    },
    {
      "cell_type": "code",
      "metadata": {
        "id": "dP3VNQXYE6t0",
        "colab_type": "code",
        "colab": {}
      },
      "source": [
        "# train_y = np.concatenate((train_normal_y, train_abnormal_y))\n",
        "# np.save('data/train_labels.npy', train_y)\n"
      ],
      "execution_count": 0,
      "outputs": []
    },
    {
      "cell_type": "markdown",
      "metadata": {
        "id": "DmwQLGyQFLwt",
        "colab_type": "text"
      },
      "source": [
        "## Make test or valid files"
      ]
    },
    {
      "cell_type": "code",
      "metadata": {
        "id": "4uppSzSGFkQ3",
        "colab_type": "code",
        "colab": {}
      },
      "source": [
        "valid_normal = np.load('data/valid_normal123.npy')\n",
        "valid_abnormal = np.load('data/valid_abnorm.npy')\n",
        "\n",
        "# valid_abnormal = np.load('rnnData/train_abnormal.npy')"
      ],
      "execution_count": 0,
      "outputs": []
    },
    {
      "cell_type": "code",
      "metadata": {
        "id": "E52GkqEjG_xQ",
        "colab_type": "code",
        "colab": {}
      },
      "source": [
        "valid_normal = valid_normal[:2000]\n",
        "valid_abnormal = valid_abnormal[:2000]\n"
      ],
      "execution_count": 0,
      "outputs": []
    },
    {
      "cell_type": "code",
      "metadata": {
        "id": "j8bMJKr2HWBT",
        "colab_type": "code",
        "colab": {}
      },
      "source": [
        "valid_data = np.concatenate((valid_normal, valid_abnormal))\n",
        "np.save('data/valid_data.npy',valid_data )\n",
        "np.save('rnnData/valid_data.npy',valid_data )\n"
      ],
      "execution_count": 0,
      "outputs": []
    },
    {
      "cell_type": "code",
      "metadata": {
        "id": "XAcFNcmVFO_Q",
        "colab_type": "code",
        "colab": {}
      },
      "source": [
        "valid_normal_y = np.ones(2000)\n",
        "valid_abnormal_y = np.zeros(2000)\n",
        "valid_labels = np.concatenate((valid_normal_y, valid_abnormal_y))\n",
        "np.save('data/valid_labels.npy',valid_labels )\n",
        "np.save('rnnData/valid_labels.npy',valid_labels )\n"
      ],
      "execution_count": 0,
      "outputs": []
    },
    {
      "cell_type": "markdown",
      "metadata": {
        "id": "3GnCgeZNJqzI",
        "colab_type": "text"
      },
      "source": [
        "# What about training it boy?"
      ]
    },
    {
      "cell_type": "code",
      "metadata": {
        "id": "bYFgOE1LKI1q",
        "colab_type": "code",
        "colab": {}
      },
      "source": [
        ""
      ],
      "execution_count": 0,
      "outputs": []
    },
    {
      "cell_type": "code",
      "metadata": {
        "id": "NFjwrxJgFPfE",
        "colab_type": "code",
        "colab": {}
      },
      "source": [
        "train_data = np.load('data/train_data.npy') \n",
        "train_labels = np.load('data/train_labels.npy') \n",
        "\n",
        "# valid_data = np.load('x_valid.npy')\n",
        "# valid_labels = np.load('y_valid.npy')"
      ],
      "execution_count": 0,
      "outputs": []
    },
    {
      "cell_type": "code",
      "metadata": {
        "id": "Xrnzf9l5MT63",
        "colab_type": "code",
        "colab": {}
      },
      "source": [
        "train_data = train_data/255.0\n",
        "valid_data = valid_data/255.0"
      ],
      "execution_count": 0,
      "outputs": []
    },
    {
      "cell_type": "code",
      "metadata": {
        "id": "1F6D-BSCMTwH",
        "colab_type": "code",
        "colab": {}
      },
      "source": [
        "train_data = train_data.reshape(train_data.shape[0],\n",
        "                     train_data.shape[1] * train_data.shape[2],\n",
        "                     train_data.shape[3])\n",
        "valid_data = valid_data.reshape(valid_data.shape[0],\n",
        "                     valid_data.shape[1] * valid_data.shape[2],\n",
        "                     valid_data.shape[3])"
      ],
      "execution_count": 0,
      "outputs": []
    },
    {
      "cell_type": "code",
      "metadata": {
        "id": "cUhSjZGsMaxE",
        "colab_type": "code",
        "outputId": "1bb81c4d-e9a6-43cf-ab7e-34096d8011a7",
        "colab": {
          "base_uri": "https://localhost:8080/",
          "height": 248
        }
      },
      "source": [
        "model = Sequential()\n",
        "model.add(CuDNNLSTM(2024, input_shape=(train_data.shape[1:]), return_sequences=True ))\n",
        "model.add(Dropout(0.6))\n",
        "\n",
        "model.add(CuDNNLSTM(1028))\n",
        "model.add(Dropout(0.5))\n",
        "\n",
        "model.add(Dense(2024, activation='relu'))\n",
        "model.add(Dropout(0.5))\n",
        "\n",
        "model.add(Dense(1024, activation='relu'))\n",
        "model.add(Dropout(0.5))\n",
        "\n",
        "model.add(Dense(1024, activation='relu'))\n",
        "model.add(Dropout(0.5))\n",
        "\n",
        "model.add(Dense(128))\n",
        "model.add(Activation('relu'))\n",
        "model.add(Dropout(0.6))\n",
        "\n",
        "model.add(Dense(50))\n",
        "model.add(Activation('relu'))\n",
        "model.add(Dropout(0.5))\n",
        "\n",
        "model.add(Dense(1))\n",
        "model.add(Activation('sigmoid'))\n"
      ],
      "execution_count": 0,
      "outputs": [
        {
          "output_type": "stream",
          "text": [
            "WARNING:tensorflow:From /usr/local/lib/python3.6/dist-packages/keras/backend/tensorflow_backend.py:66: The name tf.get_default_graph is deprecated. Please use tf.compat.v1.get_default_graph instead.\n",
            "\n",
            "WARNING:tensorflow:From /usr/local/lib/python3.6/dist-packages/keras/backend/tensorflow_backend.py:541: The name tf.placeholder is deprecated. Please use tf.compat.v1.placeholder instead.\n",
            "\n",
            "WARNING:tensorflow:From /usr/local/lib/python3.6/dist-packages/keras/backend/tensorflow_backend.py:4432: The name tf.random_uniform is deprecated. Please use tf.random.uniform instead.\n",
            "\n",
            "WARNING:tensorflow:From /usr/local/lib/python3.6/dist-packages/keras/backend/tensorflow_backend.py:148: The name tf.placeholder_with_default is deprecated. Please use tf.compat.v1.placeholder_with_default instead.\n",
            "\n",
            "WARNING:tensorflow:From /usr/local/lib/python3.6/dist-packages/keras/backend/tensorflow_backend.py:3733: calling dropout (from tensorflow.python.ops.nn_ops) with keep_prob is deprecated and will be removed in a future version.\n",
            "Instructions for updating:\n",
            "Please use `rate` instead of `keep_prob`. Rate should be set to `rate = 1 - keep_prob`.\n",
            "WARNING:tensorflow:Large dropout rate: 0.6 (>0.5). In TensorFlow 2.x, dropout() uses dropout rate instead of keep_prob. Please ensure that this is intended.\n",
            "WARNING:tensorflow:Large dropout rate: 0.6 (>0.5). In TensorFlow 2.x, dropout() uses dropout rate instead of keep_prob. Please ensure that this is intended.\n"
          ],
          "name": "stdout"
        }
      ]
    },
    {
      "cell_type": "code",
      "metadata": {
        "id": "qsgBuMoAMd9W",
        "colab_type": "code",
        "outputId": "9908b97c-0464-4cdf-db3d-27aabd3df8f5",
        "colab": {
          "base_uri": "https://localhost:8080/",
          "height": 440
        }
      },
      "source": [
        "sgd = SGD(lr=0.00005, decay = 1e-5, momentum=0.9, nesterov=True)\n",
        "sgd = Adam(lr=0.00005, decay = 1e-5)\n",
        "\n",
        "model.compile(optimizer='Adam', loss='binary_crossentropy', metrics=['accuracy'])\n",
        "\n",
        "callbacks = [ EarlyStopping(monitor='val_loss', patience=10, verbose=0), ModelCheckpoint('video_1_LSTM_1_1024.h5', monitor='val_loss', save_best_only=True, verbose=0) ]\n",
        "nb_epoch = 500\n",
        "batch_size = 64\n",
        "\n",
        "model.fit(train_data,train_labels,validation_data=(valid_data,valid_labels),batch_size=batch_size,nb_epoch=nb_epoch,callbacks=callbacks,shuffle=True,verbose=1)\n"
      ],
      "execution_count": 0,
      "outputs": [
        {
          "output_type": "stream",
          "text": [
            "/usr/local/lib/python3.6/dist-packages/ipykernel_launcher.py:10: UserWarning: The `nb_epoch` argument in `fit` has been renamed `epochs`.\n",
            "  # Remove the CWD from sys.path while we load stuff.\n"
          ],
          "name": "stderr"
        },
        {
          "output_type": "stream",
          "text": [
            "Train on 10000 samples, validate on 4000 samples\n",
            "Epoch 1/500\n",
            "10000/10000 [==============================] - 44s 4ms/step - loss: 0.7019 - acc: 0.5599 - val_loss: 0.6969 - val_acc: 0.5000\n",
            "Epoch 2/500\n",
            "10000/10000 [==============================] - 42s 4ms/step - loss: 0.6832 - acc: 0.5865 - val_loss: 0.7026 - val_acc: 0.5000\n",
            "Epoch 3/500\n",
            "10000/10000 [==============================] - 42s 4ms/step - loss: 0.6778 - acc: 0.5975 - val_loss: 0.7035 - val_acc: 0.5000\n",
            "Epoch 4/500\n",
            "10000/10000 [==============================] - 42s 4ms/step - loss: 0.6765 - acc: 0.5989 - val_loss: 0.7088 - val_acc: 0.5000\n",
            "Epoch 5/500\n",
            "10000/10000 [==============================] - 42s 4ms/step - loss: 0.6750 - acc: 0.5991 - val_loss: 0.7096 - val_acc: 0.5000\n",
            "Epoch 6/500\n",
            "10000/10000 [==============================] - 42s 4ms/step - loss: 0.6740 - acc: 0.5997 - val_loss: 0.7107 - val_acc: 0.5000\n",
            "Epoch 7/500\n",
            "10000/10000 [==============================] - 42s 4ms/step - loss: 0.6740 - acc: 0.5994 - val_loss: 0.7109 - val_acc: 0.5000\n",
            "Epoch 8/500\n",
            "10000/10000 [==============================] - 42s 4ms/step - loss: 0.6740 - acc: 0.5990 - val_loss: 0.7117 - val_acc: 0.5000\n",
            "Epoch 9/500\n",
            "10000/10000 [==============================] - 42s 4ms/step - loss: 0.6739 - acc: 0.5994 - val_loss: 0.7096 - val_acc: 0.5000\n",
            "Epoch 10/500\n",
            "10000/10000 [==============================] - 42s 4ms/step - loss: 0.6737 - acc: 0.5992 - val_loss: 0.7124 - val_acc: 0.5000\n",
            "Epoch 11/500\n",
            "10000/10000 [==============================] - 42s 4ms/step - loss: 0.6737 - acc: 0.6002 - val_loss: 0.7111 - val_acc: 0.5000\n"
          ],
          "name": "stdout"
        },
        {
          "output_type": "execute_result",
          "data": {
            "text/plain": [
              "<keras.callbacks.History at 0x7f481f14e240>"
            ]
          },
          "metadata": {
            "tags": []
          },
          "execution_count": 38
        }
      ]
    },
    {
      "cell_type": "code",
      "metadata": {
        "id": "bx__n-ao50Zh",
        "colab_type": "code",
        "colab": {}
      },
      "source": [
        "# \n",
        "# frames_num=9\n",
        "# count = 0\n",
        "# joint_transfer=[]\n",
        "# for i in range(int(len(feature('predict5.jpg'))/frames_num)):\n",
        "#     inc = count+frames_num\n",
        "#     joint_transfer.append([transfer_values[count:inc],labels_train[count]])\n",
        "#     count =inc"
      ],
      "execution_count": 0,
      "outputs": []
    },
    {
      "cell_type": "code",
      "metadata": {
        "id": "pyp81NV7yPE0",
        "colab_type": "code",
        "outputId": "825dd3f4-b3e5-4061-bd90-54eb3c386a87",
        "colab": {
          "base_uri": "https://localhost:8080/",
          "height": 343
        }
      },
      "source": [
        "# LSTM\n",
        "\n",
        "chunk_size = 2048\n",
        "n_chunks = 9\n",
        "nb_classes = 2\n",
        "model = Sequential()\n",
        "model.add(CuDNNLSTM(2048, input_shape=(n_chunks, chunk_size)))\n",
        "model.add(Dense(1024, activation='relu'))\n",
        "model.add(Dropout(0.5))\n",
        "model.add(Dense(50))\n",
        "model.add(Activation('relu'))\n",
        "model.add(Dense(nb_classes))\n",
        "model.add(Activation('sigmoid'))\n",
        "model.compile(loss='binary_crossentropy', optimizer='adam',metrics=['accuracy'])"
      ],
      "execution_count": 0,
      "outputs": [
        {
          "output_type": "stream",
          "text": [
            "WARNING:tensorflow:From /usr/local/lib/python3.6/dist-packages/keras/backend/tensorflow_backend.py:66: The name tf.get_default_graph is deprecated. Please use tf.compat.v1.get_default_graph instead.\n",
            "\n",
            "WARNING:tensorflow:From /usr/local/lib/python3.6/dist-packages/keras/backend/tensorflow_backend.py:541: The name tf.placeholder is deprecated. Please use tf.compat.v1.placeholder instead.\n",
            "\n",
            "WARNING:tensorflow:From /usr/local/lib/python3.6/dist-packages/keras/backend/tensorflow_backend.py:4432: The name tf.random_uniform is deprecated. Please use tf.random.uniform instead.\n",
            "\n",
            "WARNING:tensorflow:From /usr/local/lib/python3.6/dist-packages/keras/backend/tensorflow_backend.py:148: The name tf.placeholder_with_default is deprecated. Please use tf.compat.v1.placeholder_with_default instead.\n",
            "\n",
            "WARNING:tensorflow:From /usr/local/lib/python3.6/dist-packages/keras/backend/tensorflow_backend.py:3733: calling dropout (from tensorflow.python.ops.nn_ops) with keep_prob is deprecated and will be removed in a future version.\n",
            "Instructions for updating:\n",
            "Please use `rate` instead of `keep_prob`. Rate should be set to `rate = 1 - keep_prob`.\n",
            "WARNING:tensorflow:From /usr/local/lib/python3.6/dist-packages/keras/optimizers.py:793: The name tf.train.Optimizer is deprecated. Please use tf.compat.v1.train.Optimizer instead.\n",
            "\n",
            "WARNING:tensorflow:From /usr/local/lib/python3.6/dist-packages/keras/backend/tensorflow_backend.py:3657: The name tf.log is deprecated. Please use tf.math.log instead.\n",
            "\n",
            "WARNING:tensorflow:From /usr/local/lib/python3.6/dist-packages/tensorflow_core/python/ops/nn_impl.py:183: where (from tensorflow.python.ops.array_ops) is deprecated and will be removed in a future version.\n",
            "Instructions for updating:\n",
            "Use tf.where in 2.0, which has the same broadcast rule as np.where\n"
          ],
          "name": "stdout"
        }
      ]
    },
    {
      "cell_type": "code",
      "metadata": {
        "id": "BX4NMBhynhLg",
        "colab_type": "code",
        "colab": {}
      },
      "source": [
        "# for filee in os.listdir('data/train/Abnorm'):\n",
        "#   train_npy = np.load('data/train/Abnorm/'+filee)\n",
        "#   frames_num=9\n",
        "#   count = 0\n",
        "#   joint_transfer=[]\n",
        "#   for i in range(int(len(train_npy))/frames_num):\n",
        "#       inc = count+frames_num\n",
        "#       joint_transfer.append([transfer_values[count:inc],labels_train[count]])\n",
        "#       count =inc"
      ],
      "execution_count": 0,
      "outputs": []
    },
    {
      "cell_type": "code",
      "metadata": {
        "id": "UeZy0OS5pxUb",
        "colab_type": "code",
        "colab": {}
      },
      "source": [
        ""
      ],
      "execution_count": 0,
      "outputs": []
    },
    {
      "cell_type": "code",
      "metadata": {
        "id": "IEtDWeteeccN",
        "colab_type": "code",
        "outputId": "5e0ad566-894c-4ccf-cc6b-a953ab9d172e",
        "colab": {
          "base_uri": "https://localhost:8080/",
          "height": 34
        }
      },
      "source": [
        "# import shutil\n",
        "# shutil.copyfile('train_normal1.npy','data/train_normal1.npy' )"
      ],
      "execution_count": 0,
      "outputs": [
        {
          "output_type": "execute_result",
          "data": {
            "text/plain": [
              "'data/train_normal1.npy'"
            ]
          },
          "metadata": {
            "tags": []
          },
          "execution_count": 23
        }
      ]
    },
    {
      "cell_type": "code",
      "metadata": {
        "id": "4Cwn5mRppjIL",
        "colab_type": "code",
        "outputId": "ae9404b4-513e-4ef2-c8a6-85248b18f041",
        "colab": {
          "base_uri": "https://localhost:8080/",
          "height": 1000
        }
      },
      "source": [
        "# emp = np.empty((1, 8, 8, 2048))\n",
        "# filepth = 'data/train/Normal/'\n",
        "# for filee in os.listdir(filepth):\n",
        "#   c = np.load(filepth+filee)\n",
        "#   emp = np.concatenate((emp, c))\n",
        "#   print( filee, emp.shape[0] )\n",
        "#   if 10000 < emp.shape[0] < 10010:\n",
        "#     print('Saved!!!!!!!!!!!!!!!!!!')\n",
        "#     np.save('train_normal1.npy', emp)\n",
        "   \n",
        "#   if 15000 < emp.shape[0] < 15010:\n",
        "#     print('Saved!!!!!!!!!!!!!!!!!!')\n",
        "#     np.save('train_normal2.npy', emp)\n",
        "#     break\n"
      ],
      "execution_count": 0,
      "outputs": [
        {
          "output_type": "stream",
          "text": [
            "rmal_Videos164_x264-features15.npy 10\n",
            "rmal_Videos164_x264-features16.npy 19\n",
            "rmal_Videos164_x264-features17.npy 28\n",
            "rmal_Videos164_x264-features18.npy 37\n",
            "rmal_Videos164_x264-features19.npy 46\n",
            "rmal_Videos164_x264-features20.npy 55\n",
            "rmal_Videos164_x264-features21.npy 64\n",
            "rmal_Videos164_x264-features22.npy 73\n",
            "rmal_Videos164_x264-features23.npy 82\n",
            "rmal_Videos164_x264-features24.npy 91\n",
            "rmal_Videos164_x264-features25.npy 100\n",
            "rmal_Videos164_x264-features26.npy 109\n",
            "rmal_Videos164_x264-features27.npy 118\n",
            "rmal_Videos164_x264-features28.npy 127\n",
            "rmal_Videos164_x264-features29.npy 136\n",
            "rmal_Videos164_x264-features30.npy 145\n",
            "rmal_Videos164_x264-features31.npy 154\n",
            "rmal_Videos164_x264-features32.npy 163\n",
            "rmal_Videos164_x264-features33.npy 172\n",
            "rmal_Videos164_x264-features34.npy 181\n",
            "rmal_Videos164_x264-features35.npy 190\n",
            "rmal_Videos164_x264-features36.npy 199\n",
            "rmal_Videos164_x264-features37.npy 208\n",
            "rmal_Videos164_x264-features38.npy 217\n",
            "rmal_Videos071_x264-features1.npy 226\n",
            "rmal_Videos071_x264-features2.npy 235\n",
            "rmal_Videos071_x264-features3.npy 244\n",
            "rmal_Videos383_x264-features1.npy 253\n",
            "rmal_Videos383_x264-features2.npy 262\n",
            "rmal_Videos383_x264-features3.npy 271\n",
            "rmal_Videos383_x264-features4.npy 280\n",
            "rmal_Videos383_x264-features5.npy 289\n",
            "rmal_Videos383_x264-features6.npy 298\n",
            "rmal_Videos383_x264-features7.npy 307\n",
            "rmal_Videos267_x264-features1.npy 316\n",
            "rmal_Videos267_x264-features2.npy 325\n",
            "rmal_Videos267_x264-features3.npy 334\n",
            "rmal_Videos267_x264-features4.npy 343\n",
            "rmal_Videos267_x264-features5.npy 352\n",
            "rmal_Videos267_x264-features6.npy 361\n",
            "rmal_Videos267_x264-features7.npy 370\n",
            "rmal_Videos267_x264-features8.npy 379\n",
            "rmal_Videos267_x264-features9.npy 388\n",
            "rmal_Videos267_x264-features10.npy 397\n",
            "rmal_Videos267_x264-features11.npy 406\n",
            "rmal_Videos267_x264-features12.npy 415\n",
            "rmal_Videos017_x264-features1.npy 424\n",
            "rmal_Videos017_x264-features2.npy 433\n",
            "rmal_Videos202_x264-features1.npy 442\n",
            "rmal_Videos202_x264-features2.npy 451\n",
            "rmal_Videos202_x264-features3.npy 460\n",
            "rmal_Videos202_x264-features4.npy 469\n",
            "rmal_Videos202_x264-features5.npy 478\n",
            "rmal_Videos202_x264-features6.npy 487\n",
            "rmal_Videos202_x264-features7.npy 496\n",
            "rmal_Videos202_x264-features8.npy 505\n",
            "rmal_Videos202_x264-features9.npy 514\n",
            "rmal_Videos176_x264-features1.npy 523\n",
            "rmal_Videos176_x264-features2.npy 532\n",
            "rmal_Videos176_x264-features3.npy 541\n",
            "rmal_Videos176_x264-features4.npy 550\n",
            "rmal_Videos176_x264-features5.npy 559\n",
            "rmal_Videos176_x264-features6.npy 568\n",
            "rmal_Videos176_x264-features7.npy 577\n",
            "rmal_Videos176_x264-features8.npy 586\n",
            "rmal_Videos176_x264-features9.npy 595\n",
            "rmal_Videos176_x264-features10.npy 604\n",
            "rmal_Videos176_x264-features11.npy 613\n",
            "rmal_Videos176_x264-features12.npy 622\n",
            "rmal_Videos176_x264-features13.npy 631\n",
            "rmal_Videos176_x264-features14.npy 640\n",
            "rmal_Videos176_x264-features15.npy 649\n",
            "rmal_Videos176_x264-features16.npy 658\n",
            "rmal_Videos176_x264-features17.npy 667\n",
            "rmal_Videos176_x264-features18.npy 676\n",
            "rmal_Videos176_x264-features19.npy 685\n",
            "rmal_Videos176_x264-features20.npy 694\n",
            "rmal_Videos176_x264-features21.npy 703\n",
            "rmal_Videos205_x264-features1.npy 712\n",
            "rmal_Videos205_x264-features2.npy 721\n",
            "rmal_Videos205_x264-features3.npy 730\n",
            "rmal_Videos205_x264-features4.npy 739\n",
            "rmal_Videos205_x264-features5.npy 748\n",
            "rmal_Videos205_x264-features6.npy 757\n",
            "rmal_Videos205_x264-features7.npy 766\n",
            "rmal_Videos205_x264-features8.npy 775\n",
            "rmal_Videos205_x264-features9.npy 784\n",
            "rmal_Videos205_x264-features10.npy 793\n",
            "rmal_Videos205_x264-features11.npy 802\n",
            "rmal_Videos205_x264-features12.npy 811\n",
            "rmal_Videos205_x264-features13.npy 820\n",
            "rmal_Videos205_x264-features14.npy 829\n",
            "rmal_Videos205_x264-features15.npy 838\n",
            "rmal_Videos205_x264-features16.npy 847\n",
            "rmal_Videos205_x264-features17.npy 856\n",
            "rmal_Videos205_x264-features18.npy 865\n",
            "rmal_Videos205_x264-features19.npy 874\n",
            "rmal_Videos205_x264-features20.npy 883\n",
            "rmal_Videos205_x264-features21.npy 892\n",
            "rmal_Videos205_x264-features22.npy 901\n",
            "rmal_Videos205_x264-features23.npy 910\n",
            "rmal_Videos205_x264-features24.npy 919\n",
            "rmal_Videos205_x264-features25.npy 928\n",
            "rmal_Videos205_x264-features26.npy 937\n",
            "rmal_Videos205_x264-features27.npy 946\n",
            "rmal_Videos205_x264-features28.npy 955\n",
            "rmal_Videos205_x264-features29.npy 964\n",
            "rmal_Videos057_x264-features1.npy 973\n",
            "rmal_Videos057_x264-features2.npy 982\n",
            "rmal_Videos057_x264-features3.npy 991\n",
            "rmal_Videos057_x264-features4.npy 1000\n",
            "rmal_Videos057_x264-features5.npy 1009\n",
            "rmal_Videos057_x264-features6.npy 1018\n",
            "rmal_Videos057_x264-features7.npy 1027\n",
            "rmal_Videos057_x264-features8.npy 1036\n",
            "rmal_Videos057_x264-features9.npy 1045\n",
            "rmal_Videos057_x264-features10.npy 1054\n",
            "rmal_Videos057_x264-features11.npy 1063\n",
            "rmal_Videos057_x264-features12.npy 1072\n",
            "rmal_Videos057_x264-features13.npy 1081\n",
            "rmal_Videos057_x264-features14.npy 1090\n",
            "rmal_Videos060_x264-features1.npy 1099\n",
            "rmal_Videos060_x264-features2.npy 1108\n",
            "rmal_Videos060_x264-features3.npy 1117\n",
            "rmal_Videos060_x264-features4.npy 1126\n",
            "rmal_Videos060_x264-features5.npy 1135\n",
            "rmal_Videos060_x264-features6.npy 1144\n",
            "rmal_Videos060_x264-features7.npy 1153\n",
            "rmal_Videos060_x264-features8.npy 1162\n",
            "rmal_Videos060_x264-features9.npy 1171\n",
            "rmal_Videos060_x264-features10.npy 1180\n",
            "rmal_Videos060_x264-features11.npy 1189\n",
            "rmal_Videos429_x264-features1.npy 1198\n",
            "rmal_Videos429_x264-features2.npy 1207\n",
            "rmal_Videos429_x264-features3.npy 1216\n",
            "rmal_Videos429_x264-features4.npy 1225\n",
            "rmal_Videos429_x264-features5.npy 1234\n",
            "rmal_Videos429_x264-features6.npy 1243\n",
            "rmal_Videos429_x264-features7.npy 1252\n",
            "rmal_Videos429_x264-features8.npy 1261\n",
            "rmal_Videos429_x264-features9.npy 1270\n",
            "rmal_Videos429_x264-features10.npy 1279\n",
            "rmal_Videos429_x264-features11.npy 1288\n",
            "rmal_Videos429_x264-features12.npy 1297\n",
            "rmal_Videos073_x264-features1.npy 1306\n",
            "rmal_Videos073_x264-features2.npy 1315\n",
            "rmal_Videos073_x264-features3.npy 1324\n",
            "rmal_Videos073_x264-features4.npy 1333\n",
            "rmal_Videos073_x264-features5.npy 1342\n",
            "rmal_Videos073_x264-features6.npy 1351\n",
            "rmal_Videos434_x264-features1.npy 1360\n",
            "rmal_Videos434_x264-features2.npy 1369\n",
            "rmal_Videos434_x264-features3.npy 1378\n",
            "rmal_Videos434_x264-features4.npy 1387\n",
            "rmal_Videos434_x264-features5.npy 1396\n",
            "rmal_Videos434_x264-features6.npy 1405\n",
            "rmal_Videos465_x264-features1.npy 1414\n",
            "rmal_Videos465_x264-features2.npy 1423\n",
            "rmal_Videos465_x264-features3.npy 1432\n",
            "rmal_Videos465_x264-features4.npy 1441\n",
            "rmal_Videos465_x264-features5.npy 1450\n",
            "rmal_Videos465_x264-features6.npy 1459\n",
            "rmal_Videos465_x264-features7.npy 1468\n",
            "rmal_Videos465_x264-features8.npy 1477\n",
            "rmal_Videos465_x264-features9.npy 1486\n",
            "rmal_Videos465_x264-features10.npy 1495\n",
            "rmal_Videos465_x264-features11.npy 1504\n",
            "rmal_Videos425_x264-features1.npy 1513\n",
            "rmal_Videos425_x264-features2.npy 1522\n",
            "rmal_Videos425_x264-features3.npy 1531\n",
            "rmal_Videos425_x264-features4.npy 1540\n",
            "rmal_Videos425_x264-features5.npy 1549\n",
            "rmal_Videos425_x264-features6.npy 1558\n",
            "rmal_Videos425_x264-features7.npy 1567\n",
            "rmal_Videos425_x264-features8.npy 1576\n",
            "rmal_Videos425_x264-features9.npy 1585\n",
            "rmal_Videos425_x264-features10.npy 1594\n",
            "rmal_Videos425_x264-features11.npy 1603\n",
            "rmal_Videos425_x264-features12.npy 1612\n",
            "rmal_Videos425_x264-features13.npy 1621\n",
            "rmal_Videos425_x264-features14.npy 1630\n",
            "rmal_Videos425_x264-features15.npy 1639\n",
            "rmal_Videos425_x264-features16.npy 1648\n",
            "rmal_Videos425_x264-features17.npy 1657\n",
            "rmal_Videos425_x264-features18.npy 1666\n",
            "rmal_Videos425_x264-features19.npy 1675\n",
            "rmal_Videos425_x264-features20.npy 1684\n",
            "rmal_Videos425_x264-features21.npy 1693\n",
            "rmal_Videos425_x264-features22.npy 1702\n",
            "rmal_Videos425_x264-features23.npy 1711\n",
            "rmal_Videos425_x264-features24.npy 1720\n",
            "rmal_Videos425_x264-features25.npy 1729\n",
            "rmal_Videos425_x264-features26.npy 1738\n",
            "rmal_Videos425_x264-features27.npy 1747\n",
            "rmal_Videos425_x264-features28.npy 1756\n",
            "rmal_Videos425_x264-features29.npy 1765\n",
            "rmal_Videos425_x264-features30.npy 1774\n",
            "rmal_Videos425_x264-features31.npy 1783\n",
            "rmal_Videos425_x264-features32.npy 1792\n",
            "rmal_Videos425_x264-features33.npy 1801\n",
            "rmal_Videos425_x264-features34.npy 1810\n",
            "rmal_Videos425_x264-features35.npy 1819\n",
            "rmal_Videos425_x264-features36.npy 1828\n",
            "rmal_Videos425_x264-features37.npy 1837\n",
            "rmal_Videos425_x264-features38.npy 1846\n",
            "rmal_Videos425_x264-features39.npy 1855\n",
            "rmal_Videos425_x264-features40.npy 1864\n",
            "rmal_Videos425_x264-features41.npy 1873\n",
            "rmal_Videos425_x264-features42.npy 1882\n",
            "rmal_Videos425_x264-features43.npy 1891\n",
            "rmal_Videos425_x264-features44.npy 1900\n",
            "rmal_Videos425_x264-features45.npy 1909\n",
            "rmal_Videos425_x264-features46.npy 1918\n",
            "rmal_Videos425_x264-features47.npy 1927\n",
            "rmal_Videos425_x264-features48.npy 1936\n",
            "rmal_Videos425_x264-features49.npy 1945\n",
            "rmal_Videos425_x264-features50.npy 1954\n",
            "rmal_Videos425_x264-features51.npy 1963\n",
            "rmal_Videos425_x264-features52.npy 1972\n",
            "rmal_Videos425_x264-features53.npy 1981\n",
            "rmal_Videos425_x264-features54.npy 1990\n",
            "rmal_Videos425_x264-features55.npy 1999\n",
            "rmal_Videos425_x264-features56.npy 2008\n",
            "rmal_Videos425_x264-features57.npy 2017\n",
            "rmal_Videos425_x264-features58.npy 2026\n",
            "rmal_Videos425_x264-features59.npy 2035\n",
            "rmal_Videos425_x264-features60.npy 2044\n",
            "rmal_Videos425_x264-features61.npy 2053\n",
            "rmal_Videos425_x264-features62.npy 2062\n",
            "rmal_Videos425_x264-features63.npy 2071\n",
            "rmal_Videos425_x264-features64.npy 2080\n",
            "rmal_Videos425_x264-features65.npy 2089\n",
            "rmal_Videos425_x264-features66.npy 2098\n",
            "rmal_Videos425_x264-features67.npy 2107\n",
            "rmal_Videos425_x264-features68.npy 2116\n",
            "rmal_Videos425_x264-features69.npy 2125\n",
            "rmal_Videos425_x264-features70.npy 2134\n",
            "rmal_Videos425_x264-features71.npy 2143\n",
            "rmal_Videos425_x264-features72.npy 2152\n",
            "rmal_Videos425_x264-features73.npy 2161\n",
            "rmal_Videos425_x264-features74.npy 2170\n",
            "rmal_Videos425_x264-features75.npy 2179\n",
            "rmal_Videos425_x264-features76.npy 2188\n",
            "rmal_Videos425_x264-features77.npy 2197\n",
            "rmal_Videos425_x264-features78.npy 2206\n",
            "rmal_Videos425_x264-features79.npy 2215\n",
            "rmal_Videos425_x264-features80.npy 2224\n",
            "rmal_Videos425_x264-features81.npy 2233\n",
            "rmal_Videos425_x264-features82.npy 2242\n",
            "rmal_Videos425_x264-features83.npy 2251\n",
            "rmal_Videos425_x264-features84.npy 2260\n",
            "rmal_Videos425_x264-features85.npy 2269\n",
            "rmal_Videos425_x264-features86.npy 2278\n",
            "rmal_Videos425_x264-features87.npy 2287\n",
            "rmal_Videos425_x264-features88.npy 2296\n",
            "rmal_Videos425_x264-features89.npy 2305\n",
            "rmal_Videos425_x264-features90.npy 2314\n",
            "rmal_Videos425_x264-features91.npy 2323\n",
            "rmal_Videos425_x264-features92.npy 2332\n",
            "rmal_Videos425_x264-features93.npy 2341\n",
            "rmal_Videos425_x264-features94.npy 2350\n",
            "rmal_Videos425_x264-features95.npy 2359\n",
            "rmal_Videos425_x264-features96.npy 2368\n",
            "rmal_Videos425_x264-features97.npy 2377\n",
            "rmal_Videos425_x264-features98.npy 2386\n",
            "rmal_Videos425_x264-features99.npy 2395\n",
            "rmal_Videos425_x264-features100.npy 2404\n",
            "rmal_Videos425_x264-features101.npy 2413\n",
            "rmal_Videos425_x264-features102.npy 2422\n",
            "rmal_Videos425_x264-features103.npy 2431\n",
            "rmal_Videos425_x264-features104.npy 2440\n",
            "rmal_Videos425_x264-features105.npy 2449\n",
            "rmal_Videos425_x264-features106.npy 2458\n",
            "rmal_Videos425_x264-features107.npy 2467\n",
            "rmal_Videos425_x264-features108.npy 2476\n",
            "rmal_Videos425_x264-features109.npy 2485\n",
            "rmal_Videos425_x264-features110.npy 2494\n",
            "rmal_Videos425_x264-features111.npy 2503\n",
            "rmal_Videos425_x264-features112.npy 2512\n",
            "rmal_Videos425_x264-features113.npy 2521\n",
            "rmal_Videos425_x264-features114.npy 2530\n",
            "rmal_Videos425_x264-features115.npy 2539\n",
            "rmal_Videos425_x264-features116.npy 2548\n",
            "rmal_Videos425_x264-features117.npy 2557\n",
            "rmal_Videos425_x264-features118.npy 2566\n",
            "rmal_Videos425_x264-features119.npy 2575\n",
            "rmal_Videos425_x264-features120.npy 2584\n",
            "rmal_Videos425_x264-features121.npy 2593\n",
            "rmal_Videos425_x264-features122.npy 2602\n",
            "rmal_Videos425_x264-features123.npy 2611\n",
            "rmal_Videos425_x264-features124.npy 2620\n",
            "rmal_Videos425_x264-features125.npy 2629\n",
            "rmal_Videos425_x264-features126.npy 2638\n",
            "rmal_Videos425_x264-features127.npy 2647\n",
            "rmal_Videos425_x264-features128.npy 2656\n",
            "rmal_Videos425_x264-features129.npy 2665\n",
            "rmal_Videos425_x264-features130.npy 2674\n",
            "rmal_Videos425_x264-features131.npy 2683\n",
            "rmal_Videos425_x264-features132.npy 2692\n",
            "rmal_Videos425_x264-features133.npy 2701\n",
            "rmal_Videos425_x264-features134.npy 2710\n",
            "rmal_Videos425_x264-features135.npy 2719\n",
            "rmal_Videos425_x264-features136.npy 2728\n",
            "rmal_Videos425_x264-features137.npy 2737\n",
            "rmal_Videos425_x264-features138.npy 2746\n",
            "rmal_Videos425_x264-features139.npy 2755\n",
            "rmal_Videos425_x264-features140.npy 2764\n",
            "rmal_Videos425_x264-features141.npy 2773\n",
            "rmal_Videos425_x264-features142.npy 2782\n",
            "rmal_Videos425_x264-features143.npy 2791\n",
            "rmal_Videos425_x264-features144.npy 2800\n",
            "rmal_Videos425_x264-features145.npy 2809\n",
            "rmal_Videos425_x264-features146.npy 2818\n",
            "rmal_Videos425_x264-features147.npy 2827\n",
            "rmal_Videos425_x264-features148.npy 2836\n",
            "rmal_Videos425_x264-features149.npy 2845\n",
            "rmal_Videos425_x264-features150.npy 2854\n",
            "rmal_Videos425_x264-features151.npy 2863\n",
            "rmal_Videos425_x264-features152.npy 2872\n",
            "rmal_Videos425_x264-features153.npy 2881\n",
            "rmal_Videos425_x264-features154.npy 2890\n",
            "rmal_Videos425_x264-features155.npy 2899\n",
            "rmal_Videos425_x264-features156.npy 2908\n",
            "rmal_Videos425_x264-features157.npy 2917\n",
            "rmal_Videos425_x264-features158.npy 2926\n",
            "rmal_Videos425_x264-features159.npy 2935\n",
            "rmal_Videos425_x264-features160.npy 2944\n",
            "rmal_Videos425_x264-features161.npy 2953\n",
            "rmal_Videos425_x264-features162.npy 2962\n",
            "rmal_Videos425_x264-features163.npy 2971\n",
            "rmal_Videos425_x264-features164.npy 2980\n",
            "rmal_Videos425_x264-features165.npy 2989\n",
            "rmal_Videos425_x264-features166.npy 2998\n",
            "rmal_Videos425_x264-features167.npy 3007\n",
            "rmal_Videos425_x264-features168.npy 3016\n",
            "rmal_Videos425_x264-features169.npy 3025\n",
            "rmal_Videos425_x264-features170.npy 3034\n",
            "rmal_Videos425_x264-features171.npy 3043\n",
            "rmal_Videos425_x264-features172.npy 3052\n",
            "rmal_Videos425_x264-features173.npy 3061\n",
            "rmal_Videos425_x264-features174.npy 3070\n",
            "rmal_Videos425_x264-features175.npy 3079\n",
            "rmal_Videos425_x264-features176.npy 3088\n",
            "rmal_Videos425_x264-features177.npy 3097\n",
            "rmal_Videos425_x264-features178.npy 3106\n",
            "rmal_Videos425_x264-features179.npy 3115\n",
            "rmal_Videos425_x264-features180.npy 3124\n",
            "rmal_Videos425_x264-features181.npy 3133\n",
            "rmal_Videos425_x264-features182.npy 3142\n",
            "rmal_Videos425_x264-features183.npy 3151\n",
            "rmal_Videos425_x264-features184.npy 3160\n",
            "rmal_Videos425_x264-features185.npy 3169\n",
            "rmal_Videos425_x264-features186.npy 3178\n",
            "rmal_Videos425_x264-features187.npy 3187\n",
            "rmal_Videos425_x264-features188.npy 3196\n",
            "rmal_Videos425_x264-features189.npy 3205\n",
            "rmal_Videos425_x264-features190.npy 3214\n",
            "rmal_Videos425_x264-features191.npy 3223\n",
            "rmal_Videos425_x264-features192.npy 3232\n",
            "rmal_Videos425_x264-features193.npy 3241\n",
            "rmal_Videos425_x264-features194.npy 3250\n",
            "rmal_Videos425_x264-features195.npy 3259\n",
            "rmal_Videos425_x264-features196.npy 3268\n",
            "rmal_Videos425_x264-features197.npy 3277\n",
            "rmal_Videos425_x264-features198.npy 3286\n",
            "rmal_Videos425_x264-features199.npy 3295\n",
            "rmal_Videos425_x264-features200.npy 3304\n",
            "rmal_Videos425_x264-features201.npy 3313\n",
            "rmal_Videos425_x264-features202.npy 3322\n",
            "rmal_Videos425_x264-features203.npy 3331\n",
            "rmal_Videos425_x264-features204.npy 3340\n",
            "rmal_Videos425_x264-features205.npy 3349\n",
            "rmal_Videos425_x264-features206.npy 3358\n",
            "rmal_Videos425_x264-features207.npy 3367\n",
            "rmal_Videos425_x264-features208.npy 3376\n",
            "rmal_Videos425_x264-features209.npy 3385\n",
            "rmal_Videos425_x264-features210.npy 3394\n",
            "rmal_Videos425_x264-features211.npy 3403\n",
            "rmal_Videos425_x264-features212.npy 3412\n",
            "rmal_Videos425_x264-features213.npy 3421\n",
            "rmal_Videos425_x264-features214.npy 3430\n",
            "rmal_Videos425_x264-features215.npy 3439\n",
            "rmal_Videos425_x264-features216.npy 3448\n",
            "rmal_Videos425_x264-features217.npy 3457\n",
            "rmal_Videos425_x264-features218.npy 3466\n",
            "rmal_Videos425_x264-features219.npy 3475\n",
            "rmal_Videos425_x264-features220.npy 3484\n",
            "rmal_Videos425_x264-features221.npy 3493\n",
            "rmal_Videos425_x264-features222.npy 3502\n",
            "rmal_Videos425_x264-features223.npy 3511\n",
            "rmal_Videos425_x264-features224.npy 3520\n",
            "rmal_Videos425_x264-features225.npy 3529\n",
            "rmal_Videos425_x264-features226.npy 3538\n",
            "rmal_Videos425_x264-features227.npy 3547\n",
            "rmal_Videos425_x264-features228.npy 3556\n",
            "rmal_Videos425_x264-features229.npy 3565\n",
            "rmal_Videos425_x264-features230.npy 3574\n",
            "rmal_Videos425_x264-features231.npy 3583\n",
            "rmal_Videos425_x264-features232.npy 3592\n",
            "rmal_Videos425_x264-features233.npy 3601\n",
            "rmal_Videos425_x264-features234.npy 3610\n",
            "rmal_Videos425_x264-features235.npy 3619\n",
            "rmal_Videos425_x264-features236.npy 3628\n",
            "rmal_Videos425_x264-features237.npy 3637\n",
            "rmal_Videos425_x264-features238.npy 3646\n",
            "rmal_Videos425_x264-features239.npy 3655\n",
            "rmal_Videos425_x264-features240.npy 3664\n",
            "rmal_Videos425_x264-features241.npy 3673\n",
            "rmal_Videos425_x264-features242.npy 3682\n",
            "rmal_Videos425_x264-features243.npy 3691\n",
            "rmal_Videos425_x264-features244.npy 3700\n",
            "rmal_Videos425_x264-features245.npy 3709\n",
            "rmal_Videos425_x264-features246.npy 3718\n",
            "rmal_Videos425_x264-features247.npy 3727\n",
            "rmal_Videos425_x264-features248.npy 3736\n",
            "rmal_Videos425_x264-features249.npy 3745\n",
            "rmal_Videos425_x264-features250.npy 3754\n",
            "rmal_Videos425_x264-features251.npy 3763\n",
            "rmal_Videos425_x264-features252.npy 3772\n",
            "rmal_Videos425_x264-features253.npy 3781\n",
            "rmal_Videos425_x264-features254.npy 3790\n",
            "rmal_Videos425_x264-features255.npy 3799\n",
            "rmal_Videos425_x264-features256.npy 3808\n",
            "rmal_Videos425_x264-features257.npy 3817\n",
            "rmal_Videos425_x264-features258.npy 3826\n",
            "rmal_Videos425_x264-features259.npy 3835\n",
            "rmal_Videos425_x264-features260.npy 3844\n",
            "rmal_Videos425_x264-features261.npy 3853\n",
            "rmal_Videos425_x264-features262.npy 3862\n",
            "rmal_Videos425_x264-features263.npy 3871\n",
            "rmal_Videos425_x264-features264.npy 3880\n",
            "rmal_Videos425_x264-features265.npy 3889\n",
            "rmal_Videos425_x264-features266.npy 3898\n",
            "rmal_Videos425_x264-features267.npy 3907\n",
            "rmal_Videos425_x264-features268.npy 3916\n",
            "rmal_Videos425_x264-features269.npy 3925\n",
            "rmal_Videos425_x264-features270.npy 3934\n",
            "rmal_Videos425_x264-features271.npy 3943\n",
            "rmal_Videos425_x264-features272.npy 3952\n",
            "rmal_Videos425_x264-features273.npy 3961\n",
            "rmal_Videos425_x264-features274.npy 3970\n",
            "rmal_Videos425_x264-features275.npy 3979\n",
            "rmal_Videos425_x264-features276.npy 3988\n",
            "rmal_Videos425_x264-features277.npy 3997\n",
            "rmal_Videos425_x264-features278.npy 4006\n",
            "rmal_Videos425_x264-features279.npy 4015\n",
            "rmal_Videos425_x264-features280.npy 4024\n",
            "rmal_Videos425_x264-features281.npy 4033\n",
            "rmal_Videos425_x264-features282.npy 4042\n",
            "rmal_Videos425_x264-features283.npy 4051\n",
            "rmal_Videos425_x264-features284.npy 4060\n",
            "rmal_Videos425_x264-features285.npy 4069\n",
            "rmal_Videos425_x264-features286.npy 4078\n",
            "rmal_Videos425_x264-features287.npy 4087\n",
            "rmal_Videos425_x264-features288.npy 4096\n",
            "rmal_Videos425_x264-features289.npy 4105\n",
            "rmal_Videos425_x264-features290.npy 4114\n",
            "rmal_Videos425_x264-features291.npy 4123\n",
            "rmal_Videos425_x264-features292.npy 4132\n",
            "rmal_Videos425_x264-features293.npy 4141\n",
            "rmal_Videos425_x264-features294.npy 4150\n",
            "rmal_Videos425_x264-features295.npy 4159\n",
            "rmal_Videos425_x264-features296.npy 4168\n",
            "rmal_Videos425_x264-features297.npy 4177\n",
            "rmal_Videos425_x264-features298.npy 4186\n",
            "rmal_Videos425_x264-features299.npy 4195\n",
            "rmal_Videos425_x264-features300.npy 4204\n",
            "rmal_Videos425_x264-features301.npy 4213\n",
            "rmal_Videos425_x264-features302.npy 4222\n",
            "rmal_Videos425_x264-features303.npy 4231\n",
            "rmal_Videos425_x264-features304.npy 4240\n",
            "rmal_Videos425_x264-features305.npy 4249\n",
            "rmal_Videos425_x264-features306.npy 4258\n",
            "rmal_Videos425_x264-features307.npy 4267\n",
            "rmal_Videos425_x264-features308.npy 4276\n",
            "rmal_Videos425_x264-features309.npy 4285\n",
            "rmal_Videos425_x264-features310.npy 4294\n",
            "rmal_Videos425_x264-features311.npy 4303\n",
            "rmal_Videos425_x264-features312.npy 4312\n",
            "rmal_Videos425_x264-features313.npy 4321\n",
            "rmal_Videos425_x264-features314.npy 4330\n",
            "rmal_Videos425_x264-features315.npy 4339\n",
            "rmal_Videos425_x264-features316.npy 4348\n",
            "rmal_Videos425_x264-features317.npy 4357\n",
            "rmal_Videos425_x264-features318.npy 4366\n",
            "rmal_Videos425_x264-features319.npy 4375\n",
            "rmal_Videos425_x264-features320.npy 4384\n",
            "rmal_Videos425_x264-features321.npy 4393\n",
            "rmal_Videos425_x264-features322.npy 4402\n",
            "rmal_Videos425_x264-features323.npy 4411\n",
            "rmal_Videos425_x264-features324.npy 4420\n",
            "rmal_Videos425_x264-features325.npy 4429\n",
            "rmal_Videos425_x264-features326.npy 4438\n",
            "rmal_Videos425_x264-features327.npy 4447\n",
            "rmal_Videos425_x264-features328.npy 4456\n",
            "rmal_Videos425_x264-features329.npy 4465\n",
            "rmal_Videos425_x264-features330.npy 4474\n",
            "rmal_Videos425_x264-features331.npy 4483\n",
            "rmal_Videos425_x264-features332.npy 4492\n",
            "rmal_Videos425_x264-features333.npy 4501\n",
            "rmal_Videos425_x264-features334.npy 4510\n",
            "rmal_Videos425_x264-features335.npy 4519\n",
            "rmal_Videos425_x264-features336.npy 4528\n",
            "rmal_Videos425_x264-features337.npy 4537\n",
            "rmal_Videos425_x264-features338.npy 4546\n",
            "rmal_Videos425_x264-features339.npy 4555\n",
            "rmal_Videos425_x264-features340.npy 4564\n",
            "rmal_Videos425_x264-features341.npy 4573\n",
            "rmal_Videos425_x264-features342.npy 4582\n",
            "rmal_Videos425_x264-features343.npy 4591\n",
            "rmal_Videos425_x264-features344.npy 4600\n",
            "rmal_Videos425_x264-features345.npy 4609\n",
            "rmal_Videos425_x264-features346.npy 4618\n",
            "rmal_Videos425_x264-features347.npy 4627\n",
            "rmal_Videos425_x264-features348.npy 4636\n",
            "rmal_Videos425_x264-features349.npy 4645\n",
            "rmal_Videos425_x264-features350.npy 4654\n",
            "rmal_Videos425_x264-features351.npy 4663\n",
            "rmal_Videos425_x264-features352.npy 4672\n",
            "rmal_Videos425_x264-features353.npy 4681\n",
            "rmal_Videos425_x264-features354.npy 4690\n",
            "rmal_Videos425_x264-features355.npy 4699\n",
            "rmal_Videos425_x264-features356.npy 4708\n",
            "rmal_Videos425_x264-features357.npy 4717\n",
            "rmal_Videos425_x264-features358.npy 4726\n",
            "rmal_Videos425_x264-features359.npy 4735\n",
            "rmal_Videos425_x264-features360.npy 4744\n",
            "rmal_Videos425_x264-features361.npy 4753\n",
            "rmal_Videos425_x264-features362.npy 4762\n",
            "rmal_Videos425_x264-features363.npy 4771\n",
            "rmal_Videos425_x264-features364.npy 4780\n",
            "rmal_Videos425_x264-features365.npy 4789\n",
            "rmal_Videos425_x264-features366.npy 4798\n",
            "rmal_Videos425_x264-features367.npy 4807\n",
            "rmal_Videos425_x264-features368.npy 4816\n",
            "rmal_Videos425_x264-features369.npy 4825\n",
            "rmal_Videos425_x264-features370.npy 4834\n",
            "rmal_Videos425_x264-features371.npy 4843\n",
            "rmal_Videos425_x264-features372.npy 4852\n",
            "rmal_Videos425_x264-features373.npy 4861\n",
            "rmal_Videos425_x264-features374.npy 4870\n",
            "rmal_Videos425_x264-features375.npy 4879\n",
            "rmal_Videos425_x264-features376.npy 4888\n",
            "rmal_Videos425_x264-features377.npy 4897\n",
            "rmal_Videos425_x264-features378.npy 4906\n",
            "rmal_Videos425_x264-features379.npy 4915\n",
            "rmal_Videos425_x264-features380.npy 4924\n",
            "rmal_Videos425_x264-features381.npy 4933\n",
            "rmal_Videos425_x264-features382.npy 4942\n",
            "rmal_Videos425_x264-features383.npy 4951\n",
            "rmal_Videos425_x264-features384.npy 4960\n",
            "rmal_Videos425_x264-features385.npy 4969\n",
            "rmal_Videos425_x264-features386.npy 4978\n",
            "rmal_Videos425_x264-features387.npy 4987\n",
            "rmal_Videos425_x264-features388.npy 4996\n",
            "rmal_Videos425_x264-features389.npy 5005\n",
            "rmal_Videos425_x264-features390.npy 5014\n",
            "rmal_Videos425_x264-features391.npy 5023\n",
            "rmal_Videos425_x264-features392.npy 5032\n",
            "rmal_Videos425_x264-features393.npy 5041\n",
            "rmal_Videos425_x264-features394.npy 5050\n",
            "rmal_Videos425_x264-features395.npy 5059\n",
            "rmal_Videos425_x264-features396.npy 5068\n",
            "rmal_Videos425_x264-features397.npy 5077\n",
            "rmal_Videos425_x264-features398.npy 5086\n",
            "rmal_Videos425_x264-features399.npy 5095\n",
            "rmal_Videos425_x264-features400.npy 5104\n",
            "rmal_Videos425_x264-features401.npy 5113\n",
            "rmal_Videos425_x264-features402.npy 5122\n",
            "rmal_Videos425_x264-features403.npy 5131\n",
            "rmal_Videos425_x264-features404.npy 5140\n",
            "rmal_Videos425_x264-features405.npy 5149\n",
            "rmal_Videos425_x264-features406.npy 5158\n",
            "rmal_Videos425_x264-features407.npy 5167\n",
            "rmal_Videos425_x264-features408.npy 5176\n",
            "rmal_Videos425_x264-features409.npy 5185\n",
            "rmal_Videos425_x264-features410.npy 5194\n",
            "rmal_Videos425_x264-features411.npy 5203\n",
            "rmal_Videos425_x264-features412.npy 5212\n",
            "rmal_Videos425_x264-features413.npy 5221\n",
            "rmal_Videos425_x264-features414.npy 5230\n",
            "rmal_Videos425_x264-features415.npy 5239\n",
            "rmal_Videos425_x264-features416.npy 5248\n",
            "rmal_Videos425_x264-features417.npy 5257\n",
            "rmal_Videos425_x264-features418.npy 5266\n",
            "rmal_Videos425_x264-features419.npy 5275\n",
            "rmal_Videos425_x264-features420.npy 5284\n",
            "rmal_Videos425_x264-features421.npy 5293\n",
            "rmal_Videos425_x264-features422.npy 5302\n",
            "rmal_Videos425_x264-features423.npy 5311\n",
            "rmal_Videos425_x264-features424.npy 5320\n",
            "rmal_Videos425_x264-features425.npy 5329\n",
            "rmal_Videos425_x264-features426.npy 5338\n",
            "rmal_Videos425_x264-features427.npy 5347\n",
            "rmal_Videos425_x264-features428.npy 5356\n",
            "rmal_Videos425_x264-features429.npy 5365\n",
            "rmal_Videos425_x264-features430.npy 5374\n",
            "rmal_Videos425_x264-features431.npy 5383\n",
            "rmal_Videos425_x264-features432.npy 5392\n",
            "rmal_Videos425_x264-features433.npy 5401\n",
            "rmal_Videos425_x264-features434.npy 5410\n",
            "rmal_Videos425_x264-features435.npy 5419\n",
            "rmal_Videos425_x264-features436.npy 5428\n",
            "rmal_Videos425_x264-features437.npy 5437\n",
            "rmal_Videos425_x264-features438.npy 5446\n",
            "rmal_Videos425_x264-features439.npy 5455\n",
            "rmal_Videos425_x264-features440.npy 5464\n",
            "rmal_Videos425_x264-features441.npy 5473\n",
            "rmal_Videos425_x264-features442.npy 5482\n",
            "rmal_Videos425_x264-features443.npy 5491\n",
            "rmal_Videos425_x264-features444.npy 5500\n",
            "rmal_Videos425_x264-features445.npy 5509\n",
            "rmal_Videos425_x264-features446.npy 5518\n",
            "rmal_Videos425_x264-features447.npy 5527\n",
            "rmal_Videos425_x264-features448.npy 5536\n",
            "rmal_Videos425_x264-features449.npy 5545\n",
            "rmal_Videos425_x264-features450.npy 5554\n",
            "rmal_Videos425_x264-features451.npy 5563\n",
            "rmal_Videos425_x264-features452.npy 5572\n",
            "rmal_Videos425_x264-features453.npy 5581\n",
            "rmal_Videos425_x264-features454.npy 5590\n",
            "rmal_Videos425_x264-features455.npy 5599\n",
            "rmal_Videos425_x264-features456.npy 5608\n",
            "rmal_Videos425_x264-features457.npy 5617\n",
            "rmal_Videos425_x264-features458.npy 5626\n",
            "rmal_Videos425_x264-features459.npy 5635\n",
            "rmal_Videos425_x264-features460.npy 5644\n",
            "rmal_Videos425_x264-features461.npy 5653\n",
            "rmal_Videos425_x264-features462.npy 5662\n",
            "rmal_Videos425_x264-features463.npy 5671\n",
            "rmal_Videos425_x264-features464.npy 5680\n",
            "rmal_Videos425_x264-features465.npy 5689\n",
            "rmal_Videos425_x264-features466.npy 5698\n",
            "rmal_Videos425_x264-features467.npy 5707\n",
            "rmal_Videos425_x264-features468.npy 5716\n",
            "rmal_Videos425_x264-features469.npy 5725\n",
            "rmal_Videos425_x264-features470.npy 5734\n",
            "rmal_Videos425_x264-features471.npy 5743\n",
            "rmal_Videos425_x264-features472.npy 5752\n",
            "rmal_Videos425_x264-features473.npy 5761\n",
            "rmal_Videos425_x264-features474.npy 5770\n",
            "rmal_Videos425_x264-features475.npy 5779\n",
            "rmal_Videos425_x264-features476.npy 5788\n",
            "rmal_Videos425_x264-features477.npy 5797\n",
            "rmal_Videos425_x264-features478.npy 5806\n",
            "rmal_Videos425_x264-features479.npy 5815\n",
            "rmal_Videos425_x264-features480.npy 5824\n",
            "rmal_Videos425_x264-features481.npy 5833\n",
            "rmal_Videos425_x264-features482.npy 5842\n",
            "rmal_Videos425_x264-features483.npy 5851\n",
            "rmal_Videos425_x264-features484.npy 5860\n",
            "rmal_Videos425_x264-features485.npy 5869\n",
            "rmal_Videos425_x264-features486.npy 5878\n",
            "rmal_Videos425_x264-features487.npy 5887\n",
            "rmal_Videos425_x264-features488.npy 5896\n",
            "rmal_Videos425_x264-features489.npy 5905\n",
            "rmal_Videos425_x264-features490.npy 5914\n",
            "rmal_Videos425_x264-features491.npy 5923\n",
            "rmal_Videos425_x264-features492.npy 5932\n",
            "rmal_Videos425_x264-features493.npy 5941\n",
            "rmal_Videos425_x264-features494.npy 5950\n",
            "rmal_Videos425_x264-features495.npy 5959\n",
            "rmal_Videos425_x264-features496.npy 5968\n",
            "rmal_Videos425_x264-features497.npy 5977\n",
            "rmal_Videos425_x264-features498.npy 5986\n",
            "rmal_Videos425_x264-features499.npy 5995\n",
            "rmal_Videos425_x264-features500.npy 6004\n",
            "rmal_Videos425_x264-features501.npy 6013\n",
            "rmal_Videos425_x264-features502.npy 6022\n",
            "rmal_Videos425_x264-features503.npy 6031\n",
            "rmal_Videos425_x264-features504.npy 6040\n",
            "rmal_Videos425_x264-features505.npy 6049\n",
            "rmal_Videos425_x264-features506.npy 6058\n",
            "rmal_Videos425_x264-features507.npy 6067\n",
            "rmal_Videos425_x264-features508.npy 6076\n",
            "rmal_Videos425_x264-features509.npy 6085\n",
            "rmal_Videos425_x264-features510.npy 6094\n",
            "rmal_Videos425_x264-features511.npy 6103\n",
            "rmal_Videos425_x264-features512.npy 6112\n",
            "rmal_Videos425_x264-features513.npy 6121\n",
            "rmal_Videos425_x264-features514.npy 6130\n",
            "rmal_Videos425_x264-features515.npy 6139\n",
            "rmal_Videos425_x264-features516.npy 6148\n",
            "rmal_Videos425_x264-features517.npy 6157\n",
            "rmal_Videos425_x264-features518.npy 6166\n",
            "rmal_Videos425_x264-features519.npy 6175\n",
            "rmal_Videos425_x264-features520.npy 6184\n",
            "rmal_Videos425_x264-features521.npy 6193\n",
            "rmal_Videos425_x264-features522.npy 6202\n",
            "rmal_Videos425_x264-features523.npy 6211\n",
            "rmal_Videos425_x264-features524.npy 6220\n",
            "rmal_Videos425_x264-features525.npy 6229\n",
            "rmal_Videos425_x264-features526.npy 6238\n",
            "rmal_Videos425_x264-features527.npy 6247\n",
            "rmal_Videos425_x264-features528.npy 6256\n",
            "rmal_Videos425_x264-features529.npy 6265\n",
            "rmal_Videos425_x264-features530.npy 6274\n",
            "rmal_Videos425_x264-features531.npy 6283\n",
            "rmal_Videos425_x264-features532.npy 6292\n",
            "rmal_Videos425_x264-features533.npy 6301\n",
            "rmal_Videos425_x264-features534.npy 6310\n",
            "rmal_Videos425_x264-features535.npy 6319\n",
            "rmal_Videos425_x264-features536.npy 6328\n",
            "rmal_Videos425_x264-features537.npy 6337\n",
            "rmal_Videos425_x264-features538.npy 6346\n",
            "rmal_Videos425_x264-features539.npy 6355\n",
            "rmal_Videos425_x264-features540.npy 6364\n",
            "rmal_Videos425_x264-features541.npy 6373\n",
            "rmal_Videos425_x264-features542.npy 6382\n",
            "rmal_Videos425_x264-features543.npy 6391\n",
            "rmal_Videos425_x264-features544.npy 6400\n",
            "rmal_Videos425_x264-features545.npy 6409\n",
            "rmal_Videos425_x264-features546.npy 6418\n",
            "rmal_Videos425_x264-features547.npy 6427\n",
            "rmal_Videos425_x264-features548.npy 6436\n",
            "rmal_Videos425_x264-features549.npy 6445\n",
            "rmal_Videos425_x264-features550.npy 6454\n",
            "rmal_Videos425_x264-features551.npy 6463\n",
            "rmal_Videos425_x264-features552.npy 6472\n",
            "rmal_Videos425_x264-features553.npy 6481\n",
            "rmal_Videos425_x264-features554.npy 6490\n",
            "rmal_Videos425_x264-features555.npy 6499\n",
            "rmal_Videos425_x264-features556.npy 6508\n",
            "rmal_Videos425_x264-features557.npy 6517\n",
            "rmal_Videos425_x264-features558.npy 6526\n",
            "rmal_Videos425_x264-features559.npy 6535\n",
            "rmal_Videos425_x264-features560.npy 6544\n",
            "rmal_Videos425_x264-features561.npy 6553\n",
            "rmal_Videos425_x264-features562.npy 6562\n",
            "rmal_Videos425_x264-features563.npy 6571\n",
            "rmal_Videos425_x264-features564.npy 6580\n",
            "rmal_Videos425_x264-features565.npy 6589\n",
            "rmal_Videos425_x264-features566.npy 6598\n",
            "rmal_Videos425_x264-features567.npy 6607\n",
            "rmal_Videos425_x264-features568.npy 6616\n",
            "rmal_Videos425_x264-features569.npy 6625\n",
            "rmal_Videos425_x264-features570.npy 6634\n",
            "rmal_Videos425_x264-features571.npy 6643\n",
            "rmal_Videos425_x264-features572.npy 6652\n",
            "rmal_Videos425_x264-features573.npy 6661\n",
            "rmal_Videos425_x264-features574.npy 6670\n",
            "rmal_Videos425_x264-features575.npy 6679\n",
            "rmal_Videos425_x264-features576.npy 6688\n",
            "rmal_Videos425_x264-features577.npy 6697\n",
            "rmal_Videos425_x264-features578.npy 6706\n",
            "rmal_Videos425_x264-features579.npy 6715\n",
            "rmal_Videos425_x264-features580.npy 6724\n",
            "rmal_Videos425_x264-features581.npy 6733\n",
            "rmal_Videos425_x264-features582.npy 6742\n",
            "rmal_Videos425_x264-features583.npy 6751\n",
            "rmal_Videos425_x264-features584.npy 6760\n",
            "rmal_Videos425_x264-features585.npy 6769\n",
            "rmal_Videos425_x264-features586.npy 6778\n",
            "rmal_Videos425_x264-features587.npy 6787\n",
            "rmal_Videos425_x264-features588.npy 6796\n",
            "rmal_Videos425_x264-features589.npy 6805\n",
            "rmal_Videos425_x264-features590.npy 6814\n",
            "rmal_Videos425_x264-features591.npy 6823\n",
            "rmal_Videos425_x264-features592.npy 6832\n",
            "rmal_Videos425_x264-features593.npy 6841\n",
            "rmal_Videos425_x264-features594.npy 6850\n",
            "rmal_Videos425_x264-features595.npy 6859\n",
            "rmal_Videos425_x264-features596.npy 6868\n",
            "rmal_Videos425_x264-features597.npy 6877\n",
            "rmal_Videos425_x264-features598.npy 6886\n",
            "rmal_Videos425_x264-features599.npy 6895\n",
            "rmal_Videos425_x264-features600.npy 6904\n",
            "rmal_Videos425_x264-features601.npy 6913\n",
            "rmal_Videos425_x264-features602.npy 6922\n",
            "rmal_Videos425_x264-features603.npy 6931\n",
            "rmal_Videos425_x264-features604.npy 6940\n",
            "rmal_Videos425_x264-features605.npy 6949\n",
            "rmal_Videos425_x264-features606.npy 6958\n",
            "rmal_Videos425_x264-features607.npy 6967\n",
            "rmal_Videos425_x264-features608.npy 6976\n",
            "rmal_Videos425_x264-features609.npy 6985\n",
            "rmal_Videos425_x264-features610.npy 6994\n",
            "rmal_Videos425_x264-features611.npy 7003\n",
            "rmal_Videos425_x264-features612.npy 7012\n",
            "rmal_Videos425_x264-features613.npy 7021\n",
            "rmal_Videos425_x264-features614.npy 7030\n",
            "rmal_Videos425_x264-features615.npy 7039\n",
            "rmal_Videos425_x264-features616.npy 7048\n",
            "rmal_Videos425_x264-features617.npy 7057\n",
            "rmal_Videos425_x264-features618.npy 7066\n",
            "rmal_Videos425_x264-features619.npy 7075\n",
            "rmal_Videos425_x264-features620.npy 7084\n",
            "rmal_Videos425_x264-features621.npy 7093\n",
            "rmal_Videos425_x264-features622.npy 7102\n",
            "rmal_Videos425_x264-features623.npy 7111\n",
            "rmal_Videos425_x264-features624.npy 7120\n",
            "rmal_Videos425_x264-features625.npy 7129\n",
            "rmal_Videos425_x264-features626.npy 7138\n",
            "rmal_Videos425_x264-features627.npy 7147\n",
            "rmal_Videos425_x264-features628.npy 7156\n",
            "rmal_Videos425_x264-features629.npy 7165\n",
            "rmal_Videos425_x264-features630.npy 7174\n",
            "rmal_Videos425_x264-features631.npy 7183\n",
            "rmal_Videos425_x264-features632.npy 7192\n",
            "rmal_Videos425_x264-features633.npy 7201\n",
            "rmal_Videos425_x264-features634.npy 7210\n",
            "rmal_Videos425_x264-features635.npy 7219\n",
            "rmal_Videos425_x264-features636.npy 7228\n",
            "rmal_Videos425_x264-features637.npy 7237\n",
            "rmal_Videos425_x264-features638.npy 7246\n",
            "rmal_Videos425_x264-features639.npy 7255\n",
            "rmal_Videos425_x264-features640.npy 7264\n",
            "rmal_Videos425_x264-features641.npy 7273\n",
            "rmal_Videos425_x264-features642.npy 7282\n",
            "rmal_Videos425_x264-features643.npy 7291\n",
            "rmal_Videos425_x264-features644.npy 7300\n",
            "rmal_Videos425_x264-features645.npy 7309\n",
            "rmal_Videos425_x264-features646.npy 7318\n",
            "rmal_Videos425_x264-features647.npy 7327\n",
            "rmal_Videos425_x264-features648.npy 7336\n",
            "rmal_Videos425_x264-features649.npy 7345\n",
            "rmal_Videos425_x264-features650.npy 7354\n",
            "rmal_Videos425_x264-features651.npy 7363\n",
            "rmal_Videos425_x264-features652.npy 7372\n",
            "rmal_Videos425_x264-features653.npy 7381\n",
            "rmal_Videos425_x264-features654.npy 7390\n",
            "rmal_Videos425_x264-features655.npy 7399\n",
            "rmal_Videos425_x264-features656.npy 7408\n",
            "rmal_Videos425_x264-features657.npy 7417\n",
            "rmal_Videos425_x264-features658.npy 7426\n",
            "rmal_Videos425_x264-features659.npy 7435\n",
            "rmal_Videos425_x264-features660.npy 7444\n",
            "rmal_Videos425_x264-features661.npy 7453\n",
            "rmal_Videos425_x264-features662.npy 7462\n",
            "rmal_Videos425_x264-features663.npy 7471\n",
            "rmal_Videos425_x264-features664.npy 7480\n",
            "rmal_Videos425_x264-features665.npy 7489\n",
            "rmal_Videos425_x264-features666.npy 7498\n",
            "rmal_Videos425_x264-features667.npy 7507\n",
            "rmal_Videos425_x264-features668.npy 7516\n",
            "rmal_Videos425_x264-features669.npy 7525\n",
            "rmal_Videos425_x264-features670.npy 7534\n",
            "rmal_Videos425_x264-features671.npy 7543\n",
            "rmal_Videos425_x264-features672.npy 7552\n",
            "rmal_Videos425_x264-features673.npy 7561\n",
            "rmal_Videos425_x264-features674.npy 7570\n",
            "rmal_Videos425_x264-features675.npy 7579\n",
            "rmal_Videos425_x264-features676.npy 7588\n",
            "rmal_Videos425_x264-features677.npy 7597\n",
            "rmal_Videos425_x264-features678.npy 7606\n",
            "rmal_Videos425_x264-features679.npy 7615\n",
            "rmal_Videos425_x264-features680.npy 7624\n",
            "rmal_Videos425_x264-features681.npy 7633\n",
            "rmal_Videos425_x264-features682.npy 7642\n",
            "rmal_Videos425_x264-features683.npy 7651\n",
            "rmal_Videos425_x264-features684.npy 7660\n",
            "rmal_Videos425_x264-features685.npy 7669\n",
            "rmal_Videos425_x264-features686.npy 7678\n",
            "rmal_Videos425_x264-features687.npy 7687\n",
            "rmal_Videos425_x264-features688.npy 7696\n",
            "rmal_Videos425_x264-features689.npy 7705\n",
            "rmal_Videos425_x264-features690.npy 7714\n",
            "rmal_Videos425_x264-features691.npy 7723\n",
            "rmal_Videos425_x264-features692.npy 7732\n",
            "rmal_Videos425_x264-features693.npy 7741\n",
            "rmal_Videos425_x264-features694.npy 7750\n",
            "rmal_Videos425_x264-features695.npy 7759\n",
            "rmal_Videos425_x264-features696.npy 7768\n",
            "rmal_Videos425_x264-features697.npy 7777\n",
            "rmal_Videos425_x264-features698.npy 7786\n",
            "rmal_Videos425_x264-features699.npy 7795\n",
            "rmal_Videos425_x264-features700.npy 7804\n",
            "rmal_Videos425_x264-features701.npy 7813\n",
            "rmal_Videos425_x264-features702.npy 7822\n",
            "rmal_Videos425_x264-features703.npy 7831\n",
            "rmal_Videos425_x264-features704.npy 7840\n",
            "rmal_Videos425_x264-features705.npy 7849\n",
            "rmal_Videos425_x264-features706.npy 7858\n",
            "rmal_Videos425_x264-features707.npy 7867\n",
            "rmal_Videos425_x264-features708.npy 7876\n",
            "rmal_Videos425_x264-features709.npy 7885\n",
            "rmal_Videos425_x264-features710.npy 7894\n",
            "rmal_Videos425_x264-features711.npy 7903\n",
            "rmal_Videos425_x264-features712.npy 7912\n",
            "rmal_Videos425_x264-features713.npy 7921\n",
            "rmal_Videos121_x264-features1.npy 7930\n",
            "rmal_Videos121_x264-features2.npy 7939\n",
            "rmal_Videos121_x264-features3.npy 7948\n",
            "rmal_Videos121_x264-features4.npy 7957\n",
            "rmal_Videos104_x264-features1.npy 7966\n",
            "rmal_Videos104_x264-features2.npy 7975\n",
            "rmal_Videos127_x264-features1.npy 7984\n",
            "rmal_Videos127_x264-features2.npy 7993\n",
            "rmal_Videos127_x264-features3.npy 8002\n",
            "rmal_Videos127_x264-features4.npy 8011\n",
            "rmal_Videos127_x264-features5.npy 8020\n",
            "rmal_Videos127_x264-features6.npy 8029\n",
            "rmal_Videos414_x264-features1.npy 8038\n",
            "rmal_Videos095_x264-features1.npy 8047\n",
            "rmal_Videos095_x264-features2.npy 8056\n",
            "rmal_Videos095_x264-features3.npy 8065\n",
            "rmal_Videos285_x264-features1.npy 8074\n",
            "rmal_Videos285_x264-features2.npy 8083\n",
            "rmal_Videos285_x264-features3.npy 8092\n",
            "rmal_Videos285_x264-features4.npy 8101\n",
            "rmal_Videos285_x264-features5.npy 8110\n",
            "rmal_Videos285_x264-features6.npy 8119\n",
            "rmal_Videos285_x264-features7.npy 8128\n",
            "rmal_Videos272_x264-features1.npy 8137\n",
            "rmal_Videos272_x264-features2.npy 8146\n",
            "rmal_Videos272_x264-features3.npy 8155\n",
            "rmal_Videos272_x264-features4.npy 8164\n",
            "rmal_Videos272_x264-features5.npy 8173\n",
            "rmal_Videos272_x264-features6.npy 8182\n",
            "rmal_Videos272_x264-features7.npy 8191\n",
            "rmal_Videos272_x264-features8.npy 8200\n",
            "rmal_Videos272_x264-features9.npy 8209\n",
            "rmal_Videos272_x264-features10.npy 8218\n",
            "rmal_Videos238_x264-features1.npy 8227\n",
            "rmal_Videos238_x264-features2.npy 8236\n",
            "rmal_Videos238_x264-features3.npy 8245\n",
            "rmal_Videos238_x264-features4.npy 8254\n",
            "rmal_Videos238_x264-features5.npy 8263\n",
            "rmal_Videos238_x264-features6.npy 8272\n",
            "rmal_Videos238_x264-features7.npy 8281\n",
            "rmal_Videos238_x264-features8.npy 8290\n",
            "rmal_Videos238_x264-features9.npy 8299\n",
            "rmal_Videos238_x264-features10.npy 8308\n",
            "rmal_Videos238_x264-features11.npy 8317\n",
            "rmal_Videos363_x264-features1.npy 8326\n",
            "rmal_Videos363_x264-features2.npy 8335\n",
            "rmal_Videos363_x264-features3.npy 8344\n",
            "rmal_Videos363_x264-features4.npy 8353\n",
            "rmal_Videos363_x264-features5.npy 8362\n",
            "rmal_Videos363_x264-features6.npy 8371\n",
            "rmal_Videos363_x264-features7.npy 8380\n",
            "rmal_Videos363_x264-features8.npy 8389\n",
            "rmal_Videos363_x264-features9.npy 8398\n",
            "rmal_Videos363_x264-features10.npy 8407\n",
            "rmal_Videos363_x264-features11.npy 8416\n",
            "rmal_Videos363_x264-features12.npy 8425\n",
            "rmal_Videos363_x264-features13.npy 8434\n",
            "rmal_Videos363_x264-features14.npy 8443\n",
            "rmal_Videos363_x264-features15.npy 8452\n",
            "rmal_Videos363_x264-features16.npy 8461\n",
            "rmal_Videos363_x264-features17.npy 8470\n",
            "rmal_Videos379_x264-features1.npy 8479\n",
            "rmal_Videos379_x264-features2.npy 8488\n",
            "rmal_Videos379_x264-features3.npy 8497\n",
            "rmal_Videos379_x264-features4.npy 8506\n",
            "rmal_Videos347_x264-features1.npy 8515\n",
            "rmal_Videos347_x264-features2.npy 8524\n",
            "rmal_Videos347_x264-features3.npy 8533\n",
            "rmal_Videos347_x264-features4.npy 8542\n",
            "rmal_Videos347_x264-features5.npy 8551\n",
            "rmal_Videos347_x264-features6.npy 8560\n",
            "rmal_Videos347_x264-features7.npy 8569\n",
            "rmal_Videos348_x264-features1.npy 8578\n",
            "rmal_Videos348_x264-features2.npy 8587\n",
            "rmal_Videos348_x264-features3.npy 8596\n",
            "rmal_Videos348_x264-features4.npy 8605\n",
            "rmal_Videos348_x264-features5.npy 8614\n",
            "rmal_Videos188_x264-features1.npy 8623\n",
            "rmal_Videos188_x264-features2.npy 8632\n",
            "rmal_Videos188_x264-features3.npy 8641\n",
            "rmal_Videos188_x264-features4.npy 8650\n",
            "rmal_Videos188_x264-features5.npy 8659\n",
            "rmal_Videos188_x264-features6.npy 8668\n",
            "rmal_Videos188_x264-features7.npy 8677\n",
            "rmal_Videos188_x264-features8.npy 8686\n",
            "rmal_Videos188_x264-features9.npy 8695\n",
            "rmal_Videos188_x264-features10.npy 8704\n",
            "rmal_Videos188_x264-features11.npy 8713\n",
            "rmal_Videos188_x264-features12.npy 8722\n",
            "rmal_Videos188_x264-features13.npy 8731\n",
            "rmal_Videos188_x264-features14.npy 8740\n",
            "rmal_Videos188_x264-features15.npy 8749\n",
            "rmal_Videos188_x264-features16.npy 8758\n",
            "rmal_Videos188_x264-features17.npy 8767\n",
            "rmal_Videos188_x264-features18.npy 8776\n",
            "rmal_Videos188_x264-features19.npy 8785\n",
            "rmal_Videos188_x264-features20.npy 8794\n",
            "rmal_Videos188_x264-features21.npy 8803\n",
            "rmal_Videos188_x264-features22.npy 8812\n",
            "rmal_Videos188_x264-features23.npy 8821\n",
            "rmal_Videos188_x264-features24.npy 8830\n",
            "rmal_Videos188_x264-features25.npy 8839\n",
            "rmal_Videos188_x264-features26.npy 8848\n",
            "rmal_Videos188_x264-features27.npy 8857\n",
            "rmal_Videos188_x264-features28.npy 8866\n",
            "rmal_Videos188_x264-features29.npy 8875\n",
            "rmal_Videos188_x264-features30.npy 8884\n",
            "rmal_Videos188_x264-features31.npy 8893\n",
            "rmal_Videos188_x264-features32.npy 8902\n",
            "rmal_Videos188_x264-features33.npy 8911\n",
            "rmal_Videos201_x264-features1.npy 8920\n",
            "rmal_Videos201_x264-features2.npy 8929\n",
            "rmal_Videos201_x264-features3.npy 8938\n",
            "rmal_Videos201_x264-features4.npy 8947\n",
            "rmal_Videos201_x264-features5.npy 8956\n",
            "rmal_Videos201_x264-features6.npy 8965\n",
            "rmal_Videos201_x264-features7.npy 8974\n",
            "rmal_Videos201_x264-features8.npy 8983\n",
            "rmal_Videos201_x264-features9.npy 8992\n",
            "rmal_Videos201_x264-features10.npy 9001\n",
            "rmal_Videos139_x264-features89.npy 9010\n",
            "rmal_Videos139_x264-features90.npy 9019\n",
            "rmal_Videos139_x264-features91.npy 9028\n",
            "rmal_Videos139_x264-features92.npy 9037\n",
            "rmal_Videos139_x264-features93.npy 9046\n",
            "rmal_Videos099_x264-features1.npy 9055\n",
            "rmal_Videos099_x264-features2.npy 9064\n",
            "rmal_Videos099_x264-features3.npy 9073\n",
            "rmal_Videos099_x264-features4.npy 9082\n",
            "rmal_Videos099_x264-features5.npy 9091\n",
            "rmal_Videos099_x264-features6.npy 9100\n",
            "rmal_Videos099_x264-features7.npy 9109\n",
            "rmal_Videos113_x264-features1.npy 9118\n",
            "rmal_Videos113_x264-features2.npy 9127\n",
            "rmal_Videos126_x264-features1.npy 9136\n",
            "rmal_Videos126_x264-features2.npy 9145\n",
            "rmal_Videos126_x264-features3.npy 9154\n",
            "rmal_Videos126_x264-features4.npy 9163\n",
            "rmal_Videos126_x264-features5.npy 9172\n",
            "rmal_Videos126_x264-features6.npy 9181\n",
            "rmal_Videos126_x264-features7.npy 9190\n",
            "rmal_Videos126_x264-features8.npy 9199\n",
            "rmal_Videos126_x264-features9.npy 9208\n",
            "rmal_Videos126_x264-features10.npy 9217\n",
            "rmal_Videos240_x264-features1.npy 9226\n",
            "rmal_Videos240_x264-features2.npy 9235\n",
            "rmal_Videos240_x264-features3.npy 9244\n",
            "rmal_Videos240_x264-features4.npy 9253\n",
            "rmal_Videos240_x264-features5.npy 9262\n",
            "rmal_Videos240_x264-features6.npy 9271\n",
            "rmal_Videos240_x264-features7.npy 9280\n",
            "rmal_Videos240_x264-features8.npy 9289\n",
            "rmal_Videos240_x264-features9.npy 9298\n",
            "rmal_Videos240_x264-features10.npy 9307\n",
            "rmal_Videos240_x264-features11.npy 9316\n",
            "rmal_Videos240_x264-features12.npy 9325\n",
            "rmal_Videos240_x264-features13.npy 9334\n",
            "rmal_Videos240_x264-features14.npy 9343\n",
            "rmal_Videos240_x264-features15.npy 9352\n",
            "rmal_Videos250_x264-features1.npy 9361\n",
            "rmal_Videos250_x264-features2.npy 9370\n",
            "rmal_Videos250_x264-features3.npy 9379\n",
            "rmal_Videos250_x264-features4.npy 9388\n",
            "rmal_Videos250_x264-features5.npy 9397\n",
            "rmal_Videos250_x264-features6.npy 9406\n",
            "rmal_Videos250_x264-features7.npy 9415\n",
            "rmal_Videos250_x264-features8.npy 9424\n",
            "rmal_Videos250_x264-features9.npy 9433\n",
            "rmal_Videos250_x264-features10.npy 9442\n",
            "rmal_Videos250_x264-features11.npy 9451\n",
            "rmal_Videos250_x264-features12.npy 9460\n",
            "rmal_Videos250_x264-features13.npy 9469\n",
            "rmal_Videos273_x264-features1.npy 9478\n",
            "rmal_Videos273_x264-features2.npy 9487\n",
            "rmal_Videos273_x264-features3.npy 9496\n",
            "rmal_Videos273_x264-features4.npy 9505\n",
            "rmal_Videos273_x264-features5.npy 9514\n",
            "rmal_Videos273_x264-features6.npy 9523\n",
            "rmal_Videos273_x264-features7.npy 9532\n",
            "rmal_Videos273_x264-features8.npy 9541\n",
            "rmal_Videos273_x264-features9.npy 9550\n",
            "rmal_Videos273_x264-features10.npy 9559\n",
            "rmal_Videos273_x264-features11.npy 9568\n",
            "rmal_Videos273_x264-features12.npy 9577\n",
            "rmal_Videos273_x264-features13.npy 9586\n",
            "rmal_Videos273_x264-features14.npy 9595\n",
            "rmal_Videos181_x264-features1.npy 9604\n",
            "rmal_Videos181_x264-features2.npy 9613\n",
            "rmal_Videos181_x264-features3.npy 9622\n",
            "rmal_Videos181_x264-features4.npy 9631\n",
            "rmal_Videos181_x264-features5.npy 9640\n",
            "rmal_Videos181_x264-features6.npy 9649\n",
            "rmal_Videos181_x264-features7.npy 9658\n",
            "rmal_Videos181_x264-features8.npy 9667\n",
            "rmal_Videos181_x264-features9.npy 9676\n",
            "rmal_Videos181_x264-features10.npy 9685\n",
            "rmal_Videos181_x264-features11.npy 9694\n",
            "rmal_Videos181_x264-features12.npy 9703\n",
            "rmal_Videos181_x264-features13.npy 9712\n",
            "rmal_Videos181_x264-features14.npy 9721\n",
            "rmal_Videos181_x264-features15.npy 9730\n",
            "rmal_Videos230_x264-features1.npy 9739\n",
            "rmal_Videos198_x264-features1.npy 9748\n",
            "rmal_Videos198_x264-features2.npy 9757\n",
            "rmal_Videos198_x264-features3.npy 9766\n",
            "rmal_Videos198_x264-features4.npy 9775\n",
            "rmal_Videos198_x264-features5.npy 9784\n",
            "rmal_Videos198_x264-features6.npy 9793\n",
            "rmal_Videos198_x264-features7.npy 9802\n",
            "rmal_Videos198_x264-features8.npy 9811\n",
            "rmal_Videos482_x264-features1.npy 9820\n",
            "rmal_Videos482_x264-features2.npy 9829\n",
            "rmal_Videos482_x264-features3.npy 9838\n",
            "rmal_Videos482_x264-features4.npy 9847\n",
            "rmal_Videos482_x264-features5.npy 9856\n",
            "rmal_Videos482_x264-features6.npy 9865\n",
            "rmal_Videos482_x264-features7.npy 9874\n",
            "rmal_Videos482_x264-features8.npy 9883\n",
            "rmal_Videos482_x264-features9.npy 9892\n",
            "rmal_Videos482_x264-features10.npy 9901\n",
            "rmal_Videos482_x264-features11.npy 9910\n",
            "rmal_Videos482_x264-features12.npy 9919\n",
            "rmal_Videos482_x264-features13.npy 9928\n",
            "rmal_Videos482_x264-features14.npy 9937\n",
            "rmal_Videos482_x264-features15.npy 9946\n",
            "rmal_Videos482_x264-features16.npy 9955\n",
            "rmal_Videos264_x264-features1.npy 9964\n",
            "rmal_Videos264_x264-features2.npy 9973\n",
            "rmal_Videos264_x264-features3.npy 9982\n",
            "rmal_Videos264_x264-features4.npy 9991\n",
            "rmal_Videos264_x264-features5.npy 10000\n",
            "rmal_Videos264_x264-features6.npy 10009\n",
            "Saved!!!!!!!!!!!!!!!!!!\n",
            "rmal_Videos264_x264-features7.npy 10018\n"
          ],
          "name": "stdout"
        },
        {
          "output_type": "error",
          "ename": "KeyboardInterrupt",
          "evalue": "ignored",
          "traceback": [
            "\u001b[0;31m---------------------------------------------------------------------------\u001b[0m",
            "\u001b[0;31mKeyboardInterrupt\u001b[0m                         Traceback (most recent call last)",
            "\u001b[0;32m<ipython-input-16-f69767eb8bc8>\u001b[0m in \u001b[0;36m<module>\u001b[0;34m()\u001b[0m\n\u001b[1;32m      3\u001b[0m \u001b[0;32mfor\u001b[0m \u001b[0mfilee\u001b[0m \u001b[0;32min\u001b[0m \u001b[0mos\u001b[0m\u001b[0;34m.\u001b[0m\u001b[0mlistdir\u001b[0m\u001b[0;34m(\u001b[0m\u001b[0mfilepth\u001b[0m\u001b[0;34m)\u001b[0m\u001b[0;34m:\u001b[0m\u001b[0;34m\u001b[0m\u001b[0;34m\u001b[0m\u001b[0m\n\u001b[1;32m      4\u001b[0m   \u001b[0mc\u001b[0m \u001b[0;34m=\u001b[0m \u001b[0mnp\u001b[0m\u001b[0;34m.\u001b[0m\u001b[0mload\u001b[0m\u001b[0;34m(\u001b[0m\u001b[0mfilepth\u001b[0m\u001b[0;34m+\u001b[0m\u001b[0mfilee\u001b[0m\u001b[0;34m)\u001b[0m\u001b[0;34m\u001b[0m\u001b[0;34m\u001b[0m\u001b[0m\n\u001b[0;32m----> 5\u001b[0;31m   \u001b[0memp\u001b[0m \u001b[0;34m=\u001b[0m \u001b[0mnp\u001b[0m\u001b[0;34m.\u001b[0m\u001b[0mconcatenate\u001b[0m\u001b[0;34m(\u001b[0m\u001b[0;34m(\u001b[0m\u001b[0memp\u001b[0m\u001b[0;34m,\u001b[0m \u001b[0mc\u001b[0m\u001b[0;34m)\u001b[0m\u001b[0;34m)\u001b[0m\u001b[0;34m\u001b[0m\u001b[0;34m\u001b[0m\u001b[0m\n\u001b[0m\u001b[1;32m      6\u001b[0m   \u001b[0mprint\u001b[0m\u001b[0;34m(\u001b[0m \u001b[0mfilee\u001b[0m\u001b[0;34m,\u001b[0m \u001b[0memp\u001b[0m\u001b[0;34m.\u001b[0m\u001b[0mshape\u001b[0m\u001b[0;34m[\u001b[0m\u001b[0;36m0\u001b[0m\u001b[0;34m]\u001b[0m \u001b[0;34m)\u001b[0m\u001b[0;34m\u001b[0m\u001b[0;34m\u001b[0m\u001b[0m\n\u001b[1;32m      7\u001b[0m   \u001b[0;32mif\u001b[0m \u001b[0;36m10000\u001b[0m \u001b[0;34m<\u001b[0m \u001b[0memp\u001b[0m\u001b[0;34m.\u001b[0m\u001b[0mshape\u001b[0m\u001b[0;34m[\u001b[0m\u001b[0;36m0\u001b[0m\u001b[0;34m]\u001b[0m \u001b[0;34m<\u001b[0m \u001b[0;36m10010\u001b[0m\u001b[0;34m:\u001b[0m\u001b[0;34m\u001b[0m\u001b[0;34m\u001b[0m\u001b[0m\n",
            "\u001b[0;32m<__array_function__ internals>\u001b[0m in \u001b[0;36mconcatenate\u001b[0;34m(*args, **kwargs)\u001b[0m\n",
            "\u001b[0;31mKeyboardInterrupt\u001b[0m: "
          ]
        }
      ]
    },
    {
      "cell_type": "code",
      "metadata": {
        "id": "IBTwq6tNb3GQ",
        "colab_type": "code",
        "outputId": "7830a704-47de-4dcc-93ce-295131dda597",
        "colab": {
          "base_uri": "https://localhost:8080/",
          "height": 34
        }
      },
      "source": [
        "train_Ynormal = np.zeros(10009)\n",
        "valid_ynormal = np.zeros(3998)\n",
        "\n",
        "train_yabnorm = np.zeros()\n",
        "valid_yabnorm = np.zeros(4398)\n"
      ],
      "execution_count": 0,
      "outputs": [
        {
          "output_type": "execute_result",
          "data": {
            "text/plain": [
              "(10009,)"
            ]
          },
          "metadata": {
            "tags": []
          },
          "execution_count": 7
        }
      ]
    },
    {
      "cell_type": "code",
      "metadata": {
        "id": "L3Yt2sgQ1qkj",
        "colab_type": "code",
        "outputId": "38cf70f0-4db8-404b-9ac9-9d932a8b589a",
        "colab": {
          "base_uri": "https://localhost:8080/",
          "height": 203
        }
      },
      "source": [
        "import numpy as np\n",
        "# arsa is train_Normal\n",
        "# Train_Normal is of 10009 \n",
        "# Valid Normal is of 3998\n",
        "# valid_abnorm is 4398\n",
        "# del arsasss"
      ],
      "execution_count": 0,
      "outputs": [
        {
          "output_type": "error",
          "ename": "NameError",
          "evalue": "ignored",
          "traceback": [
            "\u001b[0;31m---------------------------------------------------------------------------\u001b[0m",
            "\u001b[0;31mNameError\u001b[0m                                 Traceback (most recent call last)",
            "\u001b[0;32m<ipython-input-2-3a9b39e9f084>\u001b[0m in \u001b[0;36m<module>\u001b[0;34m()\u001b[0m\n\u001b[1;32m      4\u001b[0m \u001b[0;31m# Valid Normal is of 3998\u001b[0m\u001b[0;34m\u001b[0m\u001b[0;34m\u001b[0m\u001b[0;34m\u001b[0m\u001b[0m\n\u001b[1;32m      5\u001b[0m \u001b[0;31m# valid_abnorm is 4398\u001b[0m\u001b[0;34m\u001b[0m\u001b[0;34m\u001b[0m\u001b[0;34m\u001b[0m\u001b[0m\n\u001b[0;32m----> 6\u001b[0;31m \u001b[0;32mdel\u001b[0m \u001b[0marsasss\u001b[0m\u001b[0;34m\u001b[0m\u001b[0;34m\u001b[0m\u001b[0m\n\u001b[0m",
            "\u001b[0;31mNameError\u001b[0m: name 'arsasss' is not defined"
          ]
        }
      ]
    },
    {
      "cell_type": "code",
      "metadata": {
        "id": "NtKPurKwTmZB",
        "colab_type": "code",
        "outputId": "474ad7d7-5a3e-4737-e14d-8058e099cc40",
        "colab": {
          "base_uri": "https://localhost:8080/",
          "height": 34
        }
      },
      "source": [
        "import numpy as np\n",
        "dummy = np.load('data/valid/Normal/rmal_Videos_453_x264-features1.npy')\n",
        "# arsasss = np.load('train_normal1111.npy')\n",
        "# arsasss = np.load('valid_normal123.npy')                                                              \n",
        "\n",
        "# arsasss = np.load('data/train_abnormal1.npy')                                                                                         \n",
        "# arsasss = np.load('valid_abnorm.npy')\n",
        "\n",
        "        \n",
        "                                                        \n",
        "dummy.shape"
      ],
      "execution_count": 0,
      "outputs": [
        {
          "output_type": "execute_result",
          "data": {
            "text/plain": [
              "(9, 8, 8, 2048)"
            ]
          },
          "metadata": {
            "tags": []
          },
          "execution_count": 6
        }
      ]
    },
    {
      "cell_type": "code",
      "metadata": {
        "id": "Az4TfI1Px1Ud",
        "colab_type": "code",
        "colab": {}
      },
      "source": [
        ""
      ],
      "execution_count": 0,
      "outputs": []
    },
    {
      "cell_type": "code",
      "metadata": {
        "id": "cGIPt_KNx2e0",
        "colab_type": "code",
        "colab": {}
      },
      "source": [
        ""
      ],
      "execution_count": 0,
      "outputs": []
    },
    {
      "cell_type": "code",
      "metadata": {
        "id": "X0ORW-eyx2zM",
        "colab_type": "code",
        "colab": {}
      },
      "source": [
        ""
      ],
      "execution_count": 0,
      "outputs": []
    },
    {
      "cell_type": "code",
      "metadata": {
        "id": "tHOtZnhSxz11",
        "colab_type": "code",
        "colab": {}
      },
      "source": [
        ""
      ],
      "execution_count": 0,
      "outputs": []
    },
    {
      "cell_type": "code",
      "metadata": {
        "id": "OeazAWF2xy_W",
        "colab_type": "code",
        "colab": {}
      },
      "source": [
        ""
      ],
      "execution_count": 0,
      "outputs": []
    },
    {
      "cell_type": "code",
      "metadata": {
        "id": "TXj3uJ4Jr0oU",
        "colab_type": "code",
        "colab": {}
      },
      "source": [
        "# if performance becomes bad.. think of this as one way of improving it.\n",
        "# filepth = 'data/train/Normal/'\n",
        "# for filee in os.listdir(filepth):\n",
        "#   c = np.load(filepth+filee)\n",
        "#   if c.shape[0] < 9:\n",
        "#     print(filee)\n",
        "#     os.remove(filepth+filee)"
      ],
      "execution_count": 0,
      "outputs": []
    },
    {
      "cell_type": "code",
      "metadata": {
        "id": "tQRdY6DZ42kG",
        "colab_type": "code",
        "outputId": "2564a0ff-70f2-48f0-c2f6-fb9839d9abbd",
        "colab": {
          "base_uri": "https://localhost:8080/",
          "height": 372
        }
      },
      "source": [
        "data =[]\n",
        "target=[]\n",
        "epoch = 1500\n",
        "batchS = 100\n",
        "for i in joint_transfer:\n",
        "    data.append(i)\n",
        "    target.append(np.array(i[1]))\n",
        "model.fit(data, target, epochs=epoch, batch_size=batchS, verbose=1)"
      ],
      "execution_count": 0,
      "outputs": [
        {
          "output_type": "error",
          "ename": "IndexError",
          "evalue": "ignored",
          "traceback": [
            "\u001b[0;31m---------------------------------------------------------------------------\u001b[0m",
            "\u001b[0;31mIndexError\u001b[0m                                Traceback (most recent call last)",
            "\u001b[0;32m<ipython-input-33-5a6a73996d7e>\u001b[0m in \u001b[0;36m<module>\u001b[0;34m()\u001b[0m\n\u001b[1;32m      6\u001b[0m     \u001b[0mdata\u001b[0m\u001b[0;34m.\u001b[0m\u001b[0mappend\u001b[0m\u001b[0;34m(\u001b[0m\u001b[0mi\u001b[0m\u001b[0;34m[\u001b[0m\u001b[0;36m0\u001b[0m\u001b[0;34m]\u001b[0m\u001b[0;34m)\u001b[0m\u001b[0;34m\u001b[0m\u001b[0;34m\u001b[0m\u001b[0m\n\u001b[1;32m      7\u001b[0m     \u001b[0mtarget\u001b[0m\u001b[0;34m.\u001b[0m\u001b[0mappend\u001b[0m\u001b[0;34m(\u001b[0m\u001b[0mnp\u001b[0m\u001b[0;34m.\u001b[0m\u001b[0marray\u001b[0m\u001b[0;34m(\u001b[0m\u001b[0mi\u001b[0m\u001b[0;34m[\u001b[0m\u001b[0;36m1\u001b[0m\u001b[0;34m]\u001b[0m\u001b[0;34m)\u001b[0m\u001b[0;34m)\u001b[0m\u001b[0;34m\u001b[0m\u001b[0;34m\u001b[0m\u001b[0m\n\u001b[0;32m----> 8\u001b[0;31m \u001b[0mmodel\u001b[0m\u001b[0;34m.\u001b[0m\u001b[0mfit\u001b[0m\u001b[0;34m(\u001b[0m\u001b[0mdata\u001b[0m\u001b[0;34m,\u001b[0m \u001b[0mtarget\u001b[0m\u001b[0;34m,\u001b[0m \u001b[0mepochs\u001b[0m\u001b[0;34m=\u001b[0m\u001b[0mepoch\u001b[0m\u001b[0;34m,\u001b[0m \u001b[0mbatch_size\u001b[0m\u001b[0;34m=\u001b[0m\u001b[0mbatchS\u001b[0m\u001b[0;34m,\u001b[0m \u001b[0mverbose\u001b[0m\u001b[0;34m=\u001b[0m\u001b[0;36m1\u001b[0m\u001b[0;34m)\u001b[0m\u001b[0;34m\u001b[0m\u001b[0;34m\u001b[0m\u001b[0m\n\u001b[0m",
            "\u001b[0;32m/usr/local/lib/python3.6/dist-packages/keras/engine/training.py\u001b[0m in \u001b[0;36mfit\u001b[0;34m(self, x, y, batch_size, epochs, verbose, callbacks, validation_split, validation_data, shuffle, class_weight, sample_weight, initial_epoch, steps_per_epoch, validation_steps, validation_freq, max_queue_size, workers, use_multiprocessing, **kwargs)\u001b[0m\n\u001b[1;32m   1087\u001b[0m             \u001b[0msample_weight\u001b[0m\u001b[0;34m=\u001b[0m\u001b[0msample_weight\u001b[0m\u001b[0;34m,\u001b[0m\u001b[0;34m\u001b[0m\u001b[0;34m\u001b[0m\u001b[0m\n\u001b[1;32m   1088\u001b[0m             \u001b[0mclass_weight\u001b[0m\u001b[0;34m=\u001b[0m\u001b[0mclass_weight\u001b[0m\u001b[0;34m,\u001b[0m\u001b[0;34m\u001b[0m\u001b[0;34m\u001b[0m\u001b[0m\n\u001b[0;32m-> 1089\u001b[0;31m             batch_size=batch_size)\n\u001b[0m\u001b[1;32m   1090\u001b[0m \u001b[0;34m\u001b[0m\u001b[0m\n\u001b[1;32m   1091\u001b[0m         \u001b[0;31m# Prepare validation data.\u001b[0m\u001b[0;34m\u001b[0m\u001b[0;34m\u001b[0m\u001b[0;34m\u001b[0m\u001b[0m\n",
            "\u001b[0;32m/usr/local/lib/python3.6/dist-packages/keras/engine/training.py\u001b[0m in \u001b[0;36m_standardize_user_data\u001b[0;34m(self, x, y, sample_weight, class_weight, check_array_lengths, batch_size)\u001b[0m\n\u001b[1;32m    755\u001b[0m             \u001b[0mfeed_input_shapes\u001b[0m\u001b[0;34m,\u001b[0m\u001b[0;34m\u001b[0m\u001b[0;34m\u001b[0m\u001b[0m\n\u001b[1;32m    756\u001b[0m             \u001b[0mcheck_batch_axis\u001b[0m\u001b[0;34m=\u001b[0m\u001b[0;32mFalse\u001b[0m\u001b[0;34m,\u001b[0m  \u001b[0;31m# Don't enforce the batch size.\u001b[0m\u001b[0;34m\u001b[0m\u001b[0;34m\u001b[0m\u001b[0m\n\u001b[0;32m--> 757\u001b[0;31m             exception_prefix='input')\n\u001b[0m\u001b[1;32m    758\u001b[0m \u001b[0;34m\u001b[0m\u001b[0m\n\u001b[1;32m    759\u001b[0m         \u001b[0;32mif\u001b[0m \u001b[0my\u001b[0m \u001b[0;32mis\u001b[0m \u001b[0;32mnot\u001b[0m \u001b[0;32mNone\u001b[0m\u001b[0;34m:\u001b[0m\u001b[0;34m\u001b[0m\u001b[0;34m\u001b[0m\u001b[0m\n",
            "\u001b[0;32m/usr/local/lib/python3.6/dist-packages/keras/engine/training_utils.py\u001b[0m in \u001b[0;36mstandardize_input_data\u001b[0;34m(data, names, shapes, check_batch_axis, exception_prefix)\u001b[0m\n\u001b[1;32m     81\u001b[0m                              'for each key in: ' + str(names))\n\u001b[1;32m     82\u001b[0m     \u001b[0;32melif\u001b[0m \u001b[0misinstance\u001b[0m\u001b[0;34m(\u001b[0m\u001b[0mdata\u001b[0m\u001b[0;34m,\u001b[0m \u001b[0mlist\u001b[0m\u001b[0;34m)\u001b[0m\u001b[0;34m:\u001b[0m\u001b[0;34m\u001b[0m\u001b[0;34m\u001b[0m\u001b[0m\n\u001b[0;32m---> 83\u001b[0;31m         \u001b[0;32mif\u001b[0m \u001b[0misinstance\u001b[0m\u001b[0;34m(\u001b[0m\u001b[0mdata\u001b[0m\u001b[0;34m[\u001b[0m\u001b[0;36m0\u001b[0m\u001b[0;34m]\u001b[0m\u001b[0;34m,\u001b[0m \u001b[0mlist\u001b[0m\u001b[0;34m)\u001b[0m\u001b[0;34m:\u001b[0m\u001b[0;34m\u001b[0m\u001b[0;34m\u001b[0m\u001b[0m\n\u001b[0m\u001b[1;32m     84\u001b[0m             \u001b[0mdata\u001b[0m \u001b[0;34m=\u001b[0m \u001b[0;34m[\u001b[0m\u001b[0mnp\u001b[0m\u001b[0;34m.\u001b[0m\u001b[0masarray\u001b[0m\u001b[0;34m(\u001b[0m\u001b[0md\u001b[0m\u001b[0;34m)\u001b[0m \u001b[0;32mfor\u001b[0m \u001b[0md\u001b[0m \u001b[0;32min\u001b[0m \u001b[0mdata\u001b[0m\u001b[0;34m]\u001b[0m\u001b[0;34m\u001b[0m\u001b[0;34m\u001b[0m\u001b[0m\n\u001b[1;32m     85\u001b[0m         \u001b[0;32melif\u001b[0m \u001b[0mlen\u001b[0m\u001b[0;34m(\u001b[0m\u001b[0mnames\u001b[0m\u001b[0;34m)\u001b[0m \u001b[0;34m==\u001b[0m \u001b[0;36m1\u001b[0m \u001b[0;32mand\u001b[0m \u001b[0misinstance\u001b[0m\u001b[0;34m(\u001b[0m\u001b[0mdata\u001b[0m\u001b[0;34m[\u001b[0m\u001b[0;36m0\u001b[0m\u001b[0;34m]\u001b[0m\u001b[0;34m,\u001b[0m \u001b[0;34m(\u001b[0m\u001b[0mfloat\u001b[0m\u001b[0;34m,\u001b[0m \u001b[0mint\u001b[0m\u001b[0;34m)\u001b[0m\u001b[0;34m)\u001b[0m\u001b[0;34m:\u001b[0m\u001b[0;34m\u001b[0m\u001b[0;34m\u001b[0m\u001b[0m\n",
            "\u001b[0;31mIndexError\u001b[0m: list index out of range"
          ]
        }
      ]
    },
    {
      "cell_type": "code",
      "metadata": {
        "id": "j7TKK-tLd5h4",
        "colab_type": "code",
        "colab": {}
      },
      "source": [
        "\n",
        "  \n",
        "# c.shape[0]"
      ],
      "execution_count": 0,
      "outputs": []
    },
    {
      "cell_type": "code",
      "metadata": {
        "id": "xdRwX28ndPu6",
        "colab_type": "code",
        "colab": {}
      },
      "source": [
        "for a in os.listdir('data/valid/Abnorm'):\n",
        "  npy = np.load(a)\n",
        "  \n",
        "\n",
        "  "
      ],
      "execution_count": 0,
      "outputs": []
    },
    {
      "cell_type": "code",
      "metadata": {
        "id": "oYVCMjXgVr0g",
        "colab_type": "code",
        "colab": {}
      },
      "source": [
        "def train(data_type='features', seq_length=40, model='lstm', saved_model=None,\n",
        "          class_limit=None, image_shape=None,\n",
        "          load_to_memory=False, batch_size=32, nb_epoch=100):\n",
        "  \n",
        "\n",
        "  # Get the data and process it.\n",
        "      data = DataSet(seq_length=seq_length, class_limit=class_limit)\n",
        "\n",
        "\n",
        "  # Get samples per epoch.\n",
        "  # Multiply by 0.7 to attempt to guess how much of data.data is the train set.\n",
        "  steps_per_epoch = (len(data.data) * 0.7) // batch_size\n",
        "\n",
        "  if load_to_memory:\n",
        "      # Get data.\n",
        "      X, y = data.get_all_sequences_in_memory('train', data_type)\n",
        "      X_test, y_test = data.get_all_sequences_in_memory('test', data_type)\n",
        "  else:\n",
        "      # Get generators.\n",
        "      generator = data.frame_generator(batch_size, 'train', data_type)\n",
        "      val_generator = data.frame_generator(batch_size, 'test', data_type)\n",
        "\n",
        "  # Get the model.\n",
        "  rm = LSTM()\n",
        "\n",
        "      # Use fit generator.\n",
        "  rm.model.fit_generator(\n",
        "      generator=generator,\n",
        "      steps_per_epoch=steps_per_epoch,\n",
        "      epochs=nb_epoch,\n",
        "      verbose=1,\n",
        "      callbacks=[tb, early_stopper, csv_logger, checkpointer],\n",
        "      validation_data=val_generator,\n",
        "      validation_steps=40,\n",
        "      workers=4)\n"
      ],
      "execution_count": 0,
      "outputs": []
    },
    {
      "cell_type": "markdown",
      "metadata": {
        "id": "ROAM68sHYjwF",
        "colab_type": "text"
      },
      "source": [
        ""
      ]
    },
    {
      "cell_type": "code",
      "metadata": {
        "scrolled": true,
        "id": "rKVWynTWBuoI",
        "colab_type": "code",
        "colab": {}
      },
      "source": [
        "# Testing\n",
        "probabilities = model.predict_generator(test_generator, TEST_SIZE)\n",
        "for index, probability in enumerate(probabilities):\n",
        "    image_path = test_data_dir + \"/\" +test_generator.filenames[index]\n",
        "    img = mpimg.imread(image_path)\n",
        "    plt.imshow(img)\n",
        "    if probability > 0.5:\n",
        "        plt.title(\"%.2f\" % (probability[0]*100) + \"% dog\")\n",
        "    else:\n",
        "        plt.title(\"%.2f\" % ((1-probability[0])*100) + \"% cat\")\n",
        "    plt.show()"
      ],
      "execution_count": 0,
      "outputs": []
    },
    {
      "cell_type": "code",
      "metadata": {
        "id": "Tvk5qjz_BuoK",
        "colab_type": "code",
        "colab": {}
      },
      "source": [
        ""
      ],
      "execution_count": 0,
      "outputs": []
    }
  ]
}