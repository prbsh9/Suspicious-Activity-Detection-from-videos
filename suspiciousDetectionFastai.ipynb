{
  "nbformat": 4,
  "nbformat_minor": 0,
  "metadata": {
    "colab": {
      "name": "suspiciousDetectionFastai.ipynb",
      "provenance": [],
      "private_outputs": true,
      "collapsed_sections": []
    },
    "kernelspec": {
      "name": "python3",
      "display_name": "Python 3"
    }
  },
  "cells": [
    {
      "cell_type": "markdown",
      "metadata": {
        "id": "KEtIK90dys-N",
        "colab_type": "text"
      },
      "source": [
        "# We try Resnet34 here! Lets hope for the best!"
      ]
    },
    {
      "cell_type": "code",
      "metadata": {
        "id": "jgbAVRbIM9a8",
        "colab_type": "code",
        "colab": {}
      },
      "source": [
        "from fastai.vision import *\n",
        "from fastai.metrics import error_rate"
      ],
      "execution_count": 0,
      "outputs": []
    },
    {
      "cell_type": "code",
      "metadata": {
        "id": "qchO3TopNIhM",
        "colab_type": "code",
        "colab": {}
      },
      "source": [
        "bs = 64"
      ],
      "execution_count": 0,
      "outputs": []
    },
    {
      "cell_type": "code",
      "metadata": {
        "id": "qemKQKocD5Y-",
        "colab_type": "code",
        "colab": {}
      },
      "source": [
        "from google.colab import drive\n",
        "drive.mount('/drive')\n",
        "import os\n",
        "path = '/drive/My Drive/suspicious_activity/content/frameLocally'\n",
        "os.chdir(path)\n",
        "os.getcwd()"
      ],
      "execution_count": 0,
      "outputs": []
    },
    {
      "cell_type": "code",
      "metadata": {
        "id": "n8MbZQoZ3RKw",
        "colab_type": "code",
        "colab": {}
      },
      "source": [
        "\n",
        "np.random.seed(42)\n",
        "data = ImageDataBunch.from_folder(path, valid_pct= 0.2, ds_tfms = get_transforms(), size = 224, num_workers = 4\n",
        "                                  ).normalize(imagenet_stats)\n",
        "\n"
      ],
      "execution_count": 0,
      "outputs": []
    },
    {
      "cell_type": "code",
      "metadata": {
        "id": "TBg9rGvuAX3N",
        "colab_type": "code",
        "colab": {}
      },
      "source": [
        "os.chdir('..')"
      ],
      "execution_count": 0,
      "outputs": []
    },
    {
      "cell_type": "code",
      "metadata": {
        "id": "Loo8Vo8wldHx",
        "colab_type": "code",
        "colab": {}
      },
      "source": [
        "data.show_batch(rows=3, figsize=(7,8))"
      ],
      "execution_count": 0,
      "outputs": []
    },
    {
      "cell_type": "code",
      "metadata": {
        "id": "85y8-VaGqPAW",
        "colab_type": "code",
        "colab": {}
      },
      "source": [
        " data.c, len(data.train_ds), len(data.valid_ds)"
      ],
      "execution_count": 0,
      "outputs": []
    },
    {
      "cell_type": "code",
      "metadata": {
        "id": "NUgM8H3yqXEn",
        "colab_type": "code",
        "colab": {}
      },
      "source": [
        "learn = cnn_learner(data, models.resnet34, metrics=error_rate)"
      ],
      "execution_count": 0,
      "outputs": []
    },
    {
      "cell_type": "code",
      "metadata": {
        "id": "QAvHvSv-qXW_",
        "colab_type": "code",
        "colab": {}
      },
      "source": [
        "learn.fit_one_cycle(4)"
      ],
      "execution_count": 0,
      "outputs": []
    },
    {
      "cell_type": "markdown",
      "metadata": {
        "id": "UQ6Kp5yHw_CM",
        "colab_type": "text"
      },
      "source": [
        "**OK We have our error rate 5%. Lets see if we can do any progress by looking at the leraning rate map when we plot and unfreezing it!**"
      ]
    },
    {
      "cell_type": "code",
      "metadata": {
        "id": "uM1HukAatqLz",
        "colab_type": "code",
        "colab": {}
      },
      "source": [
        "learn.save('stage-1')"
      ],
      "execution_count": 0,
      "outputs": []
    },
    {
      "cell_type": "code",
      "metadata": {
        "id": "os492BGjvTht",
        "colab_type": "code",
        "colab": {}
      },
      "source": [
        "interp = ClassificationInterpretation.from_learner(learn)\n",
        "interp.most_confused(min_val=2)"
      ],
      "execution_count": 0,
      "outputs": []
    },
    {
      "cell_type": "markdown",
      "metadata": {
        "id": "7_dSnrvvxUEk",
        "colab_type": "text"
      },
      "source": [
        "*See! Crocodile and crocodile head! \n",
        "water_lilly and lotus.. Its kind of common to get confused in these!*"
      ]
    },
    {
      "cell_type": "code",
      "metadata": {
        "id": "fUF-B790wgCt",
        "colab_type": "code",
        "colab": {}
      },
      "source": [
        "interp.plot_top_losses(9, figsize=(15,11))"
      ],
      "execution_count": 0,
      "outputs": []
    },
    {
      "cell_type": "code",
      "metadata": {
        "id": "q0HXb9SexvHJ",
        "colab_type": "code",
        "colab": {}
      },
      "source": [
        "learn.unfreeze()"
      ],
      "execution_count": 0,
      "outputs": []
    },
    {
      "cell_type": "code",
      "metadata": {
        "id": "ImKaG-pmtrZh",
        "colab_type": "code",
        "colab": {}
      },
      "source": [
        "learn.lr_find()"
      ],
      "execution_count": 0,
      "outputs": []
    },
    {
      "cell_type": "code",
      "metadata": {
        "id": "pmKHZzjYtrkG",
        "colab_type": "code",
        "colab": {}
      },
      "source": [
        "learn.recorder.plot()"
      ],
      "execution_count": 0,
      "outputs": []
    },
    {
      "cell_type": "code",
      "metadata": {
        "id": "JLkudv4qtrxD",
        "colab_type": "code",
        "colab": {}
      },
      "source": [
        "learn.fit_one_cycle(1, max_lr=slice(1e-5, 1e-4))"
      ],
      "execution_count": 0,
      "outputs": []
    },
    {
      "cell_type": "markdown",
      "metadata": {
        "id": "5UxCWFdSy3iB",
        "colab_type": "text"
      },
      "source": [
        "**We Improved our performance.. So far so great..**<br> <br>\n",
        "*I guess it can be done more better by tuning the learning rate more! I dont think its tuned the best!* <br>\n",
        "Thats for you LOL"
      ]
    },
    {
      "cell_type": "code",
      "metadata": {
        "id": "pCNeoboltr40",
        "colab_type": "code",
        "colab": {}
      },
      "source": [
        "learn.save('stage-2')"
      ],
      "execution_count": 0,
      "outputs": []
    }
  ]
}