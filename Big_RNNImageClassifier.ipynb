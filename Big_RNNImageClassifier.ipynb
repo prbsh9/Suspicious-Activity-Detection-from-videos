{
  "nbformat": 4,
  "nbformat_minor": 0,
  "metadata": {
    "kernelspec": {
      "name": "python3",
      "display_name": "Python 3"
    },
    "language_info": {
      "codemirror_mode": {
        "name": "ipython",
        "version": 3
      },
      "file_extension": ".py",
      "mimetype": "text/x-python",
      "name": "python",
      "nbconvert_exporter": "python",
      "pygments_lexer": "ipython3",
      "version": "3.6.9"
    },
    "colab": {
      "name": "Big_RNNImageClassifier.ipynb",
      "provenance": [],
      "collapsed_sections": [],
      "toc_visible": true,
      "machine_shape": "hm",
      "include_colab_link": true
    },
    "accelerator": "GPU"
  },
  "cells": [
    {
      "cell_type": "markdown",
      "metadata": {
        "id": "view-in-github",
        "colab_type": "text"
      },
      "source": [
        "<a href=\"https://colab.research.google.com/github/prbsh9/Suspicious-Activity-Detection-from-videos/blob/master/Big_RNNImageClassifier.ipynb\" target=\"_parent\"><img src=\"https://colab.research.google.com/assets/colab-badge.svg\" alt=\"Open In Colab\"/></a>"
      ]
    },
    {
      "cell_type": "markdown",
      "metadata": {
        "id": "7E8MRZUC-z74",
        "colab_type": "text"
      },
      "source": [
        "# Import and syncing with drive"
      ]
    },
    {
      "cell_type": "code",
      "metadata": {
        "id": "eorJr62PBwSs",
        "colab_type": "code",
        "colab": {}
      },
      "source": [
        "from google.colab import drive\n",
        "drive.mount('/drive')\n",
        "import os\n",
        "path = '/drive/My Drive/suspicious_activity/content/frameEasy'\n",
        "os.chdir(path)\n",
        "os.getcwd()"
      ],
      "execution_count": 0,
      "outputs": []
    },
    {
      "cell_type": "code",
      "metadata": {
        "id": "KSkVr8UOCEg1",
        "colab_type": "code",
        "colab": {}
      },
      "source": [
        "!pip install livelossplot"
      ],
      "execution_count": 0,
      "outputs": []
    },
    {
      "cell_type": "code",
      "metadata": {
        "id": "wSo283l6CLPM",
        "colab_type": "code",
        "colab": {}
      },
      "source": [
        "\n",
        "!pip install efficientnet"
      ],
      "execution_count": 0,
      "outputs": []
    },
    {
      "cell_type": "code",
      "metadata": {
        "id": "asDeYkZdBunk",
        "colab_type": "code",
        "colab": {}
      },
      "source": [
        "%matplotlib inline\n",
        "import matplotlib.pyplot as plt\n",
        "import matplotlib.image as mpimg\n",
        "import tensorflow as tf\n",
        "from keras.preprocessing.image import ImageDataGenerator\n",
        "from keras.models import Sequential\n",
        "from keras.optimizers import RMSprop, SGD, Adam\n",
        "from keras.layers import Dense, Flatten, GlobalMaxPooling2D, Dropout\n",
        "from keras.callbacks import CSVLogger\n",
        "from livelossplot.keras import PlotLossesCallback\n",
        "import efficientnet.keras as efn\n",
        "import keras\n",
        "from keras.layers import Activation\n",
        "from keras.layers import LSTM, CuDNNLSTM\n",
        "from keras.preprocessing import image\n",
        "import numpy as np\n",
        "from keras.applications.inception_v3 import preprocess_input\n",
        "from keras.callbacks import EarlyStopping, ModelCheckpoint\n"
      ],
      "execution_count": 0,
      "outputs": []
    },
    {
      "cell_type": "markdown",
      "metadata": {
        "id": "QYTQD68H7fic",
        "colab_type": "text"
      },
      "source": [
        "# RNN part?"
      ]
    },
    {
      "cell_type": "markdown",
      "metadata": {
        "id": "o5nQJqPskqSg",
        "colab_type": "text"
      },
      "source": [
        "###  Importing from CSV"
      ]
    },
    {
      "cell_type": "code",
      "metadata": {
        "id": "CxsOuK2RkpK4",
        "colab_type": "code",
        "colab": {}
      },
      "source": [
        "x_train = np.load('x_train.npy') \n",
        "y_train = np.load('y_train.npy') \n",
        "\n",
        "x_test = np.load('x_valid.npy')\n",
        "y_test = np.load('y_valid.npy')"
      ],
      "execution_count": 0,
      "outputs": []
    },
    {
      "cell_type": "code",
      "metadata": {
        "id": "E0zxMlyEoMS7",
        "colab_type": "code",
        "colab": {}
      },
      "source": [
        "# x_train = x_train/255.0\n",
        "# x_test = x_test/255.0"
      ],
      "execution_count": 0,
      "outputs": []
    },
    {
      "cell_type": "code",
      "metadata": {
        "id": "iiYmVUCFpNAS",
        "colab_type": "code",
        "colab": {}
      },
      "source": [
        "train_data = x_train\n",
        "validation_data = x_test"
      ],
      "execution_count": 0,
      "outputs": []
    },
    {
      "cell_type": "code",
      "metadata": {
        "id": "udC4xy14pDJH",
        "colab_type": "code",
        "colab": {}
      },
      "source": [
        "train_data = train_data.reshape(train_data.shape[0],\n",
        "                     train_data.shape[1] * train_data.shape[2],\n",
        "                     train_data.shape[3])\n",
        "validation_data = validation_data.reshape(validation_data.shape[0],\n",
        "                     validation_data.shape[1] * validation_data.shape[2],\n",
        "                     validation_data.shape[3])"
      ],
      "execution_count": 0,
      "outputs": []
    },
    {
      "cell_type": "code",
      "metadata": {
        "id": "pyp81NV7yPE0",
        "colab_type": "code",
        "outputId": "fb49eb68-8dc6-4a67-e887-95ce642adbaa",
        "colab": {
          "base_uri": "https://localhost:8080/",
          "height": 224
        }
      },
      "source": [
        "# LSTM\n",
        "model = Sequential()\n",
        "model.add(CuDNNLSTM(2048, input_shape=(train_data.shape[1:]), return_sequences=True ))\n",
        "\n",
        "model.add(CuDNNLSTM(1024))\n",
        "\n",
        "model.add(Dense(2024, activation='relu'))\n",
        "model.add(Dropout(0.1))\n",
        "\n",
        "\n",
        "model.add(Dense(1024, activation='relu'))\n",
        "model.add(Dropout(0.1))\n",
        "\n",
        "model.add(Dense(1024, activation='relu'))\n",
        "model.add(Dropout(0.1))\n",
        "\n",
        "model.add(Dense(512))\n",
        "model.add(Activation('relu'))\n",
        "\n",
        "model.add(Dense(1))\n",
        "model.add(Activation('sigmoid'))\n"
      ],
      "execution_count": 0,
      "outputs": [
        {
          "output_type": "stream",
          "text": [
            "WARNING:tensorflow:From /usr/local/lib/python3.6/dist-packages/keras/backend/tensorflow_backend.py:66: The name tf.get_default_graph is deprecated. Please use tf.compat.v1.get_default_graph instead.\n",
            "\n",
            "WARNING:tensorflow:From /usr/local/lib/python3.6/dist-packages/keras/backend/tensorflow_backend.py:541: The name tf.placeholder is deprecated. Please use tf.compat.v1.placeholder instead.\n",
            "\n",
            "WARNING:tensorflow:From /usr/local/lib/python3.6/dist-packages/keras/backend/tensorflow_backend.py:4432: The name tf.random_uniform is deprecated. Please use tf.random.uniform instead.\n",
            "\n",
            "WARNING:tensorflow:From /usr/local/lib/python3.6/dist-packages/keras/backend/tensorflow_backend.py:148: The name tf.placeholder_with_default is deprecated. Please use tf.compat.v1.placeholder_with_default instead.\n",
            "\n",
            "WARNING:tensorflow:From /usr/local/lib/python3.6/dist-packages/keras/backend/tensorflow_backend.py:3733: calling dropout (from tensorflow.python.ops.nn_ops) with keep_prob is deprecated and will be removed in a future version.\n",
            "Instructions for updating:\n",
            "Please use `rate` instead of `keep_prob`. Rate should be set to `rate = 1 - keep_prob`.\n"
          ],
          "name": "stdout"
        }
      ]
    },
    {
      "cell_type": "code",
      "metadata": {
        "id": "9ZRlPJP-kjuv",
        "colab_type": "code",
        "outputId": "6e2950ab-71b1-4fce-c38e-8943cec7d8ef",
        "colab": {
          "base_uri": "https://localhost:8080/",
          "height": 513
        }
      },
      "source": [
        "# sgd = SGD(lr=0.00005, decay = 1e-6, momentum=0.9)\n",
        "sgd = Adam(lr=0.0005, decay = 1e-5)\n",
        "\n",
        "model.compile(optimizer=sgd, loss='binary_crossentropy', metrics=['accuracy'])\n",
        "\n",
        "callbacks = [ EarlyStopping(monitor='val_loss', patience=10, verbose=0), ModelCheckpoint('video_1_LSTM_1_1024.h5', monitor='val_loss', save_best_only=True, verbose=0) ]\n",
        "nb_epoch = 500\n",
        "batch_size = 64\n",
        "\n",
        "model.fit(train_data,y_train,validation_data=(validation_data,y_test),batch_size=batch_size,nb_epoch=nb_epoch,callbacks=callbacks,shuffle=True,verbose=1)\n"
      ],
      "execution_count": 0,
      "outputs": [
        {
          "output_type": "stream",
          "text": [
            "WARNING:tensorflow:From /usr/local/lib/python3.6/dist-packages/keras/optimizers.py:793: The name tf.train.Optimizer is deprecated. Please use tf.compat.v1.train.Optimizer instead.\n",
            "\n",
            "WARNING:tensorflow:From /usr/local/lib/python3.6/dist-packages/keras/backend/tensorflow_backend.py:3657: The name tf.log is deprecated. Please use tf.math.log instead.\n",
            "\n",
            "WARNING:tensorflow:From /usr/local/lib/python3.6/dist-packages/tensorflow_core/python/ops/nn_impl.py:183: where (from tensorflow.python.ops.array_ops) is deprecated and will be removed in a future version.\n",
            "Instructions for updating:\n",
            "Use tf.where in 2.0, which has the same broadcast rule as np.where\n"
          ],
          "name": "stdout"
        },
        {
          "output_type": "stream",
          "text": [
            "/usr/local/lib/python3.6/dist-packages/ipykernel_launcher.py:9: UserWarning: The `nb_epoch` argument in `fit` has been renamed `epochs`.\n",
            "  if __name__ == '__main__':\n"
          ],
          "name": "stderr"
        },
        {
          "output_type": "stream",
          "text": [
            "WARNING:tensorflow:From /usr/local/lib/python3.6/dist-packages/keras/backend/tensorflow_backend.py:1033: The name tf.assign_add is deprecated. Please use tf.compat.v1.assign_add instead.\n",
            "\n",
            "WARNING:tensorflow:From /usr/local/lib/python3.6/dist-packages/keras/backend/tensorflow_backend.py:1020: The name tf.assign is deprecated. Please use tf.compat.v1.assign instead.\n",
            "\n",
            "WARNING:tensorflow:From /usr/local/lib/python3.6/dist-packages/keras/backend/tensorflow_backend.py:3005: The name tf.Session is deprecated. Please use tf.compat.v1.Session instead.\n",
            "\n",
            "Train on 6489 samples, validate on 834 samples\n",
            "Epoch 1/500\n",
            "WARNING:tensorflow:From /usr/local/lib/python3.6/dist-packages/keras/backend/tensorflow_backend.py:190: The name tf.get_default_session is deprecated. Please use tf.compat.v1.get_default_session instead.\n",
            "\n",
            "WARNING:tensorflow:From /usr/local/lib/python3.6/dist-packages/keras/backend/tensorflow_backend.py:197: The name tf.ConfigProto is deprecated. Please use tf.compat.v1.ConfigProto instead.\n",
            "\n",
            "WARNING:tensorflow:From /usr/local/lib/python3.6/dist-packages/keras/backend/tensorflow_backend.py:207: The name tf.global_variables is deprecated. Please use tf.compat.v1.global_variables instead.\n",
            "\n",
            "WARNING:tensorflow:From /usr/local/lib/python3.6/dist-packages/keras/backend/tensorflow_backend.py:216: The name tf.is_variable_initialized is deprecated. Please use tf.compat.v1.is_variable_initialized instead.\n",
            "\n",
            "WARNING:tensorflow:From /usr/local/lib/python3.6/dist-packages/keras/backend/tensorflow_backend.py:223: The name tf.variables_initializer is deprecated. Please use tf.compat.v1.variables_initializer instead.\n",
            "\n",
            "  64/6489 [..............................] - ETA: 25:52 - loss: 0.6918 - acc: 0.5625"
          ],
          "name": "stdout"
        }
      ]
    },
    {
      "cell_type": "code",
      "metadata": {
        "id": "tQRdY6DZ42kG",
        "colab_type": "code",
        "outputId": "21416758-0a6d-4e71-c37e-89815f5b0ef0",
        "colab": {
          "base_uri": "https://localhost:8080/",
          "height": 231
        }
      },
      "source": [
        "data =[]\n",
        "target=[]\n",
        "epoch = 100\n",
        "batchS = 100\n",
        "for i in joint_transfer:\n",
        "    data.append(i)\n",
        "    target.append(np.array(i[1]))\n",
        "model.fit(data, target, epochs=epoch, batch_size=batchS, verbose=1)"
      ],
      "execution_count": 0,
      "outputs": [
        {
          "output_type": "error",
          "ename": "NameError",
          "evalue": "ignored",
          "traceback": [
            "\u001b[0;31m---------------------------------------------------------------------------\u001b[0m",
            "\u001b[0;31mNameError\u001b[0m                                 Traceback (most recent call last)",
            "\u001b[0;32m<ipython-input-26-04f29ed60ade>\u001b[0m in \u001b[0;36m<module>\u001b[0;34m()\u001b[0m\n\u001b[1;32m      3\u001b[0m \u001b[0mepoch\u001b[0m \u001b[0;34m=\u001b[0m \u001b[0;36m100\u001b[0m\u001b[0;34m\u001b[0m\u001b[0;34m\u001b[0m\u001b[0m\n\u001b[1;32m      4\u001b[0m \u001b[0mbatchS\u001b[0m \u001b[0;34m=\u001b[0m \u001b[0;36m100\u001b[0m\u001b[0;34m\u001b[0m\u001b[0;34m\u001b[0m\u001b[0m\n\u001b[0;32m----> 5\u001b[0;31m \u001b[0;32mfor\u001b[0m \u001b[0mi\u001b[0m \u001b[0;32min\u001b[0m \u001b[0mjoint_transfer\u001b[0m\u001b[0;34m:\u001b[0m\u001b[0;34m\u001b[0m\u001b[0;34m\u001b[0m\u001b[0m\n\u001b[0m\u001b[1;32m      6\u001b[0m     \u001b[0mdata\u001b[0m\u001b[0;34m.\u001b[0m\u001b[0mappend\u001b[0m\u001b[0;34m(\u001b[0m\u001b[0mi\u001b[0m\u001b[0;34m)\u001b[0m\u001b[0;34m\u001b[0m\u001b[0;34m\u001b[0m\u001b[0m\n\u001b[1;32m      7\u001b[0m     \u001b[0mtarget\u001b[0m\u001b[0;34m.\u001b[0m\u001b[0mappend\u001b[0m\u001b[0;34m(\u001b[0m\u001b[0mnp\u001b[0m\u001b[0;34m.\u001b[0m\u001b[0marray\u001b[0m\u001b[0;34m(\u001b[0m\u001b[0mi\u001b[0m\u001b[0;34m[\u001b[0m\u001b[0;36m1\u001b[0m\u001b[0;34m]\u001b[0m\u001b[0;34m)\u001b[0m\u001b[0;34m)\u001b[0m\u001b[0;34m\u001b[0m\u001b[0;34m\u001b[0m\u001b[0m\n",
            "\u001b[0;31mNameError\u001b[0m: name 'joint_transfer' is not defined"
          ]
        }
      ]
    },
    {
      "cell_type": "code",
      "metadata": {
        "id": "j7TKK-tLd5h4",
        "colab_type": "code",
        "colab": {}
      },
      "source": [
        "\n",
        "  \n",
        "# c.shape[0]"
      ],
      "execution_count": 0,
      "outputs": []
    },
    {
      "cell_type": "code",
      "metadata": {
        "id": "xdRwX28ndPu6",
        "colab_type": "code",
        "colab": {}
      },
      "source": [
        "for a in os.listdir('data/valid/Abnorm'):\n",
        "  npy = np.load(a)\n",
        "  \n",
        "\n",
        "  "
      ],
      "execution_count": 0,
      "outputs": []
    },
    {
      "cell_type": "code",
      "metadata": {
        "id": "oYVCMjXgVr0g",
        "colab_type": "code",
        "colab": {}
      },
      "source": [
        "def train(data_type='features', seq_length=40, model='lstm', saved_model=None,\n",
        "          class_limit=None, image_shape=None,\n",
        "          load_to_memory=False, batch_size=32, nb_epoch=100):\n",
        "  \n",
        "\n",
        "  # Get the data and process it.\n",
        "      data = DataSet(seq_length=seq_length, class_limit=class_limit)\n",
        "\n",
        "\n",
        "  # Get samples per epoch.\n",
        "  # Multiply by 0.7 to attempt to guess how much of data.data is the train set.\n",
        "  steps_per_epoch = (len(data.data) * 0.7) // batch_size\n",
        "\n",
        "  if load_to_memory:\n",
        "      # Get data.\n",
        "      X, y = data.get_all_sequences_in_memory('train', data_type)\n",
        "      X_test, y_test = data.get_all_sequences_in_memory('test', data_type)\n",
        "  else:\n",
        "      # Get generators.\n",
        "      generator = data.frame_generator(batch_size, 'train', data_type)\n",
        "      val_generator = data.frame_generator(batch_size, 'test', data_type)\n",
        "\n",
        "  # Get the model.\n",
        "  rm = LSTM()\n",
        "\n",
        "      # Use fit generator.\n",
        "  rm.model.fit_generator(\n",
        "      generator=generator,\n",
        "      steps_per_epoch=steps_per_epoch,\n",
        "      epochs=nb_epoch,\n",
        "      verbose=1,\n",
        "      callbacks=[tb, early_stopper, csv_logger, checkpointer],\n",
        "      validation_data=val_generator,\n",
        "      validation_steps=40,\n",
        "      workers=4)\n"
      ],
      "execution_count": 0,
      "outputs": []
    },
    {
      "cell_type": "markdown",
      "metadata": {
        "id": "ROAM68sHYjwF",
        "colab_type": "text"
      },
      "source": [
        ""
      ]
    },
    {
      "cell_type": "code",
      "metadata": {
        "scrolled": true,
        "id": "rKVWynTWBuoI",
        "colab_type": "code",
        "colab": {}
      },
      "source": [
        "# Testing\n",
        "probabilities = model.predict_generator(test_generator, TEST_SIZE)\n",
        "for index, probability in enumerate(probabilities):\n",
        "    image_path = test_data_dir + \"/\" +test_generator.filenames[index]\n",
        "    img = mpimg.imread(image_path)\n",
        "    plt.imshow(img)\n",
        "    if probability > 0.5:\n",
        "        plt.title(\"%.2f\" % (probability[0]*100) + \"% dog\")\n",
        "    else:\n",
        "        plt.title(\"%.2f\" % ((1-probability[0])*100) + \"% cat\")\n",
        "    plt.show()"
      ],
      "execution_count": 0,
      "outputs": []
    },
    {
      "cell_type": "code",
      "metadata": {
        "id": "Tvk5qjz_BuoK",
        "colab_type": "code",
        "colab": {}
      },
      "source": [
        ""
      ],
      "execution_count": 0,
      "outputs": []
    }
  ]
}