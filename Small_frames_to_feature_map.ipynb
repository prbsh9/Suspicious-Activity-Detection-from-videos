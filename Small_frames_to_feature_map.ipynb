{
  "nbformat": 4,
  "nbformat_minor": 0,
  "metadata": {
    "colab": {
      "name": "Small_frames_to_feature_map.ipynb",
      "provenance": [],
      "collapsed_sections": [],
      "toc_visible": true,
      "machine_shape": "hm",
      "include_colab_link": true
    },
    "kernelspec": {
      "name": "python3",
      "display_name": "Python 3"
    },
    "accelerator": "GPU"
  },
  "cells": [
    {
      "cell_type": "markdown",
      "metadata": {
        "id": "view-in-github",
        "colab_type": "text"
      },
      "source": [
        "<a href=\"https://colab.research.google.com/github/prbsh9/Suspicious-Activity-Detection-from-videos/blob/master/Small_frames_to_feature_map.ipynb\" target=\"_parent\"><img src=\"https://colab.research.google.com/assets/colab-badge.svg\" alt=\"Open In Colab\"/></a>"
      ]
    },
    {
      "cell_type": "markdown",
      "metadata": {
        "id": "g2_yTeyMgDfJ",
        "colab_type": "text"
      },
      "source": [
        "# In this notebook. We will see how you can store the high level featuremap of the frames in npy file through directory of frames"
      ]
    },
    {
      "cell_type": "markdown",
      "metadata": {
        "id": "BffDAcUVbaPG",
        "colab_type": "text"
      },
      "source": [
        "## Importing and syncing stuffs"
      ]
    },
    {
      "cell_type": "code",
      "metadata": {
        "id": "nMJHgMoSAwix",
        "colab_type": "code",
        "outputId": "7290b6ae-d24d-4792-f0f4-ca45e0e40e70",
        "colab": {
          "base_uri": "https://localhost:8080/",
          "height": 139
        }
      },
      "source": [
        "from google.colab import drive\n",
        "drive.mount('/drive')\n",
        "import os\n",
        "path = '/drive/My Drive/suspicious_activity/small_one'\n",
        "os.chdir(path)\n",
        "os.getcwd()"
      ],
      "execution_count": 0,
      "outputs": [
        {
          "output_type": "stream",
          "text": [
            "Go to this URL in a browser: https://accounts.google.com/o/oauth2/auth?client_id=947318989803-6bn6qk8qdgf4n4g3pfee6491hc0brc4i.apps.googleusercontent.com&redirect_uri=urn%3aietf%3awg%3aoauth%3a2.0%3aoob&response_type=code&scope=email%20https%3a%2f%2fwww.googleapis.com%2fauth%2fdocs.test%20https%3a%2f%2fwww.googleapis.com%2fauth%2fdrive%20https%3a%2f%2fwww.googleapis.com%2fauth%2fdrive.photos.readonly%20https%3a%2f%2fwww.googleapis.com%2fauth%2fpeopleapi.readonly\n",
            "\n",
            "Enter your authorization code:\n",
            "··········\n",
            "Mounted at /drive\n"
          ],
          "name": "stdout"
        },
        {
          "output_type": "execute_result",
          "data": {
            "text/plain": [
              "'/drive/My Drive/suspicious_activity/small_one'"
            ]
          },
          "metadata": {
            "tags": []
          },
          "execution_count": 2
        }
      ]
    },
    {
      "cell_type": "code",
      "metadata": {
        "id": "21FzSLsVBy0B",
        "colab_type": "code",
        "outputId": "dcd98d8a-f605-486b-fcab-9d02de6c1656",
        "colab": {
          "base_uri": "https://localhost:8080/",
          "height": 80
        }
      },
      "source": [
        "from keras.preprocessing import image\n",
        "import numpy as np\n",
        "import os\n",
        "import shutil\n",
        "from keras.applications.inception_v3 import preprocess_input\n",
        "import keras\n",
        "import glob\n",
        "import math\n",
        "import csv\n",
        "import pandas as pd"
      ],
      "execution_count": 0,
      "outputs": [
        {
          "output_type": "stream",
          "text": [
            "Using TensorFlow backend.\n"
          ],
          "name": "stderr"
        },
        {
          "output_type": "display_data",
          "data": {
            "text/html": [
              "<p style=\"color: red;\">\n",
              "The default version of TensorFlow in Colab will soon switch to TensorFlow 2.x.<br>\n",
              "We recommend you <a href=\"https://www.tensorflow.org/guide/migrate\" target=\"_blank\">upgrade</a> now \n",
              "or ensure your notebook will continue to use TensorFlow 1.x via the <code>%tensorflow_version 1.x</code> magic:\n",
              "<a href=\"https://colab.research.google.com/notebooks/tensorflow_version.ipynb\" target=\"_blank\">more info</a>.</p>\n"
            ],
            "text/plain": [
              "<IPython.core.display.HTML object>"
            ]
          },
          "metadata": {
            "tags": []
          }
        }
      ]
    },
    {
      "cell_type": "code",
      "metadata": {
        "id": "M6gmETUk1Et4",
        "colab_type": "code",
        "colab": {}
      },
      "source": [
        "!du -h "
      ],
      "execution_count": 0,
      "outputs": []
    },
    {
      "cell_type": "markdown",
      "metadata": {
        "id": "kic_dcvE1FBv",
        "colab_type": "text"
      },
      "source": [
        "## Let's get featuremap of any image given. We will iterate later to get featuremap of all frames "
      ]
    },
    {
      "cell_type": "code",
      "metadata": {
        "id": "lXMc83neCLUK",
        "colab_type": "code",
        "outputId": "2c361eac-93eb-40a8-b35c-333d1c97d926",
        "colab": {
          "base_uri": "https://localhost:8080/",
          "height": 513
        }
      },
      "source": [
        "model = keras.applications.inception_v3.InceptionV3(input_shape=(299, 299, 3),  include_top=False, weights='imagenet')"
      ],
      "execution_count": 0,
      "outputs": [
        {
          "output_type": "stream",
          "text": [
            "WARNING:tensorflow:From /usr/local/lib/python3.6/dist-packages/keras/backend/tensorflow_backend.py:66: The name tf.get_default_graph is deprecated. Please use tf.compat.v1.get_default_graph instead.\n",
            "\n",
            "WARNING:tensorflow:From /usr/local/lib/python3.6/dist-packages/keras/backend/tensorflow_backend.py:541: The name tf.placeholder is deprecated. Please use tf.compat.v1.placeholder instead.\n",
            "\n",
            "WARNING:tensorflow:From /usr/local/lib/python3.6/dist-packages/keras/backend/tensorflow_backend.py:4432: The name tf.random_uniform is deprecated. Please use tf.random.uniform instead.\n",
            "\n",
            "WARNING:tensorflow:From /usr/local/lib/python3.6/dist-packages/keras/backend/tensorflow_backend.py:190: The name tf.get_default_session is deprecated. Please use tf.compat.v1.get_default_session instead.\n",
            "\n",
            "WARNING:tensorflow:From /usr/local/lib/python3.6/dist-packages/keras/backend/tensorflow_backend.py:197: The name tf.ConfigProto is deprecated. Please use tf.compat.v1.ConfigProto instead.\n",
            "\n",
            "WARNING:tensorflow:From /usr/local/lib/python3.6/dist-packages/keras/backend/tensorflow_backend.py:203: The name tf.Session is deprecated. Please use tf.compat.v1.Session instead.\n",
            "\n",
            "WARNING:tensorflow:From /usr/local/lib/python3.6/dist-packages/keras/backend/tensorflow_backend.py:207: The name tf.global_variables is deprecated. Please use tf.compat.v1.global_variables instead.\n",
            "\n",
            "WARNING:tensorflow:From /usr/local/lib/python3.6/dist-packages/keras/backend/tensorflow_backend.py:216: The name tf.is_variable_initialized is deprecated. Please use tf.compat.v1.is_variable_initialized instead.\n",
            "\n",
            "WARNING:tensorflow:From /usr/local/lib/python3.6/dist-packages/keras/backend/tensorflow_backend.py:223: The name tf.variables_initializer is deprecated. Please use tf.compat.v1.variables_initializer instead.\n",
            "\n",
            "WARNING:tensorflow:From /usr/local/lib/python3.6/dist-packages/keras/backend/tensorflow_backend.py:2041: The name tf.nn.fused_batch_norm is deprecated. Please use tf.compat.v1.nn.fused_batch_norm instead.\n",
            "\n",
            "WARNING:tensorflow:From /usr/local/lib/python3.6/dist-packages/keras/backend/tensorflow_backend.py:148: The name tf.placeholder_with_default is deprecated. Please use tf.compat.v1.placeholder_with_default instead.\n",
            "\n",
            "WARNING:tensorflow:From /usr/local/lib/python3.6/dist-packages/keras/backend/tensorflow_backend.py:4267: The name tf.nn.max_pool is deprecated. Please use tf.nn.max_pool2d instead.\n",
            "\n",
            "WARNING:tensorflow:From /usr/local/lib/python3.6/dist-packages/keras/backend/tensorflow_backend.py:4271: The name tf.nn.avg_pool is deprecated. Please use tf.nn.avg_pool2d instead.\n",
            "\n",
            "Downloading data from https://github.com/fchollet/deep-learning-models/releases/download/v0.5/inception_v3_weights_tf_dim_ordering_tf_kernels_notop.h5\n",
            "87916544/87910968 [==============================] - 1s 0us/step\n"
          ],
          "name": "stdout"
        }
      ]
    },
    {
      "cell_type": "code",
      "metadata": {
        "id": "lYuu9UXYAyNu",
        "colab_type": "code",
        "colab": {}
      },
      "source": [
        "# l = []\n",
        "def getFeature(img_path):\n",
        "  '''Gives the high level feature map of Inception V3 when you input the image..  '''\n",
        "  img = image.load_img(img_path, target_size=(299, 299))\n",
        "  img_data = image.img_to_array(img)\n",
        "  img_data = np.expand_dims(img_data, axis=0)\n",
        "  img_data = preprocess_input(img_data)\n",
        "\n",
        "  feature_map = model.predict(img_data) # (1, 8, 8, 2048) is shape.. \n",
        "  return(feature_map[0])\n",
        "\n",
        "# array = getFeature('predict5.jpg')\n"
      ],
      "execution_count": 0,
      "outputs": []
    },
    {
      "cell_type": "markdown",
      "metadata": {
        "id": "3T5giL9ufanB",
        "colab_type": "text"
      },
      "source": [
        "## all feature maps in 4 files.. x_train, y_train and x_valid , y_valid.. "
      ]
    },
    {
      "cell_type": "code",
      "metadata": {
        "id": "5bOXYM-VEdhx",
        "colab_type": "code",
        "colab": {}
      },
      "source": [
        "train_normal = glob.glob('train/Normal/'+'*')\n",
        "valid_normal = glob.glob('valid/Normal/'+'*')\n",
        "train_abnormal = glob.glob('train/Abnormal/'+'*')\n",
        "valid_abnormal = glob.glob('valid/Abnormal/'+'*')\n",
        "\n",
        "all = []\n",
        "for pic in valid_abnormal:\n",
        "  feat = getFeature(pic)\n",
        "  # return(feat.shape)\n",
        "  all.append(feat)\n",
        "array = np.array(all)\n",
        "\n",
        "\n"
      ],
      "execution_count": 0,
      "outputs": []
    },
    {
      "cell_type": "code",
      "metadata": {
        "id": "PlQZ1FIZcQJI",
        "colab_type": "code",
        "colab": {}
      },
      "source": [
        "# for valid normal\n",
        "# y_valid_normal = np.ones(array.shape[0])\n",
        "# np.save('y_valid_normal.npy', y_valid_normal )\n",
        "# np.save('x_valid_normal.npy', array )"
      ],
      "execution_count": 0,
      "outputs": []
    },
    {
      "cell_type": "code",
      "metadata": {
        "id": "CzEumyQwWedH",
        "colab_type": "code",
        "colab": {}
      },
      "source": [
        "# for valid abnormal\n",
        "y_valid_abnormal = np.zeros(array.shape[0])\n",
        "np.save('y_valid_abnormal.npy', y_valid_abnormal )\n",
        "np.save('x_valid_abnormal.npy', array )"
      ],
      "execution_count": 0,
      "outputs": []
    },
    {
      "cell_type": "code",
      "metadata": {
        "id": "fa1Tm0aqW2Li",
        "colab_type": "code",
        "colab": {}
      },
      "source": [
        ""
      ],
      "execution_count": 0,
      "outputs": []
    },
    {
      "cell_type": "code",
      "metadata": {
        "id": "7kMxHWHGPlI7",
        "colab_type": "code",
        "colab": {}
      },
      "source": [
        "# x_valid_normal = np.load('x_valid_normal.npy')\n",
        "# x_valid_abnormal = np.load('x_valid_abnormal.npy')\n",
        "\n",
        "x_valid_all = np.concatenate((x_valid_normal, x_valid_abnormal))\n",
        "np.save('x_valid.npy', x_valid_all)\n"
      ],
      "execution_count": 0,
      "outputs": []
    },
    {
      "cell_type": "code",
      "metadata": {
        "id": "QbzO4doqZraK",
        "colab_type": "code",
        "colab": {}
      },
      "source": [
        "# y_valid_normal = np.load('y_valid_normal.npy')\n",
        "# y_valid_abnormal = np.zeros(2347)\n",
        "# y_valid_abnormal\n",
        "y_valid_all = np.concatenate((y_valid_normal, y_valid_abnormal))\n",
        "np.save('y_valid.npy', y_valid_all)"
      ],
      "execution_count": 0,
      "outputs": []
    },
    {
      "cell_type": "code",
      "metadata": {
        "id": "hJgEePRpazaa",
        "colab_type": "code",
        "colab": {}
      },
      "source": [
        ""
      ],
      "execution_count": 0,
      "outputs": []
    },
    {
      "cell_type": "code",
      "metadata": {
        "id": "V_yPu4p2ZBaB",
        "colab_type": "code",
        "outputId": "0e03cc3f-67b0-4483-d8cf-68b61747581f",
        "colab": {
          "base_uri": "https://localhost:8080/",
          "height": 34
        }
      },
      "source": [
        "# np.save('x_train', x_train_all)\n",
        "x_train = np.load('x_train.npy')\n"
      ],
      "execution_count": 0,
      "outputs": [
        {
          "output_type": "execute_result",
          "data": {
            "text/plain": [
              "(6489, 8, 8, 2048)"
            ]
          },
          "metadata": {
            "tags": []
          },
          "execution_count": 11
        }
      ]
    },
    {
      "cell_type": "code",
      "metadata": {
        "id": "cmRM-nj3JrOX",
        "colab_type": "code",
        "outputId": "c2ce93fa-6764-4ebd-e4d8-5e0aa0768c3a",
        "colab": {
          "base_uri": "https://localhost:8080/",
          "height": 34
        }
      },
      "source": [
        ""
      ],
      "execution_count": 0,
      "outputs": [
        {
          "output_type": "execute_result",
          "data": {
            "text/plain": [
              "(6489, 8, 8, 2048)"
            ]
          },
          "metadata": {
            "tags": []
          },
          "execution_count": 39
        }
      ]
    },
    {
      "cell_type": "code",
      "metadata": {
        "id": "90aLAbAXFFY4",
        "colab_type": "code",
        "colab": {}
      },
      "source": [
        "\n",
        "y_train_abnormal = np.ones(array.shape[0])\n",
        "np.save('y_train_abnormal.npy', y_train_abnormal )\n",
        "np.save('x_train_abnormal.npy', array )\n"
      ],
      "execution_count": 0,
      "outputs": []
    }
  ]
}