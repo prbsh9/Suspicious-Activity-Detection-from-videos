{
  "nbformat": 4,
  "nbformat_minor": 0,
  "metadata": {
    "kernelspec": {
      "name": "python3",
      "display_name": "Python 3"
    },
    "language_info": {
      "codemirror_mode": {
        "name": "ipython",
        "version": 3
      },
      "file_extension": ".py",
      "mimetype": "text/x-python",
      "name": "python",
      "nbconvert_exporter": "python",
      "pygments_lexer": "ipython3",
      "version": "3.6.9"
    },
    "colab": {
      "name": "Small_RNNImageClassifier.ipynb",
      "provenance": [],
      "collapsed_sections": [],
      "toc_visible": true,
      "machine_shape": "hm",
      "include_colab_link": true
    },
    "accelerator": "GPU"
  },
  "cells": [
    {
      "cell_type": "markdown",
      "metadata": {
        "id": "view-in-github",
        "colab_type": "text"
      },
      "source": [
        "<a href=\"https://colab.research.google.com/github/prbsh9/Suspicious-Activity-Detection-from-videos/blob/master/Small_RNNImageClassifier.ipynb\" target=\"_parent\"><img src=\"https://colab.research.google.com/assets/colab-badge.svg\" alt=\"Open In Colab\"/></a>"
      ]
    },
    {
      "cell_type": "markdown",
      "metadata": {
        "id": "7E8MRZUC-z74",
        "colab_type": "text"
      },
      "source": [
        "# Import and syncing with drive"
      ]
    },
    {
      "cell_type": "code",
      "metadata": {
        "id": "eorJr62PBwSs",
        "colab_type": "code",
        "outputId": "625872b3-a67a-408f-d20a-5c9b1fd6db01",
        "colab": {
          "base_uri": "https://localhost:8080/",
          "height": 51
        }
      },
      "source": [
        "from google.colab import drive\n",
        "drive.mount('/drive')\n",
        "import os\n",
        "path = '/drive/My Drive/suspicious_activity/small_one'\n",
        "os.chdir(path)\n",
        "os.getcwd()"
      ],
      "execution_count": 0,
      "outputs": [
        {
          "output_type": "stream",
          "text": [
            "Drive already mounted at /drive; to attempt to forcibly remount, call drive.mount(\"/drive\", force_remount=True).\n"
          ],
          "name": "stdout"
        },
        {
          "output_type": "execute_result",
          "data": {
            "text/plain": [
              "'/drive/My Drive/suspicious_activity/small_one'"
            ]
          },
          "metadata": {
            "tags": []
          },
          "execution_count": 1
        }
      ]
    },
    {
      "cell_type": "code",
      "metadata": {
        "id": "KSkVr8UOCEg1",
        "colab_type": "code",
        "outputId": "9ed83f6b-85eb-4fe6-e460-29614e97e581",
        "colab": {
          "base_uri": "https://localhost:8080/",
          "height": 700
        }
      },
      "source": [
        "!pip install livelossplot"
      ],
      "execution_count": 0,
      "outputs": [
        {
          "output_type": "stream",
          "text": [
            "Requirement already satisfied: livelossplot in /usr/local/lib/python3.6/dist-packages (0.4.1)\n",
            "Requirement already satisfied: notebook in /usr/local/lib/python3.6/dist-packages (from livelossplot) (5.2.2)\n",
            "Requirement already satisfied: matplotlib in /usr/local/lib/python3.6/dist-packages (from livelossplot) (3.1.2)\n",
            "Requirement already satisfied: jupyter-client in /usr/local/lib/python3.6/dist-packages (from notebook->livelossplot) (5.3.4)\n",
            "Requirement already satisfied: jupyter-core in /usr/local/lib/python3.6/dist-packages (from notebook->livelossplot) (4.6.1)\n",
            "Requirement already satisfied: nbformat in /usr/local/lib/python3.6/dist-packages (from notebook->livelossplot) (5.0.3)\n",
            "Requirement already satisfied: nbconvert in /usr/local/lib/python3.6/dist-packages (from notebook->livelossplot) (5.6.1)\n",
            "Requirement already satisfied: terminado>=0.3.3; sys_platform != \"win32\" in /usr/local/lib/python3.6/dist-packages (from notebook->livelossplot) (0.8.3)\n",
            "Requirement already satisfied: ipython-genutils in /usr/local/lib/python3.6/dist-packages (from notebook->livelossplot) (0.2.0)\n",
            "Requirement already satisfied: tornado>=4 in /usr/local/lib/python3.6/dist-packages (from notebook->livelossplot) (4.5.3)\n",
            "Requirement already satisfied: traitlets>=4.2.1 in /usr/local/lib/python3.6/dist-packages (from notebook->livelossplot) (4.3.3)\n",
            "Requirement already satisfied: jinja2 in /usr/local/lib/python3.6/dist-packages (from notebook->livelossplot) (2.10.3)\n",
            "Requirement already satisfied: ipykernel in /usr/local/lib/python3.6/dist-packages (from notebook->livelossplot) (4.6.1)\n",
            "Requirement already satisfied: numpy>=1.11 in /usr/local/lib/python3.6/dist-packages (from matplotlib->livelossplot) (1.17.5)\n",
            "Requirement already satisfied: python-dateutil>=2.1 in /usr/local/lib/python3.6/dist-packages (from matplotlib->livelossplot) (2.6.1)\n",
            "Requirement already satisfied: kiwisolver>=1.0.1 in /usr/local/lib/python3.6/dist-packages (from matplotlib->livelossplot) (1.1.0)\n",
            "Requirement already satisfied: pyparsing!=2.0.4,!=2.1.2,!=2.1.6,>=2.0.1 in /usr/local/lib/python3.6/dist-packages (from matplotlib->livelossplot) (2.4.6)\n",
            "Requirement already satisfied: cycler>=0.10 in /usr/local/lib/python3.6/dist-packages (from matplotlib->livelossplot) (0.10.0)\n",
            "Requirement already satisfied: pyzmq>=13 in /usr/local/lib/python3.6/dist-packages (from jupyter-client->notebook->livelossplot) (17.0.0)\n",
            "Requirement already satisfied: jsonschema!=2.5.0,>=2.4 in /usr/local/lib/python3.6/dist-packages (from nbformat->notebook->livelossplot) (2.6.0)\n",
            "Requirement already satisfied: defusedxml in /usr/local/lib/python3.6/dist-packages (from nbconvert->notebook->livelossplot) (0.6.0)\n",
            "Requirement already satisfied: pygments in /usr/local/lib/python3.6/dist-packages (from nbconvert->notebook->livelossplot) (2.1.3)\n",
            "Requirement already satisfied: bleach in /usr/local/lib/python3.6/dist-packages (from nbconvert->notebook->livelossplot) (3.1.0)\n",
            "Requirement already satisfied: mistune<2,>=0.8.1 in /usr/local/lib/python3.6/dist-packages (from nbconvert->notebook->livelossplot) (0.8.4)\n",
            "Requirement already satisfied: entrypoints>=0.2.2 in /usr/local/lib/python3.6/dist-packages (from nbconvert->notebook->livelossplot) (0.3)\n",
            "Requirement already satisfied: pandocfilters>=1.4.1 in /usr/local/lib/python3.6/dist-packages (from nbconvert->notebook->livelossplot) (1.4.2)\n",
            "Requirement already satisfied: testpath in /usr/local/lib/python3.6/dist-packages (from nbconvert->notebook->livelossplot) (0.4.4)\n",
            "Requirement already satisfied: ptyprocess; os_name != \"nt\" in /usr/local/lib/python3.6/dist-packages (from terminado>=0.3.3; sys_platform != \"win32\"->notebook->livelossplot) (0.6.0)\n",
            "Requirement already satisfied: six in /usr/local/lib/python3.6/dist-packages (from traitlets>=4.2.1->notebook->livelossplot) (1.12.0)\n",
            "Requirement already satisfied: decorator in /usr/local/lib/python3.6/dist-packages (from traitlets>=4.2.1->notebook->livelossplot) (4.4.1)\n",
            "Requirement already satisfied: MarkupSafe>=0.23 in /usr/local/lib/python3.6/dist-packages (from jinja2->notebook->livelossplot) (1.1.1)\n",
            "Requirement already satisfied: ipython>=4.0.0 in /usr/local/lib/python3.6/dist-packages (from ipykernel->notebook->livelossplot) (5.5.0)\n",
            "Requirement already satisfied: setuptools in /usr/local/lib/python3.6/dist-packages (from kiwisolver>=1.0.1->matplotlib->livelossplot) (42.0.2)\n",
            "Requirement already satisfied: webencodings in /usr/local/lib/python3.6/dist-packages (from bleach->nbconvert->notebook->livelossplot) (0.5.1)\n",
            "Requirement already satisfied: pickleshare in /usr/local/lib/python3.6/dist-packages (from ipython>=4.0.0->ipykernel->notebook->livelossplot) (0.7.5)\n",
            "Requirement already satisfied: simplegeneric>0.8 in /usr/local/lib/python3.6/dist-packages (from ipython>=4.0.0->ipykernel->notebook->livelossplot) (0.8.1)\n",
            "Requirement already satisfied: prompt-toolkit<2.0.0,>=1.0.4 in /usr/local/lib/python3.6/dist-packages (from ipython>=4.0.0->ipykernel->notebook->livelossplot) (1.0.18)\n",
            "Requirement already satisfied: pexpect; sys_platform != \"win32\" in /usr/local/lib/python3.6/dist-packages (from ipython>=4.0.0->ipykernel->notebook->livelossplot) (4.7.0)\n",
            "Requirement already satisfied: wcwidth in /usr/local/lib/python3.6/dist-packages (from prompt-toolkit<2.0.0,>=1.0.4->ipython>=4.0.0->ipykernel->notebook->livelossplot) (0.1.8)\n"
          ],
          "name": "stdout"
        }
      ]
    },
    {
      "cell_type": "code",
      "metadata": {
        "id": "wSo283l6CLPM",
        "colab_type": "code",
        "outputId": "d801e0e8-65b2-479e-d423-bd1b38fd2f1e",
        "colab": {
          "base_uri": "https://localhost:8080/",
          "height": 343
        }
      },
      "source": [
        "\n",
        "!pip install efficientnet"
      ],
      "execution_count": 0,
      "outputs": [
        {
          "output_type": "stream",
          "text": [
            "Requirement already satisfied: efficientnet in /usr/local/lib/python3.6/dist-packages (1.0.0)\n",
            "Requirement already satisfied: scikit-image in /usr/local/lib/python3.6/dist-packages (from efficientnet) (0.16.2)\n",
            "Requirement already satisfied: keras-applications<=1.0.8,>=1.0.7 in /usr/local/lib/python3.6/dist-packages (from efficientnet) (1.0.8)\n",
            "Requirement already satisfied: PyWavelets>=0.4.0 in /usr/local/lib/python3.6/dist-packages (from scikit-image->efficientnet) (1.1.1)\n",
            "Requirement already satisfied: matplotlib!=3.0.0,>=2.0.0 in /usr/local/lib/python3.6/dist-packages (from scikit-image->efficientnet) (3.1.2)\n",
            "Requirement already satisfied: pillow>=4.3.0 in /usr/local/lib/python3.6/dist-packages (from scikit-image->efficientnet) (6.2.2)\n",
            "Requirement already satisfied: scipy>=0.19.0 in /usr/local/lib/python3.6/dist-packages (from scikit-image->efficientnet) (1.4.1)\n",
            "Requirement already satisfied: networkx>=2.0 in /usr/local/lib/python3.6/dist-packages (from scikit-image->efficientnet) (2.4)\n",
            "Requirement already satisfied: imageio>=2.3.0 in /usr/local/lib/python3.6/dist-packages (from scikit-image->efficientnet) (2.4.1)\n",
            "Requirement already satisfied: numpy>=1.9.1 in /usr/local/lib/python3.6/dist-packages (from keras-applications<=1.0.8,>=1.0.7->efficientnet) (1.17.5)\n",
            "Requirement already satisfied: h5py in /usr/local/lib/python3.6/dist-packages (from keras-applications<=1.0.8,>=1.0.7->efficientnet) (2.8.0)\n",
            "Requirement already satisfied: cycler>=0.10 in /usr/local/lib/python3.6/dist-packages (from matplotlib!=3.0.0,>=2.0.0->scikit-image->efficientnet) (0.10.0)\n",
            "Requirement already satisfied: python-dateutil>=2.1 in /usr/local/lib/python3.6/dist-packages (from matplotlib!=3.0.0,>=2.0.0->scikit-image->efficientnet) (2.6.1)\n",
            "Requirement already satisfied: kiwisolver>=1.0.1 in /usr/local/lib/python3.6/dist-packages (from matplotlib!=3.0.0,>=2.0.0->scikit-image->efficientnet) (1.1.0)\n",
            "Requirement already satisfied: pyparsing!=2.0.4,!=2.1.2,!=2.1.6,>=2.0.1 in /usr/local/lib/python3.6/dist-packages (from matplotlib!=3.0.0,>=2.0.0->scikit-image->efficientnet) (2.4.6)\n",
            "Requirement already satisfied: decorator>=4.3.0 in /usr/local/lib/python3.6/dist-packages (from networkx>=2.0->scikit-image->efficientnet) (4.4.1)\n",
            "Requirement already satisfied: six in /usr/local/lib/python3.6/dist-packages (from h5py->keras-applications<=1.0.8,>=1.0.7->efficientnet) (1.12.0)\n",
            "Requirement already satisfied: setuptools in /usr/local/lib/python3.6/dist-packages (from kiwisolver>=1.0.1->matplotlib!=3.0.0,>=2.0.0->scikit-image->efficientnet) (42.0.2)\n"
          ],
          "name": "stdout"
        }
      ]
    },
    {
      "cell_type": "code",
      "metadata": {
        "id": "asDeYkZdBunk",
        "colab_type": "code",
        "outputId": "6fcde7a6-1f18-4f95-a322-cf503867eeeb",
        "colab": {
          "base_uri": "https://localhost:8080/",
          "height": 80
        }
      },
      "source": [
        "%matplotlib inline\n",
        "import matplotlib.pyplot as plt\n",
        "import matplotlib.image as mpimg\n",
        "import tensorflow as tf\n",
        "from keras.preprocessing.image import ImageDataGenerator\n",
        "from keras.models import Sequential\n",
        "from keras.optimizers import RMSprop, SGD, Adam\n",
        "from keras.layers import Dense, Flatten, GlobalMaxPooling2D, Dropout\n",
        "from keras.callbacks import CSVLogger\n",
        "from livelossplot.keras import PlotLossesCallback\n",
        "import efficientnet.keras as efn\n",
        "import keras\n",
        "from keras.layers import Activation\n",
        "from keras.layers import LSTM, CuDNNLSTM\n",
        "from keras.preprocessing import image\n",
        "import numpy as np\n",
        "from keras.applications.inception_v3 import preprocess_input\n",
        "from keras.callbacks import EarlyStopping, ModelCheckpoint\n"
      ],
      "execution_count": 0,
      "outputs": [
        {
          "output_type": "display_data",
          "data": {
            "text/html": [
              "<p style=\"color: red;\">\n",
              "The default version of TensorFlow in Colab will soon switch to TensorFlow 2.x.<br>\n",
              "We recommend you <a href=\"https://www.tensorflow.org/guide/migrate\" target=\"_blank\">upgrade</a> now \n",
              "or ensure your notebook will continue to use TensorFlow 1.x via the <code>%tensorflow_version 1.x</code> magic:\n",
              "<a href=\"https://colab.research.google.com/notebooks/tensorflow_version.ipynb\" target=\"_blank\">more info</a>.</p>\n"
            ],
            "text/plain": [
              "<IPython.core.display.HTML object>"
            ]
          },
          "metadata": {
            "tags": []
          }
        },
        {
          "output_type": "stream",
          "text": [
            "Using TensorFlow backend.\n"
          ],
          "name": "stderr"
        }
      ]
    },
    {
      "cell_type": "markdown",
      "metadata": {
        "id": "QYTQD68H7fic",
        "colab_type": "text"
      },
      "source": [
        "# RNN part?"
      ]
    },
    {
      "cell_type": "markdown",
      "metadata": {
        "id": "o5nQJqPskqSg",
        "colab_type": "text"
      },
      "source": [
        "###  Importing from CSV"
      ]
    },
    {
      "cell_type": "code",
      "metadata": {
        "id": "OgJFXJmJlRaz",
        "colab_type": "code",
        "outputId": "f0c345a0-5400-4053-f067-7d0ae218049b",
        "colab": {
          "base_uri": "https://localhost:8080/",
          "height": 255
        }
      },
      "source": [
        "os.listdir()"
      ],
      "execution_count": 0,
      "outputs": [
        {
          "output_type": "execute_result",
          "data": {
            "text/plain": [
              "['train',\n",
              " 'valid',\n",
              " 'y_train_normal.npy',\n",
              " 'x_train_normal.npy',\n",
              " 'y_train_abnormal.npy',\n",
              " 'x_train_abnormal.npy',\n",
              " 'x_train.npy',\n",
              " 'y_train.npy',\n",
              " 'y_valid_normal.npy',\n",
              " 'x_valid_normal.npy',\n",
              " 'y_valid_abnormal.npy',\n",
              " 'x_valid_abnormal.npy',\n",
              " 'x_valid.npy',\n",
              " 'y_valid.npy']"
            ]
          },
          "metadata": {
            "tags": []
          },
          "execution_count": 7
        }
      ]
    },
    {
      "cell_type": "code",
      "metadata": {
        "id": "CxsOuK2RkpK4",
        "colab_type": "code",
        "colab": {}
      },
      "source": [
        "x_train = np.load('x_train.npy') \n",
        "y_train = np.load('y_train.npy') \n",
        "\n",
        "x_test = np.load('x_valid.npy')\n",
        "y_test = np.load('y_valid.npy')"
      ],
      "execution_count": 0,
      "outputs": []
    },
    {
      "cell_type": "code",
      "metadata": {
        "id": "E0zxMlyEoMS7",
        "colab_type": "code",
        "colab": {}
      },
      "source": [
        "# x_train = x_train/255.0\n",
        "# x_test = x_test/255.0"
      ],
      "execution_count": 0,
      "outputs": []
    },
    {
      "cell_type": "code",
      "metadata": {
        "id": "iiYmVUCFpNAS",
        "colab_type": "code",
        "colab": {}
      },
      "source": [
        "train_data = x_train\n",
        "validation_data = x_test"
      ],
      "execution_count": 0,
      "outputs": []
    },
    {
      "cell_type": "code",
      "metadata": {
        "id": "udC4xy14pDJH",
        "colab_type": "code",
        "colab": {}
      },
      "source": [
        "train_data = train_data.reshape(train_data.shape[0],\n",
        "                     train_data.shape[1] * train_data.shape[2],\n",
        "                     train_data.shape[3])\n",
        "validation_data = validation_data.reshape(validation_data.shape[0],\n",
        "                     validation_data.shape[1] * validation_data.shape[2],\n",
        "                     validation_data.shape[3])"
      ],
      "execution_count": 0,
      "outputs": []
    },
    {
      "cell_type": "code",
      "metadata": {
        "id": "pyp81NV7yPE0",
        "colab_type": "code",
        "colab": {}
      },
      "source": [
        "# LSTM\n",
        "model = Sequential()\n",
        "model.add(CuDNNLSTM(2024, input_shape=(train_data.shape[1:]), return_sequences=True ))\n",
        "model.add(Dropout(0.6))\n",
        "\n",
        "model.add(CuDNNLSTM(1028))\n",
        "model.add(Dropout(0.5))\n",
        "\n",
        "model.add(Dense(2024, activation='relu'))\n",
        "model.add(Dropout(0.5))\n",
        "\n",
        "model.add(Dense(1024, activation='relu'))\n",
        "model.add(Dropout(0.5))\n",
        "\n",
        "model.add(Dense(1024, activation='relu'))\n",
        "model.add(Dropout(0.5))\n",
        "\n",
        "model.add(Dense(128))\n",
        "model.add(Activation('relu'))\n",
        "model.add(Dropout(0.6))\n",
        "\n",
        "model.add(Dense(50))\n",
        "model.add(Activation('relu'))\n",
        "model.add(Dropout(0.5))\n",
        "\n",
        "model.add(Dense(1))\n",
        "model.add(Activation('sigmoid'))\n"
      ],
      "execution_count": 0,
      "outputs": []
    },
    {
      "cell_type": "code",
      "metadata": {
        "id": "9ZRlPJP-kjuv",
        "colab_type": "code",
        "outputId": "e8b89b5e-f2a5-4bed-f0cd-0024a69a8568",
        "colab": {
          "base_uri": "https://localhost:8080/",
          "height": 547
        }
      },
      "source": [
        "sgd = SGD(lr=0.00005, decay = 1e-5, momentum=0.9, nesterov=True)\n",
        "model.compile(optimizer=sgd, loss='binary_crossentropy', metrics=['accuracy'])\n",
        "\n",
        "callbacks = [ EarlyStopping(monitor='val_loss', patience=10, verbose=0), ModelCheckpoint('video_1_LSTM_1_1024.h5', monitor='val_loss', save_best_only=True, verbose=0) ]\n",
        "nb_epoch = 500\n",
        "batch_size = 64\n",
        "\n",
        "model.fit(train_data,y_train,validation_data=(validation_data,y_test),batch_size=batch_size,nb_epoch=nb_epoch,callbacks=callbacks,shuffle=True,verbose=1)\n"
      ],
      "execution_count": 0,
      "outputs": [
        {
          "output_type": "stream",
          "text": [
            "/usr/local/lib/python3.6/dist-packages/ipykernel_launcher.py:8: UserWarning: The `nb_epoch` argument in `fit` has been renamed `epochs`.\n",
            "  \n"
          ],
          "name": "stderr"
        },
        {
          "output_type": "stream",
          "text": [
            "Train on 6489 samples, validate on 834 samples\n",
            "Epoch 1/500\n",
            "6489/6489 [==============================] - 28s 4ms/step - loss: 0.6943 - acc: 0.5573 - val_loss: 0.6787 - val_acc: 0.6523\n",
            "Epoch 2/500\n",
            "6489/6489 [==============================] - 21s 3ms/step - loss: 0.6961 - acc: 0.5599 - val_loss: 0.6786 - val_acc: 0.6523\n",
            "Epoch 3/500\n",
            "6489/6489 [==============================] - 21s 3ms/step - loss: 0.6896 - acc: 0.5620 - val_loss: 0.6782 - val_acc: 0.6523\n",
            "Epoch 4/500\n",
            "6489/6489 [==============================] - 21s 3ms/step - loss: 0.6797 - acc: 0.5905 - val_loss: 0.6784 - val_acc: 0.6523\n",
            "Epoch 5/500\n",
            "6489/6489 [==============================] - 21s 3ms/step - loss: 0.6746 - acc: 0.5986 - val_loss: 0.6790 - val_acc: 0.6523\n",
            "Epoch 6/500\n",
            "6489/6489 [==============================] - 21s 3ms/step - loss: 0.6786 - acc: 0.5847 - val_loss: 0.6795 - val_acc: 0.6523\n",
            "Epoch 7/500\n",
            "6489/6489 [==============================] - 21s 3ms/step - loss: 0.6788 - acc: 0.5905 - val_loss: 0.6800 - val_acc: 0.6523\n",
            "Epoch 8/500\n",
            "6489/6489 [==============================] - 21s 3ms/step - loss: 0.6764 - acc: 0.5978 - val_loss: 0.6807 - val_acc: 0.6523\n",
            "Epoch 9/500\n",
            "6489/6489 [==============================] - 21s 3ms/step - loss: 0.6717 - acc: 0.6041 - val_loss: 0.6815 - val_acc: 0.6523\n",
            "Epoch 10/500\n",
            "6489/6489 [==============================] - 21s 3ms/step - loss: 0.6668 - acc: 0.6056 - val_loss: 0.6822 - val_acc: 0.6523\n",
            "Epoch 11/500\n",
            "6489/6489 [==============================] - 21s 3ms/step - loss: 0.6717 - acc: 0.6043 - val_loss: 0.6832 - val_acc: 0.6523\n",
            "Epoch 12/500\n",
            "6489/6489 [==============================] - 21s 3ms/step - loss: 0.6682 - acc: 0.6059 - val_loss: 0.6844 - val_acc: 0.6523\n",
            "Epoch 13/500\n",
            "6489/6489 [==============================] - 21s 3ms/step - loss: 0.6706 - acc: 0.6002 - val_loss: 0.6856 - val_acc: 0.6523\n"
          ],
          "name": "stdout"
        },
        {
          "output_type": "execute_result",
          "data": {
            "text/plain": [
              "<keras.callbacks.History at 0x7ff183ed5240>"
            ]
          },
          "metadata": {
            "tags": []
          },
          "execution_count": 51
        }
      ]
    },
    {
      "cell_type": "code",
      "metadata": {
        "id": "tQRdY6DZ42kG",
        "colab_type": "code",
        "outputId": "21416758-0a6d-4e71-c37e-89815f5b0ef0",
        "colab": {
          "base_uri": "https://localhost:8080/",
          "height": 231
        }
      },
      "source": [
        "data =[]\n",
        "target=[]\n",
        "epoch = 100\n",
        "batchS = 100\n",
        "for i in joint_transfer:\n",
        "    data.append(i)\n",
        "    target.append(np.array(i[1]))\n",
        "model.fit(data, target, epochs=epoch, batch_size=batchS, verbose=1)"
      ],
      "execution_count": 0,
      "outputs": [
        {
          "output_type": "error",
          "ename": "NameError",
          "evalue": "ignored",
          "traceback": [
            "\u001b[0;31m---------------------------------------------------------------------------\u001b[0m",
            "\u001b[0;31mNameError\u001b[0m                                 Traceback (most recent call last)",
            "\u001b[0;32m<ipython-input-26-04f29ed60ade>\u001b[0m in \u001b[0;36m<module>\u001b[0;34m()\u001b[0m\n\u001b[1;32m      3\u001b[0m \u001b[0mepoch\u001b[0m \u001b[0;34m=\u001b[0m \u001b[0;36m100\u001b[0m\u001b[0;34m\u001b[0m\u001b[0;34m\u001b[0m\u001b[0m\n\u001b[1;32m      4\u001b[0m \u001b[0mbatchS\u001b[0m \u001b[0;34m=\u001b[0m \u001b[0;36m100\u001b[0m\u001b[0;34m\u001b[0m\u001b[0;34m\u001b[0m\u001b[0m\n\u001b[0;32m----> 5\u001b[0;31m \u001b[0;32mfor\u001b[0m \u001b[0mi\u001b[0m \u001b[0;32min\u001b[0m \u001b[0mjoint_transfer\u001b[0m\u001b[0;34m:\u001b[0m\u001b[0;34m\u001b[0m\u001b[0;34m\u001b[0m\u001b[0m\n\u001b[0m\u001b[1;32m      6\u001b[0m     \u001b[0mdata\u001b[0m\u001b[0;34m.\u001b[0m\u001b[0mappend\u001b[0m\u001b[0;34m(\u001b[0m\u001b[0mi\u001b[0m\u001b[0;34m)\u001b[0m\u001b[0;34m\u001b[0m\u001b[0;34m\u001b[0m\u001b[0m\n\u001b[1;32m      7\u001b[0m     \u001b[0mtarget\u001b[0m\u001b[0;34m.\u001b[0m\u001b[0mappend\u001b[0m\u001b[0;34m(\u001b[0m\u001b[0mnp\u001b[0m\u001b[0;34m.\u001b[0m\u001b[0marray\u001b[0m\u001b[0;34m(\u001b[0m\u001b[0mi\u001b[0m\u001b[0;34m[\u001b[0m\u001b[0;36m1\u001b[0m\u001b[0;34m]\u001b[0m\u001b[0;34m)\u001b[0m\u001b[0;34m)\u001b[0m\u001b[0;34m\u001b[0m\u001b[0;34m\u001b[0m\u001b[0m\n",
            "\u001b[0;31mNameError\u001b[0m: name 'joint_transfer' is not defined"
          ]
        }
      ]
    },
    {
      "cell_type": "code",
      "metadata": {
        "id": "j7TKK-tLd5h4",
        "colab_type": "code",
        "colab": {}
      },
      "source": [
        "\n",
        "  \n",
        "# c.shape[0]"
      ],
      "execution_count": 0,
      "outputs": []
    },
    {
      "cell_type": "code",
      "metadata": {
        "id": "xdRwX28ndPu6",
        "colab_type": "code",
        "colab": {}
      },
      "source": [
        "for a in os.listdir('data/valid/Abnorm'):\n",
        "  npy = np.load(a)\n",
        "  \n",
        "\n",
        "  "
      ],
      "execution_count": 0,
      "outputs": []
    },
    {
      "cell_type": "code",
      "metadata": {
        "id": "oYVCMjXgVr0g",
        "colab_type": "code",
        "colab": {}
      },
      "source": [
        "def train(data_type='features', seq_length=40, model='lstm', saved_model=None,\n",
        "          class_limit=None, image_shape=None,\n",
        "          load_to_memory=False, batch_size=32, nb_epoch=100):\n",
        "  \n",
        "\n",
        "  # Get the data and process it.\n",
        "      data = DataSet(seq_length=seq_length, class_limit=class_limit)\n",
        "\n",
        "\n",
        "  # Get samples per epoch.\n",
        "  # Multiply by 0.7 to attempt to guess how much of data.data is the train set.\n",
        "  steps_per_epoch = (len(data.data) * 0.7) // batch_size\n",
        "\n",
        "  if load_to_memory:\n",
        "      # Get data.\n",
        "      X, y = data.get_all_sequences_in_memory('train', data_type)\n",
        "      X_test, y_test = data.get_all_sequences_in_memory('test', data_type)\n",
        "  else:\n",
        "      # Get generators.\n",
        "      generator = data.frame_generator(batch_size, 'train', data_type)\n",
        "      val_generator = data.frame_generator(batch_size, 'test', data_type)\n",
        "\n",
        "  # Get the model.\n",
        "  rm = LSTM()\n",
        "\n",
        "      # Use fit generator.\n",
        "  rm.model.fit_generator(\n",
        "      generator=generator,\n",
        "      steps_per_epoch=steps_per_epoch,\n",
        "      epochs=nb_epoch,\n",
        "      verbose=1,\n",
        "      callbacks=[tb, early_stopper, csv_logger, checkpointer],\n",
        "      validation_data=val_generator,\n",
        "      validation_steps=40,\n",
        "      workers=4)\n"
      ],
      "execution_count": 0,
      "outputs": []
    },
    {
      "cell_type": "markdown",
      "metadata": {
        "id": "ROAM68sHYjwF",
        "colab_type": "text"
      },
      "source": [
        ""
      ]
    },
    {
      "cell_type": "code",
      "metadata": {
        "scrolled": true,
        "id": "rKVWynTWBuoI",
        "colab_type": "code",
        "colab": {}
      },
      "source": [
        "# Testing\n",
        "probabilities = model.predict_generator(test_generator, TEST_SIZE)\n",
        "for index, probability in enumerate(probabilities):\n",
        "    image_path = test_data_dir + \"/\" +test_generator.filenames[index]\n",
        "    img = mpimg.imread(image_path)\n",
        "    plt.imshow(img)\n",
        "    if probability > 0.5:\n",
        "        plt.title(\"%.2f\" % (probability[0]*100) + \"% dog\")\n",
        "    else:\n",
        "        plt.title(\"%.2f\" % ((1-probability[0])*100) + \"% cat\")\n",
        "    plt.show()"
      ],
      "execution_count": 0,
      "outputs": []
    },
    {
      "cell_type": "code",
      "metadata": {
        "id": "Tvk5qjz_BuoK",
        "colab_type": "code",
        "colab": {}
      },
      "source": [
        ""
      ],
      "execution_count": 0,
      "outputs": []
    }
  ]
}